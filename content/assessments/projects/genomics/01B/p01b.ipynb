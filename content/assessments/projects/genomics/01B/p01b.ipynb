{
 "cells": [
  {
   "cell_type": "markdown",
   "metadata": {},
   "source": [
    "<h1 style=\"margin-bottom: 0.4em; text-align: center;\">\n",
    "    <b>Project 01</b><br>\n",
    "    Assignment B\n",
    "</h1>\n",
    "<h2 style=\"margin-top: 0.0em; text-align: center;\">\n",
    "    DNA sequencing\n",
    "</h2>\n",
    "\n",
    "<p style=\"text-align: center;\">\n",
    "    <object hspace=\"50\">\n",
    "        <strong>Due</strong></a>: Jan 24, 2025 by 11:59 p.m.\n",
    "    </object>\n",
    "    <object hspace=\"50\">\n",
    "        <strong>Points</strong></a>: 50\n",
    "    </object>\n",
    "</p>\n",
    "\n",
    "Before beginning, you need to set up an account on Galaxy and create a project for this assignment.\n",
    "Galaxy is a web-based platform for data-intensive biomedical research that will allow you to perform all the necessary analyses for this project.\n",
    "\n",
    "1.  Go to <https://usegalaxy.org/>\n",
    "2.  Click on the \"Login or Register\" button at the top.\n",
    "3.  If you don't have an account, click on \"Register here\" and fill out the registration form.\n",
    "    Make sure to use a valid email address as you'll need to verify it.\n",
    "4.  Once you've registered and logged in, click \"Create new history+\", name your new project, and provide a brief description if you wish.\n",
    "    Click `Create`.\n",
    "\n",
    "Always ensure you're working within your project for this assignment.\n",
    "This will help you keep your work organized and easily accessible.\n",
    "\n",
    "Galaxy will also save your work automatically, but it's a good practice to regularly check that your analyses are being saved correctly.\n",
    "\n",
    "If you encounter any issues with Galaxy, check their [support](https://galaxyproject.org/support/) and [training](https://training.galaxyproject.org/)."
   ]
  },
  {
   "cell_type": "markdown",
   "metadata": {},
   "source": [
    "## Q01\n",
    "\n",
    "In this problem, you'll download the assigned sequencing data for your parent and evolved isolate and download it to Galaxy.\n",
    "\n",
    "Set the `STUDENT_ID` variable in the cell below to your student ID number."
   ]
  },
  {
   "cell_type": "code",
   "execution_count": 1,
   "metadata": {},
   "outputs": [],
   "source": [
    "STUDENT_ID = 1111111"
   ]
  },
  {
   "cell_type": "markdown",
   "metadata": {},
   "source": [
    "Follow these instructions carefully:\n",
    "\n",
    "1.  Your instructor has assigned you [two SRA accession numbers for a parent and evolved isolate](https://canvas.pitt.edu/courses/291671/files/folder/assignments?preview=19462183). You can find this list [here on Canvas](https://canvas.pitt.edu/courses/291671/files/folder/assignments?preview=19462183).\n",
    "2.  In the Galaxy interface, click on `Tools` in the left sidebar.\n",
    "3.  In the search bar at the top of the Tools panel, type `Download and Extract Reads in FASTQ format from NCBI SRA` and click on it.\n",
    "4.  In the tool interface:\n",
    "    -   For `select input type`, choose `SRR accession`.\n",
    "    -   In the `Accession` field, enter your assigned SRA accession number.\n",
    "    -   Leave all other settings as default.\n",
    "5.  Click `Run Tool`.\n",
    "\n",
    "Copy and paste the first five FASTQ entries from your parent forward reads in the multiline string below."
   ]
  },
  {
   "cell_type": "code",
   "execution_count": 2,
   "metadata": {},
   "outputs": [],
   "source": [
    "PARENT_FASTQ_FIVE = \"\"\"\n",
    "\n",
    "\"\"\""
   ]
  },
  {
   "cell_type": "markdown",
   "metadata": {},
   "source": [
    "Copy and paste the first five FASTQ entries from your evolved forward reads in the multiline string below."
   ]
  },
  {
   "cell_type": "code",
   "execution_count": 3,
   "metadata": {},
   "outputs": [],
   "source": [
    "EVOLVED_FASTQ_FIVE = \"\"\"\n",
    "\n",
    "\"\"\""
   ]
  },
  {
   "cell_type": "markdown",
   "metadata": {},
   "source": [
    "## Q02\n",
    "\n",
    "Quality control is a crucial step in any sequencing data analysis.\n",
    "It helps you identify any issues with your sequencing data that might affect downstream analyses.\n",
    "We'll use FastQC, a widely used tool for quality control of high throughput sequencing data.\n",
    "\n",
    "1.  In the Galaxy interface, search for \"FastQC\" in the tools panel.\n",
    "2.  In the tool interface:\n",
    "    -   For `Raw read data from your current history`, select `Dataset Collection` and choose `Paired-end data (fastq-dump)`.\n",
    "    -   Leave all other settings as default.\n",
    "3.  Click `Run Tool` near the bottom.\n",
    "\n",
    "Do this for both you parent and evolved isolate.\n",
    "Once the job is complete, you'll see new items in your history for each FastQC report (Webpage and RawData).\n",
    "\n",
    "Click on the `FastQC on collection: RawData`.\n",
    "The report contains several modules, each assessing a different aspect of your sequence data.\n",
    "Please fill in the variables below.\n",
    "\n",
    "- `PARENT_FORWARD_PER_BASE_SEQ_QUALITY_1`: Under the line `>>Per base sequence quality\tpass` there is a table. You should put the value under the `Mean` column for `#Base` of 1.\n",
    "- `PARENT_FORWARD_PER_BASE_SEQ_QUALITY_LAST`: Under the line `>>Per base sequence quality\tpass` there is a table. You should put the value under the `Mean` column for the last row in the table.\n",
    "- `PARENT_FORWARD_PER_SEQ_GC_CONTENT_34`: Under the line `>>Per sequence GC content\tpass`, go to the `#GC Content` row and put the value under `Count`.\n",
    "- `PARENT_FORWARD_DUPLICATION_LEVEL_1`: Under the line `>>Sequence Duplication Levels\tpass`, under the `#Duplication Level` column of `1`, put the `Percentage of total`.\n",
    "- `PARENT_FORWARD_ADAPTER_CONTENT_UNIVERSAL_ADAPTER_LAST`: Under the line `>>Adapter Content\tpass`, go to the last row and put the value under the second column (`Illumina Universal Adapter`)."
   ]
  },
  {
   "cell_type": "code",
   "execution_count": 4,
   "metadata": {},
   "outputs": [],
   "source": [
    "PARENT_FORWARD_PER_BASE_SEQ_QUALITY_1 = 0.0\n",
    "PARENT_FORWARD_PER_BASE_SEQ_QUALITY_LAST = 0.0\n",
    "PARENT_FORWARD_PER_SEQ_GC_CONTENT_34 = 0.0\n",
    "PARENT_FORWARD_DUPLICATION_LEVEL_1 = 0.0\n",
    "PARENT_FORWARD_ADAPTER_CONTENT_UNIVERSAL_ADAPTER_LAST = 0.0"
   ]
  },
  {
   "cell_type": "code",
   "execution_count": 5,
   "metadata": {},
   "outputs": [],
   "source": [
    "EVOLVED_FORWARD_PER_BASE_SEQ_QUALITY_1 = 0.0\n",
    "EVOLVED_FORWARD_PER_BASE_SEQ_QUALITY_LAST = 0.0\n",
    "EVOLVED_FORWARD_PER_SEQ_GC_CONTENT_34 = 0.0\n",
    "EVOLVED_FORWARD_DUPLICATION_LEVEL_1 = 0.0\n",
    "EVOLVED_FORWARD_ADAPTER_CONTENT_UNIVERSAL_ADAPTER_LAST = 0.0"
   ]
  },
  {
   "cell_type": "markdown",
   "metadata": {},
   "source": [
    "## Q03\n",
    "\n",
    "After assessing the quality of your raw sequencing data, the next step is to trim adapters and perform quality control.\n",
    "We'll use fastp, a fast all-in-one preprocessing tool for FASTQ files.\n",
    "\n",
    "1.  In the Galaxy interface, search for \"fastp\" in the tools panel.\n",
    "2.  Click on \"fastp: fast all-in-one preprocessing for FASTQ files\".\n",
    "3.  In the tool interface, set the following parameters:\n",
    "    -   \"Single-end or paired reads\": Select \"Paired Collection\".\n",
    "    -   \"Select paired collection(s)\": Choose your paired-end reads.\n",
    "4.  Click \"Run Tool\".\n",
    "\n",
    "Do this for both you parent and evolved isolate.\n",
    "\n",
    "Click on the eye icon next to the HTML report to view it.\n",
    "The report contains information about the trimming and filtering process.\n",
    "\n",
    "Please fill out the following information"
   ]
  },
  {
   "cell_type": "code",
   "execution_count": 6,
   "metadata": {},
   "outputs": [],
   "source": [
    "PARENT_INSERT_SIZE_PEAK = 0.0\n",
    "PARENT_TOTAL_READS_BEFORE = 0.0\n",
    "PARENT_TOTAL_READS_AFTER = 0.0\n",
    "PARENT_GC_AFTER_FILTERING = 0.0\n",
    "PARENT_ADAPTER_PERCENTAGE_READ1 = 0.0"
   ]
  },
  {
   "cell_type": "code",
   "execution_count": 7,
   "metadata": {},
   "outputs": [],
   "source": [
    "EVOLVED_INSERT_SIZE_PEAK = 0.0\n",
    "EVOLVED_TOTAL_READS_BEFORE = 0.0\n",
    "EVOLVED_TOTAL_READS_AFTER = 0.0\n",
    "EVOLVED_GC_AFTER_FILTERING = 0.0\n",
    "EVOLVED_ADAPTER_PERCENTAGE_READ1 = 0.0"
   ]
  },
  {
   "cell_type": "markdown",
   "metadata": {},
   "source": [
    "## Q04\n",
    "\n",
    "You have run a sequencing dataset through FastQC and observed the following:\n",
    "\n",
    "1. A significant drop in quality scores at the 3' end of reads.\n",
    "2. A GC content distribution that is slightly bimodal.\n",
    "3. High duplication levels for several reads.\n",
    "\n",
    "Explain the possible causes of these observations and suggest preprocessing steps to address each issue.\n",
    "\n",
    "---"
   ]
  },
  {
   "cell_type": "markdown",
   "metadata": {},
   "source": [
    "Put your answer here."
   ]
  },
  {
   "cell_type": "markdown",
   "metadata": {},
   "source": [
    "## Q05\n",
    "\n",
    "A genome exhibits an single GC content peak at 70%.\n",
    "Discuss how this might affect sequencing accuracy, amplification efficiency, and downstream analysis.\n",
    "Provide two potential strategies to mitigate these challenges.\n",
    "\n",
    "---"
   ]
  },
  {
   "cell_type": "markdown",
   "metadata": {},
   "source": [
    "Put your answer here."
   ]
  },
  {
   "cell_type": "markdown",
   "metadata": {},
   "source": [
    "## Q06\n",
    "\n",
    "Write a Python function `calculate_average_quality` that takes a list of quality strings from a FASTQ file as input and returns the average Phred quality score for all the reads combined.  \n",
    "\n",
    "**Input Example:**\n",
    "\n",
    "```python\n",
    "[\"47287653825380557902185865586\", \"GGDIHIFGEHGGIGGIHGFGIIFIHF\", \":<B;<;;5<;6;@9:?=8:@<9>9>=<:<A;?>=;:\"]\n",
    "```\n",
    "\n",
    "**Expected Output:**\n",
    "\n",
    "```python\n",
    "27.945054945054945\n",
    "```\n",
    "\n",
    "**Details:**  \n",
    "\n",
    "1. Each quality string corresponds to one read.\n",
    "2. Use the Phred quality formula to convert ASCII characters to quality scores.\n",
    "3. Calculate the average of all scores across all reads.\n"
   ]
  },
  {
   "cell_type": "code",
   "execution_count": null,
   "metadata": {},
   "outputs": [],
   "source": [
    "def calculate_average_quality(quality_strings: list[str]) -> float:\n",
    "    \"\"\"\n",
    "    Calculates the average Phred quality score across all reads.\n",
    "\n",
    "    Args:\n",
    "        quality_strings: List of quality strings from a FASTQ file.\n",
    "\n",
    "    Returns:\n",
    "        The average Phred quality score.\n",
    "    \"\"\"\n",
    "    total_score = 0\n",
    "    total_bases = 0\n",
    "\n",
    "    # TODO: Compute the average score\n",
    "    average_score = 0\n",
    "\n",
    "    return average_score"
   ]
  }
 ],
 "metadata": {
  "kernelspec": {
   "display_name": "default",
   "language": "python",
   "name": "python3"
  },
  "language_info": {
   "codemirror_mode": {
    "name": "ipython",
    "version": 3
   },
   "file_extension": ".py",
   "mimetype": "text/x-python",
   "name": "python",
   "nbconvert_exporter": "python",
   "pygments_lexer": "ipython3",
   "version": "3.12.8"
  }
 },
 "nbformat": 4,
 "nbformat_minor": 2
}
