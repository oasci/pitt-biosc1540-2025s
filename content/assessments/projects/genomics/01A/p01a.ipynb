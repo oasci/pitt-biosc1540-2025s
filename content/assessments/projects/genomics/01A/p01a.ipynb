{
 "cells": [
  {
   "cell_type": "markdown",
   "metadata": {},
   "source": [
    "<h1 style=\"margin-bottom: 0.4em; text-align: center;\">\n",
    "    <b>Project 01</b><br>\n",
    "    Assignment A\n",
    "</h1>\n",
    "<h2 style=\"margin-top: 0.0em; text-align: center;\">\n",
    "    Python basics\n",
    "</h2>\n",
    "\n",
    "<p style=\"text-align: center;\">\n",
    "    <object hspace=\"50\">\n",
    "        <strong>Due</strong></a>: Jan 17, 2025 by 11:59 p.m.\n",
    "    </object>\n",
    "    <object hspace=\"50\">\n",
    "        <strong>Points</strong></a>: 25\n",
    "    </object>\n",
    "</p>\n",
    "\n",
    "This assignment is designed to help you start building a foundation in Python programming, a skill that will be invaluable as we explore computational techniques and their applications in biology.\n",
    "Whether you are new to programming or already have some experience, this assignment will provide the opportunity to practice essential coding skills and gain confidence in writing Python code.\n",
    "\n",
    "Remember that programming is a skill that improves with practice, so take your time, experiment with different approaches, and don't hesitate to seek help from the [teaching team](https://pitt-biosc1540-2025s.oasci.org/team/) if you encounter difficulties.\n",
    "Happy coding!\n",
    "\n",
    "## Submitting to Gradescope\n",
    "\n",
    "To submit your assignment, follow these steps:\n",
    "\n",
    "1. Open your coding environment (e.g., Jupyter Notebook, VS Code, PyCharm, or any text editor you’re using).\n",
    "2. Ensure your code is complete, well-commented, and saved in a `.py` file format. For example, name your file something like `assignment4.py`.\n",
    "   - If you're working in Jupyter Notebook, you can export your file as a Python script by selecting **File > Download as > Python (.py)**.\n",
    "3. Double-check that the file contains all your completed functions and is ready for grading.\n",
    "4. Log in to Gradescope and navigate to the appropriate course and assignment.\n",
    "5. Click on the \"Submit\" button for the assignment.\n",
    "6. Upload your `.py` file by dragging it into the submission area or using the file picker.\n",
    "7. Wait for the confirmation that your file has been successfully uploaded. You may also see an automated output check or feedback after submission (if enabled).\n",
    "\n",
    "You have unlimited submissions before the deadline."
   ]
  },
  {
   "cell_type": "markdown",
   "metadata": {},
   "source": [
    "## Kaggle learn\n",
    "\n",
    "To begin, please complete the following interactive lessons on [Kaggle Learn](https://www.kaggle.com/learn).\n",
    "\n",
    "-   For **[Intro to Programming](https://www.kaggle.com/learn/intro-to-programming)**, please complete the [Arithmetic and Variables](https://www.kaggle.com/code/alexisbcook/arithmetic-and-variables), [Functions](https://www.kaggle.com/code/alexisbcook/functions), [Data Types](https://www.kaggle.com/code/alexisbcook/data-types), and [Conditions and Conditional Statements](https://www.kaggle.com/code/alexisbcook/conditions-and-conditional-statements).\n",
    "-   For **[Python](https://www.kaggle.com/learn/python)**, please complete [Hello, Python](https://www.kaggle.com/code/colinmorris/hello-python), [Functions and Getting Help](https://www.kaggle.com/code/colinmorris/functions-and-getting-help), and [Booleans and Conditionals](https://www.kaggle.com/code/colinmorris/booleans-and-conditionals).\n",
    "\n",
    "You only need to complete the Tutorials for each aforementioned lessons.\n",
    "(Doing the Lesson Exercises can be helpful, but is not strictly required.)"
   ]
  },
  {
   "cell_type": "markdown",
   "metadata": {},
   "source": [
    "## Q01\n",
    "\n",
    "Change `\"Your message here!\"` to use a different message.\n",
    "For instance, you might like to change it to something like: `print(\"Good morning!\")`.\n",
    "\n",
    "Or, you might like to see what happens if you write something like `print(\"3+4\")`. \n",
    "Does it return 7, or does it just think of `\"3+4\"` as just another message?\n",
    "\n",
    "Make sure that your message is enclosed in quotation marks (`\"`), and the message itself does not use quotation marks.\n",
    "For instance, this will throw an error: `print(\"She said \"great job\" and gave me a high-five!\")` because the message contains quotation marks.\n",
    "\n",
    "Feel free to try out multiple messages!"
   ]
  },
  {
   "cell_type": "code",
   "execution_count": null,
   "metadata": {},
   "outputs": [],
   "source": [
    "print(\"Your message here!\")"
   ]
  },
  {
   "cell_type": "markdown",
   "metadata": {},
   "source": [
    "## Q02\n",
    "\n",
    "A comment in Python has a pound sign (`#`) in front of it, which tells Python to ignore the text after it.\n",
    "\n",
    "Putting a pound sign in front of a line of code will make Python ignore that code.\n",
    "For instance, this line would be ignored by Python, and nothing would appear in the output:\n",
    "\n",
    "```python\n",
    "# print(1+2)\n",
    "```\n",
    "\n",
    "Removing the pound sign will make it so that you can run the code again.\n",
    "When we remove the pound sign in front of a line of code, we call this **uncommenting**.\n",
    "\n",
    "Comment out the line `print(\"Every Villain Is Lemons\")` and uncomment `print(\"Please, print me.\")`.\n",
    "This should result in `\"Please, print me.\"` being printed."
   ]
  },
  {
   "cell_type": "code",
   "execution_count": null,
   "metadata": {},
   "outputs": [],
   "source": [
    "# print(\"Please, print me.\")\n",
    "print(\"Every Villain Is Lemons\")"
   ]
  },
  {
   "cell_type": "markdown",
   "metadata": {},
   "source": [
    "## Q03\n",
    "\n",
    "In the tutorial, you defined several variables to calculate the total number of seconds in a year.\n",
    "Run the next code cell to do the calculation here."
   ]
  },
  {
   "cell_type": "code",
   "execution_count": null,
   "metadata": {},
   "outputs": [],
   "source": [
    "# Create variables\n",
    "num_years = 4\n",
    "days_per_year = 365\n",
    "hours_per_day = 24\n",
    "mins_per_hour = 60\n",
    "secs_per_min = 60\n",
    "\n",
    "# Calculate number of seconds in four years\n",
    "total_secs = None"
   ]
  },
  {
   "cell_type": "markdown",
   "metadata": {},
   "source": [
    "Use the next code cell to:\n",
    "\n",
    "-   Define a variable `births_per_min` and set it to 250."
   ]
  },
  {
   "cell_type": "code",
   "execution_count": 4,
   "metadata": {},
   "outputs": [],
   "source": [
    "births_per_min = None"
   ]
  },
  {
   "cell_type": "markdown",
   "metadata": {},
   "source": [
    "Now, compute how many babies are born in one year using `births_per_min` and store it in the variable `births_per_year`."
   ]
  },
  {
   "cell_type": "code",
   "execution_count": null,
   "metadata": {},
   "outputs": [],
   "source": []
  },
  {
   "cell_type": "markdown",
   "metadata": {},
   "source": [
    "## Q04\n",
    "\n",
    "You are trying to figure out what your letter grade in your class would be given a percentage.\n",
    "Suppose that the class is using the following scale:\n",
    "\n",
    "-   A: 90.0 to 100.0,\n",
    "-   B: 80.0 to 89.9,\n",
    "-   C: 70.0 to 79.9,\n",
    "-   D: 60.0 to 69.9,\n",
    "-   F: 0.0 to 59.9.\n",
    "\n",
    "Write a function called `calculate_grade` that returns your letter grade given any `percentage`.\n",
    "For example, to return `\"A\"` you would write\n",
    "\n",
    "```python\n",
    "if percentage >= 90.0:\n",
    "    return \"A\"\n",
    "```"
   ]
  },
  {
   "cell_type": "code",
   "execution_count": 6,
   "metadata": {},
   "outputs": [],
   "source": [
    "def calculate_grade(percentage):\n",
    "    \"\"\"Determine the letter grade based on the given percentage.\n",
    "\n",
    "    Args:\n",
    "        percentage: The percentage score for which to calculate the grade.\n",
    "            This value should be between 0.0 and 100.0.\n",
    "\n",
    "    Returns:\n",
    "        The letter grade corresponding to the percentage:\n",
    "    \"\"\"\n",
    "    return None"
   ]
  },
  {
   "cell_type": "markdown",
   "metadata": {},
   "source": [
    "Example test cases and expected outputs:\n",
    "\n",
    "```python\n",
    "print(calculate_grade(95.0))  # Output: \"A\" (95.0 is between 90.0 and 100.0)\n",
    "print(calculate_grade(82.5))  # Output: \"B\" (82.5 is between 80.0 and 89.9)\n",
    "print(calculate_grade(74.0))  # Output: \"C\" (74.0 is between 70.0 and 79.9)\n",
    "print(calculate_grade(90.0))  # Output: \"A\" (90.0 is the minimum for an \"A\")\n",
    "print(calculate_grade(0.0))   # Output: \"F\" (0.0 is the lowest possible score)\n",
    "```"
   ]
  },
  {
   "cell_type": "markdown",
   "metadata": {},
   "source": [
    "## Q05\n",
    "\n",
    "Imagine you're managing a fruit stand and need to calculate the total cost for a customer's purchase.\n",
    "At your stand, each apple costs $0.50, and each banana costs $0.30.\n",
    "Your goal is to write a program that calculates the total cost based on how many apples and bananas the customer wants to buy.\n",
    "\n",
    "Write a function named `calculate_total_cost` that:\n",
    "\n",
    "1. Takes two arguments: `num_apples` (an integer) and `num_bananas` (an integer).\n",
    "2. Calculates the total cost by multiplying the number of apples by their price and the number of bananas by their price.\n",
    "3. Returns the total cost as a float."
   ]
  },
  {
   "cell_type": "code",
   "execution_count": 7,
   "metadata": {},
   "outputs": [],
   "source": [
    "def calculate_total_cost(num_apples: int, num_bananas: int) -> float:\n",
    "    \"\"\"Calculate the total cost of apples and bananas.\n",
    "\n",
    "    Args:\n",
    "        num_apples: Number of apples.\n",
    "        num_bananas: Number of bananas.\n",
    "\n",
    "    Returns:\n",
    "        Total cost of the purchase.\n",
    "    \"\"\"\n",
    "    return None"
   ]
  },
  {
   "cell_type": "markdown",
   "metadata": {},
   "source": [
    "Example test cases and expected outputs:\n",
    "\n",
    "```python\n",
    "print(calculate_total_cost(4, 5))   # Output: 3.5\n",
    "print(calculate_total_cost(0, 10))  # Output: 3.0\n",
    "print(calculate_total_cost(7, 0))   # Output: 3.5\n",
    "print(calculate_total_cost(3, 2))   # Output: 2.1\n",
    "print(calculate_total_cost(1, 1))   # Output: 0.8\n",
    "```"
   ]
  },
  {
   "cell_type": "markdown",
   "metadata": {},
   "source": [
    "## Q06\n",
    "\n",
    "In this task, you’ll create a mathematical utility function to perform a simple computation.\n",
    "The function will take two numbers as input, square the first number, add the second number, and return the result.\n",
    "\n",
    "Write a function named `square_and_add` that:\n",
    "\n",
    "1. Accepts two arguments: `x` and `y` (both integers or floats).\n",
    "2. Squares the value of `x`.\n",
    "3. Adds `y` to the squared value.\n",
    "4. Returns the computed result.\n"
   ]
  },
  {
   "cell_type": "code",
   "execution_count": 8,
   "metadata": {},
   "outputs": [],
   "source": [
    "def square_and_add(x: float, y: float) -> float:\n",
    "    \"\"\"Square the first number and add the second number.\n",
    "\n",
    "    Args:\n",
    "        x: The number to square.\n",
    "        y: The number to add.\n",
    "\n",
    "    Returns:\n",
    "        The result of squaring x and adding y.\n",
    "    \"\"\"\n",
    "    return None"
   ]
  },
  {
   "cell_type": "markdown",
   "metadata": {},
   "source": [
    "Here are some example outputs.\n",
    "\n",
    "```python\n",
    "print(square_and_add(3, 5))    # Output: 14\n",
    "print(square_and_add(-2, 10))  # Output: 14\n",
    "print(square_and_add(0, 7))    # Output: 7\n",
    "print(square_and_add(1.5, 2))  # Output: 4.25\n",
    "print(square_and_add(4, -3))   # Output: 13\n",
    "```\n"
   ]
  },
  {
   "cell_type": "markdown",
   "metadata": {},
   "source": [
    "## Q07\n",
    "\n",
    "Imagine you're writing a program to greet people based on the time of day.\n",
    "The program will ask for the current hour in a 24-hour format and provide an appropriate greeting: `\"Good morning!\"`, `\"Good afternoon!\"`, or `\"Good evening!\"`.\n",
    "\n",
    "Write a function named `greet_by_time` that:\n",
    "\n",
    "1. Takes one argument, `hour`, representing the time in 24-hour format as an integer (0–23).\n",
    "2. Returns a string greeting:\n",
    "   - `\"Good morning!\"` if the hour is between 0 and 11.\n",
    "   - `\"Good afternoon!\"` if the hour is between 12 and 18.\n",
    "   - `\"Good evening!\"` if the hour is between 19 and 23.\n",
    "   - `\"Invalid time!\"` if the hour is not in the valid range.\n"
   ]
  },
  {
   "cell_type": "code",
   "execution_count": 9,
   "metadata": {},
   "outputs": [],
   "source": [
    "def greet_by_time(hour: float) -> str:\n",
    "    \"\"\"Provide a greeting based on the time of day.\n",
    "\n",
    "    Args:\n",
    "        hour: The current hour in 24-hour format.\n",
    "\n",
    "    Returns:\n",
    "        A greeting message.\n",
    "    \"\"\"\n",
    "    return None"
   ]
  },
  {
   "cell_type": "markdown",
   "metadata": {},
   "source": [
    "Here are some example outputs.\n",
    "\n",
    "```python\n",
    "print(greet_by_time(2))   # Output: \"Good morning!\"\n",
    "print(greet_by_time(22))  # Output: \"Good evening!\"\n",
    "print(greet_by_time(-1))  # Output: \"Invalid time!\"\n",
    "```"
   ]
  }
 ],
 "metadata": {
  "kernelspec": {
   "display_name": "default",
   "language": "python",
   "name": "python3"
  },
  "language_info": {
   "codemirror_mode": {
    "name": "ipython",
    "version": 3
   },
   "file_extension": ".py",
   "mimetype": "text/x-python",
   "name": "python",
   "nbconvert_exporter": "python",
   "pygments_lexer": "ipython3",
   "version": "3.12.8"
  }
 },
 "nbformat": 4,
 "nbformat_minor": 2
}
