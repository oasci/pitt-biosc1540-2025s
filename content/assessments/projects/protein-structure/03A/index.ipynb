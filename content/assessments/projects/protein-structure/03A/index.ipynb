{
 "cells": [
  {
   "cell_type": "markdown",
   "metadata": {},
   "source": [
    "<h1 style=\"margin-bottom: 0.4em; text-align: center;\">\n",
    "    <b>Project 03</b><br>\n",
    "    Assignment A\n",
    "</h1>\n",
    "\n",
    "<p style=\"text-align: center;\">\n",
    "    <object hspace=\"50\">\n",
    "        <strong>Due</strong></a>: Apr 4, 2025 by 11:59 p.m.\n",
    "    </object>\n",
    "    <object hspace=\"50\">\n",
    "        <strong>Points</strong></a>: 100\n",
    "    </object>\n",
    "</p>\n",
    "\n",
    "Dihydrofolate reductase (DHFR) is a key enzyme in synthesizing tetrahydrofolate, an essential cofactor required for synthesizing purines, thymidylate, and certain amino acids.\n",
    "By catalyzing the reduction of dihydrofolate to tetrahydrofolate, DHFR facilitates critical reactions necessary for cell growth and proliferation.\n",
    "\n",
    "Consequently, DHFR is a pivotal target for antibiotics, particularly against bacterial pathogens, and chemotherapeutic agents aimed at rapidly dividing cancer cells.\n",
    "DHFR inhibitors typically function through competitive inhibition, binding to the enzyme's active site and preventing substrate access.\n",
    "These inhibitors often structurally resemble the natural substrate, dihydrofolate, allowing effective competitive binding.\n",
    "Notable DHFR-targeting drugs include methotrexate, used in chemotherapy; trimethoprim, widely used as an antibiotic; and pyrimethamine, an antiprotozoal medication.\n",
    "\n",
    "Although the enzyme's structure is conserved across species, variations exist that determine its specificity, affinity, and susceptibility to inhibitors.\n",
    "Understanding these structural differences helps researchers design targeted therapies against pathogenic organisms while minimizing effects on human enzymes.\n",
    "In this assignment, you will use PyMOL to retrieve, visualize, and analyze DHFR structures from three sources: humans (*Homo sapiens*), bacteria (*Staphylococcus aureus*), and protozoa (*Toxoplasma gondii*)."
   ]
  },
  {
   "cell_type": "markdown",
   "metadata": {},
   "source": [
    "## Q01\n",
    "\n",
    "**Points:** 20\n",
    "\n",
    "Retrieve the DHFR structures for Homo sapiens, Staphylococcus aureus, and Toxoplasma gondii using their respective PDB IDs.\n",
    "Download the structures in .pdb format from the Protein Data Bank and load them into PyMOL.\n",
    "You can also use the [`fetch`](https://pymolwiki.org/index.php/Fetch) command with the PDB IDs.\n",
    "\n",
    "-   *Homo sapiens* (UniProt ID: [`P00374`](https://www.uniprot.org/uniprotkb/P00374), PDB ID: [`4M6K`](https://www.rcsb.org/structure/4M6K))\n",
    "-   *Staphylococcus aureus* (UniProt ID: [`P0A017`](https://www.uniprot.org/uniprotkb/P0A017), PDB ID: [`3FRD`](https://www.rcsb.org/structure/3FRD))\n",
    "-   *Toxoplasma gondii* (UniProt ID: [`Q07422`](https://www.uniprot.org/uniprotkb/Q07422), PDB ID: [`4EIL`](https://www.rcsb.org/structure/4EIL))\n",
    "\n",
    "Once loaded, remove all water molecules to clean up the structures.\n",
    "\n",
    "Examine the Full Validation Report for each structure on the PDB website.\n",
    "Assess the structural quality of different chains within each PDB file and determine which chain is the highest quality.\n",
    "This evaluation should be based on geometric validation statistics, particularly the \"Quality of Chain\" table found in the \"Overall quality at a glance\" section.\n",
    "Select the chain that has the fewest geometric outliers and the highest percentage of quality markers.\n",
    "\n",
    "Once you have determined the best chain for each structure, record your selections for later analysis.\n",
    "Your should describe the criteria you used to evaluate chain quality and justify your selection for each species.\n",
    "\n",
    "**PUT YOUR EXPLANATIONS HERE**"
   ]
  },
  {
   "cell_type": "code",
   "execution_count": null,
   "metadata": {},
   "outputs": [],
   "source": [
    "HS_CHAIN = \"\"\n",
    "SA_CHAIN = \"\"\n",
    "TG_CHAIN = \"\""
   ]
  },
  {
   "cell_type": "markdown",
   "metadata": {},
   "source": [
    "## Q02\n",
    "\n",
    "**Points:** 20\n",
    "\n",
    "Using PyMOL, select all DHFR-relevant ligands in each structure and expand the selection by 8 Angstroms to capture the surrounding residues.\n",
    "Ensure your selection is properly constrained to a single model, as multiple structures might be included by default.\n",
    "If necessary, refine the selection by excluding other unintentionally included objects.\n",
    "\n",
    "After defining your selections, rename them appropriately for clarity (e.g., `4M6K-8ang`).\n",
    "\n",
    "After making these selections, you should [`align`](https://pymolwiki.org/index.php/Align) your `3FRD` and `4EIL` selections to your `4M6K` selections.\n",
    "For example, if your selections were `4M6K-8ang` and `4EIL-8ang`, you would run the following command at the bottom of PyMOL>\n",
    "\n",
    "```bash\n",
    "align 4EIL-8ang, 4M6K-8ang\n",
    "```\n",
    "\n",
    "Your PyMOL session should look like this after aligning both.\n",
    "\n",
    "<img src=\"https://raw.githubusercontent.com/oasci/pitt-biosc1540-2025s/refs/heads/main/content/assessments/projects/protein-structure/03A/img/dhfr-algined.png\" alt=\"Alt Text\" height=\"400\">\n",
    "\n",
    "Note that your colors may vary based on the order you loaded your structures in.\n",
    "\n",
    "Upon execution, the alignment output will include the RMSD values, which quantify the structural deviation between the aligned molecules.\n",
    "\n",
    "```text\n",
    "Match: read scoring matrix.\n",
    "Match: assigning 187 x 171 pairwise scores.\n",
    "MatchAlign: aligning residues (187 vs 171)...\n",
    "MatchAlign: score 128.000\n",
    "ExecutiveAlign: 85 atoms aligned.\n",
    "Executive: RMSD =    0.918 (62 to 62 atoms)\n",
    "Executive: object \"aln_4M6K_to_Ligand-8-ang\" created.\n",
    "```\n",
    "\n",
    "The `Executive: RMSD =    0.918 (62 to 62 atoms)` line will contain the RMSD for for that object.\n",
    "Put these values as the variables below where `SA_RMSD` is the `3FRD` RMSD with respect to `4M6K`."
   ]
  },
  {
   "cell_type": "code",
   "execution_count": null,
   "metadata": {},
   "outputs": [],
   "source": [
    "SA_RMSD = 0.0\n",
    "TG_RMSD = 0.0"
   ]
  },
  {
   "cell_type": "markdown",
   "metadata": {},
   "source": [
    "## Q03\n",
    "\n",
    "**Points:** 20\n",
    "\n",
    "Switch the visualization mode to a licorice or stick representation for the ligands and active site residues in PyMOL.\n",
    "We will carefully observe the interactions between these residues and the ligands.\n",
    "\n",
    "You can use PyMOL commands to easily select residues.\n",
    "For example,\n",
    "\n",
    "```bash\n",
    "select model 4M6K and resi 30\n",
    "```\n",
    "\n",
    "would select `Glu30` on the human DHFR.\n",
    "Then you can run to center PyMOL on the selection.\n",
    "\n",
    "```bash\n",
    "center sele\n",
    "```\n",
    "\n",
    "Please fill out the following dictionary where the keys are `4M6K` residues and the values will be used to store the amino acid three-letter abbreviation and index.\n",
    "We filled out the first one for `Glu30` to show you an example."
   ]
  },
  {
   "cell_type": "code",
   "execution_count": null,
   "metadata": {},
   "outputs": [],
   "source": [
    "residues_aligned = {\n",
    "    \"Glu30\": {\"3FRD\": \"Asp27\", \"4EIL\": \"Asp31\"},\n",
    "    \"Phe31\": {\"3FRD\": \"\", \"4EIL\": \"\"},\n",
    "    \"Arg32\": {\"3FRD\": \"\", \"4EIL\": \"\"},\n",
    "    \"Tyr33\": {\"3FRD\": \"\", \"4EIL\": \"\"},\n",
    "    \"Lys68\": {\"3FRD\": \"\", \"4EIL\": \"\"},\n",
    "    \"Thr136\": {\"3FRD\": \"\", \"4EIL\": \"\"},\n",
    "}"
   ]
  },
  {
   "cell_type": "markdown",
   "metadata": {},
   "source": [
    "## Q04\n",
    "\n",
    "**Points:** 20\n",
    "\n",
    "Using your structural analysis, examine the following amino acid residues and answer the corresponding questions regarding their conservation, structural importance, and potential effects of mutations.\n",
    "Explain based on their biophysical properties and functional roles in the enzyme.\n",
    "Note that these residues labels are with respect to `4M6K`."
   ]
  },
  {
   "cell_type": "markdown",
   "metadata": {},
   "source": [
    "### Part A\n",
    "\n",
    "Consider `Glu30` and `Thr136`.\n",
    "Why might these residues be conserved across species, while `Tyr33` is not?\n",
    "Explain based on their biophysical properties and functional roles in the enzyme.\n",
    "\n",
    "**PUT YOUR ANSWER HERE**"
   ]
  },
  {
   "cell_type": "markdown",
   "metadata": {},
   "source": [
    "### Part B\n",
    "\n",
    "`Phe31` is conserved in all three DHFR structures.\n",
    "Why would this residue be consistently maintained?\n",
    "Discuss its role in structural stability and/or ligand interactions.\n",
    "\n",
    "**PUT YOUR ANSWER HERE**"
   ]
  },
  {
   "cell_type": "markdown",
   "metadata": {},
   "source": [
    "### Part C\n",
    "\n",
    "`Arg32` is mutated into a different amino acid in one or more species.\n",
    "Evaluate whether this mutation significantly impacts enzyme function, considering the role of arginine and its possible substitutions.\n",
    "\n",
    "**PUT YOUR ANSWER HERE**"
   ]
  },
  {
   "cell_type": "markdown",
   "metadata": {},
   "source": [
    "### Part D\n",
    "\n",
    "Examine `Lys68` and discuss whether mutations at this position would be significant.\n",
    "Compare this to the `Arg32` mutations and determine whether one mutation has a greater potential impact than the other.\n",
    "\n",
    "**PUT YOUR ANSWER HERE**"
   ]
  },
  {
   "cell_type": "markdown",
   "metadata": {},
   "source": [
    "## Q05\n",
    "\n",
    "**Points:** 20\n",
    "\n",
    "Using PyMOL, select the FOL or DHF ligands in each of the DHFR protein structures and expand the selection to include all residues within 4 Angstroms.\n",
    "Ensure that only the specific object is included in your selection, avoiding extraneous structures or molecules.\n",
    "\n",
    "For each selection, identify hydrogen bonds and electrostatic interactions by following these steps:\n",
    "\n",
    "1. Click on Find → Polar Contacts → To Other Atoms in Object.\n",
    "2. Observe the dashed yellow lines representing polar contacts.\n",
    "3. Count the total number of polar contacts and document the values for each structure in the dictionary below.\n",
    "\n",
    "The ligand residue names and indices for each structure are as follows:\n",
    "\n",
    "- `4M6K`: `FOL201`\n",
    "- `3FRD`: `DHF300`\n",
    "- `4EIL`: `FOL703`"
   ]
  },
  {
   "cell_type": "code",
   "execution_count": null,
   "metadata": {},
   "outputs": [],
   "source": [
    "n_polar_contacts = {\n",
    "    \"4M6K\": 0,\n",
    "    \"3FRD\": 0,\n",
    "    \"4EIL\": 0,\n",
    "}"
   ]
  },
  {
   "cell_type": "markdown",
   "metadata": {},
   "source": [
    "Next, analyze pi-pi interactions:\n",
    "\n",
    "1.  Click on Find → Pi Interactions → All.\n",
    "2.  Identify any pi-pi stacking interactions between the ligand and aromatic protein residues.\n",
    "3.  Record a list of protein residues (in the same format as `residues_aligned`) involved in pi-pi interactions for each structure.\n",
    "    If none are present, document an empty list."
   ]
  },
  {
   "cell_type": "code",
   "execution_count": null,
   "metadata": {},
   "outputs": [],
   "source": [
    "pi_pi_interactions = {\n",
    "    \"4M6K\": [],\n",
    "    \"3FRD\": [],\n",
    "    \"4EIL\": [],\n",
    "}"
   ]
  }
 ],
 "metadata": {
  "kernelspec": {
   "display_name": "default",
   "language": "python",
   "name": "python3"
  },
  "language_info": {
   "codemirror_mode": {
    "name": "ipython",
    "version": 3
   },
   "file_extension": ".py",
   "mimetype": "text/x-python",
   "name": "python",
   "nbconvert_exporter": "python",
   "pygments_lexer": "ipython3",
   "version": "3.12.9"
  }
 },
 "nbformat": 4,
 "nbformat_minor": 2
}
