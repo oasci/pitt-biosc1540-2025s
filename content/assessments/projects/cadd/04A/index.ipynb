{
 "cells": [
  {
   "cell_type": "markdown",
   "metadata": {},
   "source": [
    "<h1 style=\"margin-bottom: 0.4em; text-align: center;\">\n",
    "    <b>Project 04</b><br>\n",
    "    Assignment A\n",
    "</h1>\n",
    "\n",
    "<p style=\"text-align: center;\">\n",
    "    <object hspace=\"50\">\n",
    "        <strong>Due</strong></a>: Apr 25, 2025 by 11:59 p.m.\n",
    "    </object>\n",
    "    <object hspace=\"50\">\n",
    "        <strong>Points</strong></a>: 100\n",
    "    </object>\n",
    "</p>\n",
    "\n",
    "In the ongoing battle against antibiotic-resistant bacteria, understanding the molecular interactions between drugs and their targets is crucial.\n",
    "*Staphylococcus aureus* dihydrofolate reductase (DHFR) is a well-established target for several antibiotics due to its essential role in bacterial folate synthesis.\n",
    "This project focuses on protein-ligand docking studies of *S. aureus* DHFR using [MolModa](https://durrantlab.pitt.edu/apps/molmoda/beta/), a powerful tool for virtual screening and molecular modeling.\n",
    "\n",
    "You will perform docking calculations to predict how various ligands bind to DHFR within different protein environments.\n",
    "By comparing these predictions with experimental data, you will assess the reliability of computational docking as a method for identifying potential antibiotic candidates.\n",
    "Additionally, you will explore the impact of cofactors like NADPH on ligand binding, providing insights into the complexities of protein-ligand interactions in a cellular context."
   ]
  },
  {
   "cell_type": "markdown",
   "metadata": {},
   "source": [
    "We will be using [MolModa](https://durrantlab.pitt.edu/apps/molmoda/beta/) to perform protein-ligand docking of *S. aureus* DHFR in the following proteins.\n",
    "\n",
    "| PDB ID | Ligands |\n",
    "| ------ | ----------------- |\n",
    "| [3FRD](https://www.rcsb.org/structure/3FRD) | [Folate](https://www.ebi.ac.uk/chembl/explore/compound/135398658) |\n",
    "\n",
    "[MolModa](https://durrantlab.pitt.edu/apps/molmoda/beta/), unfortunately, cannot dock in the presence of cofactors (e.g. NADPH), which impacts the results of our virtual screening.\n",
    "Thus, the instructor will provide docking results with the NADPH cofactor while you use [MolModa](https://durrantlab.pitt.edu/apps/molmoda/beta/) to examine the impact of its removal.\n",
    "\n",
    "!!! note \"Important\"\n",
    "    We recommend that you use Google Chrome instead of other browsers.\n",
    "    Some browsers (e.g., Firefox) have been shown to exhibit more bugs and not work smoothly."
   ]
  },
  {
   "cell_type": "markdown",
   "metadata": {},
   "source": [
    "## Protein preparation\n",
    "\n",
    "In this step, you’ll prepare a protein structure for modeling by cleaning it and adding missing hydrogen atoms.\n",
    "This is a common first step in molecular docking and simulation workflows, and it helps ensure that the structure is chemically accurate and biologically meaningful.\n",
    "\n",
    "1. Use this [link to the PDB file](https://raw.githubusercontent.com/oasci/pitt-biosc1540-2025s/refs/heads/main/content/data/protein/dhfr/3frd-molmoda.pdb) to get a crystal structure of dihydrofolate reductase (DHFR), a drug target enzyme.  \n",
    "   Right-click the link and choose “Save Link As” or “Save Page As” to download it properly. Make sure the file ends in `.pdb`.\n",
    "2. Open [MolModa](https://durrantlab.pitt.edu/apps/molmoda/beta/) in your browser and upload the downloaded file. You should see a 3D view of the protein. Try rotating the structure to familiarize yourself with the overall shape. This structure includes water, cofactors, or ligands in addition to the protein itself.\n",
    "3. In MolModa, delete any non-protein components such as:\n",
    "\n",
    "   - Water molecules (usually named HOH)\n",
    "   - Co-crystallized ligands or ions  \n",
    "  \n",
    "   Only the amino acid chains of the protein should remain after this step.\n",
    "4. Use MolModa’s protonation tool to add missing hydrogen atoms, which are often not visible in X-ray structures.  \n",
    "   After protonation, you may see a new version of the molecule—be sure to remove the old, non-protonated version so that only the chemically complete structure remains."
   ]
  },
  {
   "cell_type": "markdown",
   "metadata": {},
   "source": [
    "## Ligand preparation\n",
    "\n",
    "In this section, you’ll prepare a small-molecule ligand for modeling.\n",
    "Ligands must be protonated, properly formatted, and chemically realistic before they can be docked into a protein or used in simulations. Each of you has been assigned a unique compound active against DHFR, so be sure to follow the steps carefully.\n",
    "You can find your assigned ligand on [Canvas](https://canvas.pitt.edu/courses/291671/files/folder/assignments?preview=20409431).\n",
    "Specifically, you will find a label (such as `13b`) that corresponds to ligand information found in [actives.csv](https://media.githubusercontent.com/media/oasci/pitt-biosc1540-2025s/refs/heads/main/content/data/ligand/dhfr/actives.csv).\n",
    "\n",
    "1.  Load your active ligand using the SMILES string and using \"File\" -> \"Molecular Text\".\n",
    "2.  Protonate your compound at a pH of 7.4 while regenerating coordinates with the \"recommended\" 3D coordinates generation option.\n",
    "\n",
    "Set the following variables in the cell below by going to the \"Data\" tab.\n",
    "\n",
    "-   `STUDENT_ID`: Your Pitt student ID number as an int.\n",
    "-   `smiles_active`: A string of your active molecule's SMILES.\n",
    "-   `logp`: The LogP of your molecule as a float.\n",
    "-   `mw`: The molecular weight of your molecule as a float."
   ]
  },
  {
   "cell_type": "code",
   "execution_count": 1,
   "metadata": {},
   "outputs": [],
   "source": [
    "STUDENT_ID = 1111111\n",
    "smiles_active = \"\"\n",
    "logp = 0.0\n",
    "mw = 0.0"
   ]
  },
  {
   "cell_type": "markdown",
   "metadata": {},
   "source": [
    "## Region\n",
    "\n",
    "Add a box region with a center the dimensions of (28, 25, 27) with a center of (-5, 32, -4)."
   ]
  },
  {
   "cell_type": "markdown",
   "metadata": {},
   "source": [
    "## Docking\n",
    "\n",
    "1.  Go to \"Binding\" -> \"Perform Docking/Scoring\".\n",
    "2.  Ensure that under \"Protein/compound pairs to consider,\" MolModa found 1 protein and 1 compound.\n",
    "    If you find more, you usually need to hide or remove your unprotonated proteins and compounds.\n",
    "3.  Select the region you added in the first step.\n",
    "    MolModa will warn you that your docking region is very large; you can ignore this warning.\n",
    "4.  Increase \"Exhaustiveness\" to 32.\n",
    "5.  Increase \"Maximum rotatable bonds\" to 25.\n",
    "6.  Uncheck \"Keep only highest-scoring pose for each compound\".\n",
    "7.  Click on \"Advanced docking parameters\" and set \"Seed\" to 123456.\n",
    "8.  Run the docking calculation.\n",
    "    Only certain hydrogens on the compounds are kept during docking, so there will be fewer hydrogen atoms on the same compound after docking.\n",
    "\n",
    "Please fill in the following variables in the cell below by going to the \"Data\" tab.\n",
    "\n",
    "-   `docking_score_best`: What is the best docking score of all the ligand poses?\n",
    "-   `docking_score_worst`: What is the worst docking score out of all poses?\n",
    "-   `n_poses`: How many poses did MolModa keep?"
   ]
  },
  {
   "cell_type": "code",
   "execution_count": 2,
   "metadata": {},
   "outputs": [],
   "source": [
    "docking_score_best = 0.0\n",
    "docking_score_worst = 0.0\n",
    "n_poses = 0"
   ]
  },
  {
   "cell_type": "markdown",
   "metadata": {},
   "source": [
    "## Interactions\n",
    "\n",
    "1. Select only your docked molecules using the \"Navigator\" panel on the left.\n",
    "2. You need to download the poses of your docked ligands.\n",
    " Click \"File\" -> \"Save\" and then uncheck \"Save the project in .molmoda format.\"\n",
    " Under \"Molecules to Save,\" only keep \"Selected molecules\" active.\n",
    " Ensure that \"Save each molecule to a separate file\" is selected.\n",
    " Please check that the \"File format for separate small-molecule compounds\" is set to \"Sybyl Mol2 (.mol2).\"\n",
    "\n",
    "You should have a zip file containing multiple files ending in `.mol2`.\n",
    "Extract them and concatenate each file in the order of their numbers.\n",
    "For example, if your active compound was `11a`, then you should create a new file called `11a-poses.mol2`, copy the first `.mol2` file into `11a-poses.mol2`, then the one that ends in `-2.mol2` into `11a-poses.mol2`, etc.\n",
    "This makes it easier to compare different poses in PyMOL later on.\n",
    "\n",
    "Load the [original `3FRD` PDB structure from above](https://raw.githubusercontent.com/oasci/pitt-biosc1540-2025s/refs/heads/main/content/data/protein/dhfr/3frd-molmoda.pdb) into PyMOL and remove all non-protein atoms.\n",
    "Next, load your concatenated poses `.mol2` file into PyMOL, creating a single object with your poses from MolModa.\n",
    "You can click on the left and right arrows on the right-hand side to cycle through the poses.\n",
    "The first pose should be your best pose and in descending order.\n",
    "\n",
    "Please fill in all of the variables in the cell below.\n",
    "When specifying residues interacting with the ligand, use a list containing strings of the three-letter amino acid code and residue index.\n",
    "For example, `[\"Glu143\", \"Val75\", \"Lys45\"]`.\n",
    "Leave the list empty if there are no interactions present.\n",
    "\n",
    "-   `polar_contacts_best`: identify which protein residues your best ligand pose has polar interactions with.\n",
    "-   `polar_contacts_worst`: identify which protein residues your worst ligand pose has polar interactions with."
   ]
  },
  {
   "cell_type": "code",
   "execution_count": 3,
   "metadata": {},
   "outputs": [],
   "source": [
    "polar_contacts_best = []\n",
    "polar_contacts_worst = []"
   ]
  },
  {
   "cell_type": "markdown",
   "metadata": {},
   "source": [
    "-   `pi_contacts_best`: identify which protein residues your best ligand pose has pi interactions with.\n",
    "-   `pi_contacts_worst`: identify which protein residues your worst ligand pose has pi interactions with."
   ]
  },
  {
   "cell_type": "code",
   "execution_count": 4,
   "metadata": {},
   "outputs": [],
   "source": [
    "pi_contacts_best = []\n",
    "pi_contacts_worst = []"
   ]
  },
  {
   "cell_type": "markdown",
   "metadata": {},
   "source": [
    "## Cofactor comparisons\n",
    "\n",
    "In reality, we need to account for any cofactor interactions with NADPH.\n",
    "Please download [this zip file](https://github.com/oasci/pitt-biosc1540-2025s/raw/refs/heads/main/content/data/docking/3frd-results.zip) containing all cofactor-docked compound data.\n",
    "\n",
    "-   `docking_scores_summary.csv` contains the best docking score of all docked compounds.\n",
    "-   `poses/` directory contains the top nine poses of the identified binding modes.\n",
    "\n",
    "Please fill in the variables in the cell below.\n",
    "\n",
    "-   `cofactor_score_best`: The best score for your active ligand in the `docking_scores_summary.csv`.\n",
    "-   `cofactor_improved`: `True` or `False`, including the cofactor improved the docking score?"
   ]
  },
  {
   "cell_type": "code",
   "execution_count": 5,
   "metadata": {},
   "outputs": [],
   "source": [
    "cofactor_score_best = 0.0\n",
    "cofactor_improved = None"
   ]
  },
  {
   "cell_type": "markdown",
   "metadata": {},
   "source": [
    "Now, go to the `poses/` directory and load the `.pdbqt` file of your active compounds into PyMOL (along with the 3FRD structure).\n",
    "Please fill in all of the variables in the cell below.\n",
    "\n",
    "-   `cofactor_polar_contacts_best`: identify which protein residues your best ligand pose, when docked with the cofactor, has polar interactions with.\n",
    "-   `cofactor_polar_contacts_worst`: identify which protein residues your worst ligand pose, when docked with the cofactor, has polar interactions with."
   ]
  },
  {
   "cell_type": "code",
   "execution_count": 6,
   "metadata": {},
   "outputs": [],
   "source": [
    "cofactor_polar_contacts_best = []\n",
    "cofactor_polar_contacts_worst = []"
   ]
  },
  {
   "cell_type": "markdown",
   "metadata": {},
   "source": [
    "-   `cofactor_pi_contacts_best`: identify which protein residues your best ligand pose, when docked with the cofactor, has pi interactions with.\n",
    "-   `cofactor_pi_contacts_worst`: identify which protein residues your worst ligand pose, when docked with the cofactor, has pi interactions with."
   ]
  },
  {
   "cell_type": "code",
   "execution_count": 7,
   "metadata": {},
   "outputs": [],
   "source": [
    "cofactor_pi_contacts_best = []\n",
    "cofactor_pi_contacts_worst = []"
   ]
  },
  {
   "cell_type": "markdown",
   "metadata": {},
   "source": [
    "## Reactant docking\n",
    "\n",
    "We also docked DHFR's canonical reactant, dihydrofolate (DHF), to the same protein.\n",
    "Please fill in the variables in the cell below.\n",
    "\n",
    "-   `dhf_score_best`: The best score for DHF in the `docking_scores_summary.csv`."
   ]
  },
  {
   "cell_type": "code",
   "execution_count": 8,
   "metadata": {},
   "outputs": [],
   "source": [
    "dhf_score_best = 0.0"
   ]
  },
  {
   "cell_type": "markdown",
   "metadata": {},
   "source": [
    "Now, go to the `poses/` directory and load in `.pdbqt` file DHF into PyMOL (along with the 3FRD structure).\n",
    "Please fill in all of the variables in the cell below.\n",
    "\n",
    "-   `dhf_polar_contacts_best`: identify which protein residues your best ligand pose, when docked with the cofactor, has polar interactions with."
   ]
  },
  {
   "cell_type": "code",
   "execution_count": 9,
   "metadata": {},
   "outputs": [],
   "source": [
    "dhf_polar_contacts_best = []"
   ]
  },
  {
   "cell_type": "markdown",
   "metadata": {},
   "source": [
    "-   `dhf_pi_contacts_best`: identify which protein residues DHF has pi interactions with."
   ]
  },
  {
   "cell_type": "code",
   "execution_count": 10,
   "metadata": {},
   "outputs": [],
   "source": [
    "dhf_pi_contacts_best = []"
   ]
  }
 ],
 "metadata": {
  "kernelspec": {
   "display_name": "default",
   "language": "python",
   "name": "python3"
  },
  "language_info": {
   "codemirror_mode": {
    "name": "ipython",
    "version": 3
   },
   "file_extension": ".py",
   "mimetype": "text/x-python",
   "name": "python",
   "nbconvert_exporter": "python",
   "pygments_lexer": "ipython3",
   "version": "3.12.10"
  }
 },
 "nbformat": 4,
 "nbformat_minor": 2
}
