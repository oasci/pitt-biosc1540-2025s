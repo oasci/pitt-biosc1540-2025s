{
 "cells": [
  {
   "cell_type": "markdown",
   "id": "73fb6254",
   "metadata": {},
   "source": [
    "# RDKit lightning tutorial\n",
    "\n",
    "Today, we’re going to take a short but high-impact tour of [RDKit](https://www.rdkit.org/docs/GettingStartedInPython.html), a powerful open-source toolkit for cheminformatics and machine learning with chemical data.\n",
    "Whether you're analyzing a massive compound library or trying to design new molecules, [RDKit](https://www.rdkit.org/docs/GettingStartedInPython.html) is one of the most essential tools in your computational toolbox."
   ]
  },
  {
   "cell_type": "markdown",
   "id": "56a390e4",
   "metadata": {},
   "source": [
    "RDKit helps with a wide range of cheminformatics tasks. Here are just a few of the things you might use it for:\n",
    "\n",
    "- Molecule parsing and standardization from SMILES, InChI, or other formats\n",
    "- 2D and 3D structure visualization\n",
    "- Fingerprinting and similarity search using metrics like Tanimoto similarity\n",
    "- Substructure matching and SMARTS pattern search\n",
    "- Molecular descriptor calculation (logP, molecular weight, TPSA, etc.)\n",
    "- Conformer generation and geometry optimization\n",
    "- Structure-activity relationship (SAR) analysis\n",
    "- Virtual screening and chemical library filtering\n",
    "- Building inputs for machine learning models in drug discovery or chemical property prediction\n",
    "\n",
    "RDKit serves as the chemistry engine under the hood for many commercial and academic tools—what you’re learning here translates directly into real-world research.\n",
    "You can explore the [Cookbook](https://www.rdkit.org/docs/Cookbook.html) or [Python API documentation](https://www.rdkit.org/docs/api-docs.html) to learn more about what RDKit can do.\n",
    "Note: We often use the [`Chem`](https://www.rdkit.org/docs/source/rdkit.Chem.html) or [`DataStructs`](https://www.rdkit.org/docs/source/rdkit.DataStructs.html) modules."
   ]
  },
  {
   "cell_type": "markdown",
   "id": "e9833e25",
   "metadata": {},
   "source": [
    "## Installation\n",
    "\n",
    "Since RDKit isn't included by default in Colab, we install it like this:\n",
    "\n",
    "```python\n",
    "!pip install rdkit==2024.9.6\n",
    "```\n",
    "\n",
    "Once that finishes, we are ready to get started."
   ]
  },
  {
   "cell_type": "markdown",
   "id": "4a756e98",
   "metadata": {},
   "source": [
    "## The Mol Object\n",
    "\n",
    "When working with RDKit, everything begins and ends with the `Mol` object.\n",
    "This object is RDKit’s internal representation of a molecule.\n",
    "It’s the foundational data structure that holds all the chemical information we need—atoms, bonds, stereochemistry, aromaticity, computed properties, and more.\n",
    "\n",
    "You can think of a `Mol` like a molecular graph: nodes are atoms, edges are bonds, and RDKit keeps track of all the chemical rules that tie it together.\n",
    "Whether you want to compute a fingerprint, draw a 2D structure, match a substructure, or simulate conformations in 3D, you start with a `Mol`.\n",
    "\n",
    "RDKit gives us a wide array of tools to build a `Mol` from different kinds of molecular input.\n",
    "The most common method for small-molecule work is:"
   ]
  },
  {
   "cell_type": "code",
   "execution_count": 1,
   "id": "e8adf471",
   "metadata": {},
   "outputs": [],
   "source": [
    "from rdkit import Chem"
   ]
  },
  {
   "cell_type": "code",
   "execution_count": 2,
   "id": "68ce7562",
   "metadata": {},
   "outputs": [
    {
     "name": "stdout",
     "output_type": "stream",
     "text": [
      "<rdkit.Chem.rdchem.Mol object at 0x78f1c4095850>\n"
     ]
    }
   ],
   "source": [
    "mol = Chem.MolFromSmiles(\"c1cc(CNCc2ccncc2)ccn1\")\n",
    "print(mol)"
   ]
  },
  {
   "cell_type": "markdown",
   "id": "8ce980c7",
   "metadata": {},
   "source": [
    "Here, we’re using a SMILES string—a compact, text-based way of describing a molecule—and turning it into a `Mol`. Once you've got that `Mol`, you're ready to do *everything else* RDKit offers."
   ]
  },
  {
   "cell_type": "markdown",
   "id": "99d02f9b",
   "metadata": {},
   "source": [
    "RDKit’s `Mol` class (docs [here](https://www.rdkit.org/docs/source/rdkit.Chem.rdchem.html#rdkit.Chem.rdchem.Mol)) is deceptively powerful. It gives you access to:\n",
    "\n",
    "- Atoms and bonds with full control over atomic numbers, hybridization, formal charges, aromaticity, etc.\n",
    "- Properties like molecular weight, logP, and custom annotations (which you can store as string, int, or float metadata)\n",
    "- Coordinates for 2D/3D visualization and modeling\n",
    "- Bookmarks and conformers for advanced structural operations\n",
    "- Query functionality for substructure matching and filtering"
   ]
  },
  {
   "cell_type": "code",
   "execution_count": 3,
   "id": "074737fb",
   "metadata": {},
   "outputs": [
    {
     "data": {
      "text/plain": [
       "15"
      ]
     },
     "execution_count": 3,
     "metadata": {},
     "output_type": "execute_result"
    }
   ],
   "source": [
    "mol.GetNumAtoms()"
   ]
  },
  {
   "cell_type": "markdown",
   "id": "e7a53b8b",
   "metadata": {},
   "source": [
    "You can also iterate over the atoms or bonds like this:"
   ]
  },
  {
   "cell_type": "code",
   "execution_count": 4,
   "id": "651ff158",
   "metadata": {},
   "outputs": [
    {
     "name": "stdout",
     "output_type": "stream",
     "text": [
      "C 0\n",
      "C 1\n",
      "C 2\n",
      "C 3\n",
      "N 4\n",
      "C 5\n",
      "C 6\n",
      "C 7\n",
      "C 8\n",
      "N 9\n",
      "C 10\n",
      "C 11\n",
      "C 12\n",
      "C 13\n",
      "N 14\n"
     ]
    }
   ],
   "source": [
    "for atom in mol.GetAtoms():\n",
    "    print(atom.GetSymbol(), atom.GetIdx())"
   ]
  },
  {
   "cell_type": "markdown",
   "id": "3c8310e6",
   "metadata": {},
   "source": [
    "RDKit is designed to let you peek inside molecules at a fine level of detail—perfect for computational biology, drug design, and structure-based analysis."
   ]
  },
  {
   "cell_type": "markdown",
   "id": "208db73e",
   "metadata": {},
   "source": [
    "RDKit doesn’t limit you to SMILES.\n",
    "Depending on your data source, you might be working with MOL files, PDBs, FASTA sequences, HELM strings, or even image files (!).\n",
    "RDKit offers a suite of `MolFromX` functions in the [`rdkit.Chem.rdmolfiles`](https://www.rdkit.org/docs/search.html?q=rdmolfiles.MolFrom) module to convert these into `Mol` objects.\n",
    "\n",
    "Here are just a few formats you can use:\n",
    "\n",
    "| Input Format        | Function Name                        |\n",
    "|---------------------|--------------------------------------|\n",
    "| SMILES              | `Chem.MolFromSmiles()`               |\n",
    "| SMARTS (substructure) | `Chem.MolFromSmarts()`             |\n",
    "| Mol block           | `Chem.MolFromMolBlock()`             |\n",
    "| Mol2 file           | `Chem.MolFromMol2File()`             |\n",
    "| PDB file            | `Chem.MolFromPDBFile()`              |\n",
    "| FASTA sequence      | `Chem.MolFromFASTA()`                |\n",
    "\n",
    "So, if you’re ever handed a molecular structure in a file or format you’ve never seen before, your first question should be: *“Which `MolFromX` function will get me a `Mol`?”*\n",
    "\n",
    "Once you have that, you’re in business."
   ]
  },
  {
   "cell_type": "markdown",
   "id": "0a94f31e",
   "metadata": {},
   "source": [
    "The `Mol` object is more than a data structure—it’s your interface to chemical knowledge.\n",
    "Every RDKit function you’ll use (for fingerprints, descriptors, depictions, or simulations) takes a `Mol` as input.\n",
    "If you understand how to create, inspect, and work with `Mol`s, you’ve already unlocked 80% of RDKit’s power.\n",
    "\n",
    "So as we begin today’s activity—and later when you build more complex cheminformatics pipelines—remember: if you’ve got a `Mol`, you’ve got a molecule."
   ]
  },
  {
   "cell_type": "markdown",
   "id": "1939ba44",
   "metadata": {},
   "source": [
    "## Visualizing molecules\n",
    "\n",
    "Once you’ve created a `Mol` object, one of the first things you’ll probably want to do is *see* the structure.\n",
    "Visualization helps you quickly validate whether the SMILES you loaded matches your expectations—and gives you an immediate sense of the chemical space you’re working in.\n",
    "\n",
    "RDKit makes this incredibly easy with its `Draw` module, which renders molecules in 2D with publication-quality depictions."
   ]
  },
  {
   "cell_type": "code",
   "execution_count": 5,
   "id": "0ee2a9d6",
   "metadata": {},
   "outputs": [],
   "source": [
    "from rdkit.Chem import Draw"
   ]
  },
  {
   "cell_type": "markdown",
   "id": "b49744c1",
   "metadata": {},
   "source": [
    "Now, to visualize this molecule, we use `MolToImage()` from the `rdkit.Chem.Draw` module.\n",
    "This generates a 2D image that you can view inline in Jupyter or Colab. No file saving, no rendering engines—it just works."
   ]
  },
  {
   "cell_type": "code",
   "execution_count": null,
   "id": "d46442fd",
   "metadata": {},
   "outputs": [
    {
     "data": {
      "image/jpeg": "[encoded data removed]",
      "image/png": "[encoded data removed]",
      "text/plain": [
       "<PIL.PngImagePlugin.PngImageFile image mode=RGB size=300x300>"
      ]
     },
     "execution_count": 7,
     "metadata": {},
     "output_type": "execute_result"
    }
   ],
   "source": [
    "mol = Chem.MolFromSmiles(\"COC1=C(C=C(C=C1)Cl)C(=O)NCCC2=CC=C(C=C2)C(=O)O\")\n",
    "Draw.MolToImage(mol)"
   ]
  },
  {
   "cell_type": "markdown",
   "id": "3a0bcf9a",
   "metadata": {},
   "source": [
    "If you want more control over how the molecule is rendered—such as highlighting atoms, showing atom indices, or drawing multiple molecules at once—you can use `MolDraw2D` or functions like `MolToImage(mol, size=(300, 300))`.\n",
    "\n",
    "Here’s a handy trick if you're working with multiple molecules and want a side-by-side view.\n",
    "This will draw the molecules in a tidy grid, perfect for comparing related compounds or visualizing a screening library."
   ]
  },
  {
   "cell_type": "code",
   "execution_count": 8,
   "id": "d29d1559",
   "metadata": {},
   "outputs": [
    {
     "data": {
      "image/png": "[encoded data removed]",
      "text/plain": [
       "<IPython.core.display.Image object>"
      ]
     },
     "execution_count": 8,
     "metadata": {},
     "output_type": "execute_result"
    }
   ],
   "source": [
    "mols = [\n",
    "    Chem.MolFromSmiles(s)\n",
    "    for s in [\n",
    "        \"CCC(=O)C1=CC=C(C=C1)OC(=O)NC\",\n",
    "        \"CC1C(=NOC(=O)NC)SCO1\",\n",
    "        \"CCC(C)C(=O)NC1=CC=CC=C1\",\n",
    "    ]\n",
    "]\n",
    "Draw.MolsToGridImage(mols, molsPerRow=3)"
   ]
  },
  {
   "cell_type": "markdown",
   "id": "78faff88",
   "metadata": {},
   "source": [
    "## Molecular Properties and Descriptors\n",
    "\n",
    "Once you have a molecule in RDKit, you can compute a wide range of molecular properties—also called descriptors.\n",
    "These are numerical values that attempt to summarize something chemically or biologically relevant about a molecule: its size, shape, polarity, or even its likelihood to permeate a cell membrane.\n",
    "\n",
    "This is especially useful in early drug discovery, where you may want to quickly filter a library to exclude toxic, too-large, or metabolically unstable compounds—before spending a cent on synthesis or testing.\n",
    "\n",
    "RDKit provides access to many common descriptors right out of the box."
   ]
  },
  {
   "cell_type": "code",
   "execution_count": 9,
   "id": "12054c4f",
   "metadata": {},
   "outputs": [],
   "source": [
    "from rdkit.Chem import Descriptors"
   ]
  },
  {
   "cell_type": "markdown",
   "id": "a885acf6",
   "metadata": {},
   "source": [
    "Let’s take a look at some of the most widely used descriptors. We’ll start with a simple molecule:"
   ]
  },
  {
   "cell_type": "code",
   "execution_count": 10,
   "id": "87df928c",
   "metadata": {},
   "outputs": [
    {
     "data": {
      "image/jpeg": "[encoded data removed]",
      "image/png": "[encoded data removed]",
      "text/plain": [
       "<PIL.PngImagePlugin.PngImageFile image mode=RGB size=300x300>"
      ]
     },
     "execution_count": 10,
     "metadata": {},
     "output_type": "execute_result"
    }
   ],
   "source": [
    "mol = Chem.MolFromSmiles(\"CC1CN(C(CN1N=O)C)N=O\")\n",
    "Draw.MolToImage(mol)"
   ]
  },
  {
   "cell_type": "markdown",
   "id": "f1255677",
   "metadata": {},
   "source": [
    "Now let’s compute a few key properties:"
   ]
  },
  {
   "cell_type": "code",
   "execution_count": 11,
   "id": "b6a0e688",
   "metadata": {},
   "outputs": [
    {
     "data": {
      "text/plain": [
       "172.188"
      ]
     },
     "execution_count": 11,
     "metadata": {},
     "output_type": "execute_result"
    }
   ],
   "source": [
    "Descriptors.MolWt(mol)"
   ]
  },
  {
   "cell_type": "code",
   "execution_count": 12,
   "id": "e0422975",
   "metadata": {},
   "outputs": [
    {
     "data": {
      "text/plain": [
       "0.7438"
      ]
     },
     "execution_count": 12,
     "metadata": {},
     "output_type": "execute_result"
    }
   ],
   "source": [
    "Descriptors.MolLogP(mol)"
   ]
  },
  {
   "cell_type": "code",
   "execution_count": 13,
   "id": "b6f23a28",
   "metadata": {},
   "outputs": [
    {
     "data": {
      "text/plain": [
       "2"
      ]
     },
     "execution_count": 13,
     "metadata": {},
     "output_type": "execute_result"
    }
   ],
   "source": [
    "Descriptors.NumRotatableBonds(mol)"
   ]
  },
  {
   "cell_type": "code",
   "execution_count": 14,
   "id": "3e51a105",
   "metadata": {},
   "outputs": [
    {
     "data": {
      "text/plain": [
       "(0, 4)"
      ]
     },
     "execution_count": 14,
     "metadata": {},
     "output_type": "execute_result"
    }
   ],
   "source": [
    "Descriptors.NumHDonors(mol), Descriptors.NumHAcceptors(mol)"
   ]
  },
  {
   "cell_type": "code",
   "execution_count": 15,
   "id": "d42dd09f",
   "metadata": {},
   "outputs": [
    {
     "data": {
      "text/plain": [
       "65.34"
      ]
     },
     "execution_count": 15,
     "metadata": {},
     "output_type": "execute_result"
    }
   ],
   "source": [
    "Descriptors.TPSA(mol)"
   ]
  },
  {
   "cell_type": "markdown",
   "id": "d1c131bf",
   "metadata": {},
   "source": [
    "Each of these descriptors gives you insight into how the molecule might behave—its solubility, permeability, or conformational flexibility.\n",
    "These are commonly used in rules like Lipinski’s Rule of Five, which helps flag molecules that may have poor oral bioavailability."
   ]
  },
  {
   "cell_type": "markdown",
   "id": "4e093371",
   "metadata": {},
   "source": [
    "Some of these properties are fairly objective—for example, molecular weight or the number of rotatable bonds.\n",
    "But others, like logP or TPSA, are based on heuristic models and can vary significantly between software packages. LogP, in particular, is a notoriously tricky beast.\n",
    "\n",
    "> LogP estimates how soluble a compound is in lipids (like cell membranes) vs. water. It’s important for absorption and permeability—but it’s also *notoriously inaccurate* when calculated computationally.\n",
    "\n",
    "That doesn’t mean it’s useless—it just means we shouldn’t mistake an RDKit-predicted logP of 3.2 for a high-precision measurement.\n",
    "Think of it as a rough estimate to support filtering or prioritization, not as a definitive answer.\n",
    "\n",
    "Same goes for predicted TPSA, which is useful in ranking—but no substitute for actual permeability data."
   ]
  },
  {
   "cell_type": "markdown",
   "id": "8807d92d",
   "metadata": {},
   "source": [
    "Descriptors are easy to calculate but not always easy to interpret.\n",
    "Used wisely, they help you *ask better questions* about chemical behavior.\n",
    "But don’t let the elegance of the numbers distract from the underlying chemistry—or experimental reality.\n",
    "\n",
    "Always ask:\n",
    "\n",
    "- *Is this descriptor interpretable?*  \n",
    "- *Is it validated for this type of molecule?*  \n",
    "- *How sensitive is it to small changes in structure?*  \n",
    "\n",
    "Descriptors are a starting point—not an answer."
   ]
  },
  {
   "cell_type": "markdown",
   "id": "8c9e2889",
   "metadata": {},
   "source": [
    "## Fingerprinting molecules\n",
    "\n",
    "At some point, we need to compare molecules. But comparing full 3D structures atom-by-atom isn’t scalable or efficient—especially when screening libraries of 10,000 or 1,000,000 compounds.\n",
    "\n",
    "That’s where fingerprints come in.\n",
    "\n",
    "A molecular fingerprint is a compact, vectorized summary of a molecule’s structure. It's usually binary (on/off), or a count-based representation, where each bit or integer in the vector corresponds to a specific substructure or atomic environment.\n",
    "\n",
    "This lets us use fast math—dot products, Tanimoto similarity, etc.—to quantify how similar two molecules are."
   ]
  },
  {
   "cell_type": "code",
   "execution_count": 16,
   "id": "a7d223fc",
   "metadata": {},
   "outputs": [],
   "source": [
    "from rdkit.Chem import AllChem"
   ]
  },
  {
   "cell_type": "markdown",
   "id": "d97aa352",
   "metadata": {},
   "source": [
    "The most commonly used fingerprint in drug discovery is the Morgan fingerprint, better known by its commercial branding as ECFP (Extended-Connectivity FingerPrint). Morgan fingerprints are circular: they look at neighborhoods around each atom, collecting information about atoms and bonds within a certain radius."
   ]
  },
  {
   "cell_type": "code",
   "execution_count": 17,
   "id": "186e89a3",
   "metadata": {},
   "outputs": [],
   "source": [
    "fpgen = AllChem.GetMorganGenerator(radius=2)  # ECFP4 equivalent"
   ]
  },
  {
   "cell_type": "markdown",
   "id": "30604e7f",
   "metadata": {},
   "source": [
    "This creates a fixed-length bit vector of 2048 bits by default. Each bit represents a substructure that exists somewhere in the molecule."
   ]
  },
  {
   "cell_type": "code",
   "execution_count": 18,
   "id": "0c889434",
   "metadata": {},
   "outputs": [
    {
     "data": {
      "text/plain": [
       "(rdkit.DataStructs.cDataStructs.ExplicitBitVect, 2048)"
      ]
     },
     "execution_count": 18,
     "metadata": {},
     "output_type": "execute_result"
    }
   ],
   "source": [
    "mol = Chem.MolFromSmiles(\"C1=CC(=O)N(C1=O)CCCCCC(=O)O\")\n",
    "fp = fpgen.GetFingerprint(mol)\n",
    "\n",
    "type(fp), len(fp)"
   ]
  },
  {
   "cell_type": "markdown",
   "id": "090f70d5",
   "metadata": {},
   "source": [
    "Want to see how many of those bits are “on”?"
   ]
  },
  {
   "cell_type": "code",
   "execution_count": 19,
   "id": "67ef2475",
   "metadata": {},
   "outputs": [
    {
     "data": {
      "text/plain": [
       "25"
      ]
     },
     "execution_count": 19,
     "metadata": {},
     "output_type": "execute_result"
    }
   ],
   "source": [
    "fp.GetNumOnBits()"
   ]
  },
  {
   "cell_type": "markdown",
   "id": "a5872694",
   "metadata": {},
   "source": [
    "RDKit offers two main formats of Morgan fingerprints:\n",
    "\n",
    "- `GetFingerprint()` → ExplicitBitVect: A dense bit vector (binary), great for similarity calculations\n",
    "- `GetSparseCountFingerprint()` → SparseIntVect: A dictionary of (bit_id → count), which captures *how many times* each substructure appears. This can be useful for weighting frequent features or for machine learning input."
   ]
  },
  {
   "cell_type": "code",
   "execution_count": 20,
   "id": "fcb5101a",
   "metadata": {},
   "outputs": [
    {
     "data": {
      "text/plain": [
       "{10565946: 2,\n",
       " 161963127: 1,\n",
       " 311968854: 1,\n",
       " 413476074: 2,\n",
       " 422165373: 1,\n",
       " 851463431: 1,\n",
       " 864662311: 1,\n",
       " 864942730: 3,\n",
       " 951239203: 2,\n",
       " 1167322652: 1,\n",
       " 1510328189: 1,\n",
       " 1510461303: 3,\n",
       " 1533864325: 1,\n",
       " 2092489639: 1,\n",
       " 2245384272: 5,\n",
       " 2246699815: 1,\n",
       " 2257970297: 1,\n",
       " 2456037498: 1,\n",
       " 2529809651: 1,\n",
       " 2530279745: 2,\n",
       " 3217380708: 2,\n",
       " 3218693969: 2,\n",
       " 3346582092: 1,\n",
       " 3378203162: 2,\n",
       " 4162508222: 1,\n",
       " 4278941385: 1}"
      ]
     },
     "execution_count": 20,
     "metadata": {},
     "output_type": "execute_result"
    }
   ],
   "source": [
    "count_fp = fpgen.GetSparseCountFingerprint(mol)\n",
    "count_fp.GetNonzeroElements()"
   ]
  },
  {
   "cell_type": "markdown",
   "id": "fc5544cc",
   "metadata": {},
   "source": [
    "## Measuring Similarity\n",
    "\n",
    "Once we have fingerprints for two molecules, we can compare them to ask how structurally similar they are.\n",
    "This is a cornerstone of virtual screening, hit expansion, and SAR analysis.\n",
    "\n",
    "The most common similarity metric used in cheminformatics is the Tanimoto similarity—also known as the Jaccard index in other fields.\n",
    "\n",
    "Imagine that a fingerprint is a binary vector—just a series of bits like this:\n",
    "\n",
    "```python\n",
    "fp1 = [1, 0, 1, 1, 0, 0, 1]\n",
    "fp2 = [1, 1, 1, 0, 0, 0, 1]\n",
    "```\n",
    "\n",
    "Each `1` represents the presence of a substructure in the molecule.\n",
    "\n",
    "The Tanimoto similarity between two fingerprints is calculated as:\n",
    "\n",
    "$$\n",
    "\\text{Tanimoto}(A, B) = \\frac{c}{a + b - c}\n",
    "$$\n",
    "\n",
    "Where:\n",
    "\n",
    "- $a$ = number of bits set to 1 in molecule A  \n",
    "- $b$ = number of bits set to 1 in molecule B  \n",
    "- $c$ = number of bits set to 1 in both fingerprints (i.e., intersection)\n",
    "\n",
    "So in this example:\n",
    "- $a = 4$\n",
    "- $b = 4$\n",
    "- $c = 2$\n",
    "\n",
    "$$\n",
    "\\text{Tanimoto} = \\frac{2}{4 + 4 - 2} = \\frac{2}{6} = 0.333\n",
    "$$\n",
    "\n",
    "It’s a simple but powerful metric: it gives 1.0 for identical molecules (same bits), and values closer to 0.0 for dissimilar ones."
   ]
  },
  {
   "cell_type": "markdown",
   "id": "7381f017",
   "metadata": {},
   "source": [
    "Let’s see this in action:"
   ]
  },
  {
   "cell_type": "code",
   "execution_count": 21,
   "id": "c02a8ec6",
   "metadata": {},
   "outputs": [],
   "source": [
    "from rdkit import DataStructs"
   ]
  },
  {
   "cell_type": "code",
   "execution_count": 22,
   "id": "74d59058",
   "metadata": {},
   "outputs": [
    {
     "data": {
      "text/plain": [
       "0.6538461538461539"
      ]
     },
     "execution_count": 22,
     "metadata": {},
     "output_type": "execute_result"
    }
   ],
   "source": [
    "mol1 = Chem.MolFromSmiles(\"CCCCCOC1=CC=CC=C1NC(=O)OCCN2CCCCC2\")\n",
    "mol2 = Chem.MolFromSmiles(\"CCCCCOC1=CC=C(C=C1)NC(=O)OCCN2CCCCC2\")\n",
    "\n",
    "fp1 = fpgen.GetFingerprint(mol1)\n",
    "fp2 = fpgen.GetFingerprint(mol2)\n",
    "\n",
    "DataStructs.TanimotoSimilarity(fp1, fp2)"
   ]
  },
  {
   "cell_type": "markdown",
   "id": "f38ad2fb",
   "metadata": {},
   "source": [
    "This gives you a value between 0 and 1. In most drug discovery pipelines, a Tanimoto similarity above 0.85 is considered \"very similar\", while 0.4 to 0.7 might indicate shared core features but meaningful diversity."
   ]
  },
  {
   "cell_type": "markdown",
   "id": "432b0c3f",
   "metadata": {},
   "source": [
    "While Tanimoto similarity is the gold standard in cheminformatics, RDKit also supports a few other metrics.\n",
    "Each one compares binary or count fingerprints slightly differently, and choosing the right one depends on the structure of your data and what you care about in the comparison.\n",
    "\n",
    "Here are three alternatives worth knowing."
   ]
  },
  {
   "cell_type": "markdown",
   "id": "ae9c6b08",
   "metadata": {},
   "source": [
    "### Dice Similarity\n",
    "\n",
    "$$\n",
    "\\text{Dice}(A, B) = \\frac{2c}{a + b}\n",
    "$$\n",
    "\n",
    "Where:\n",
    "- $a$, $b$ = number of bits set in each fingerprint\n",
    "- $c$ = number of shared bits\n",
    "\n",
    "This emphasizes shared features more strongly than Tanimoto. It gives higher scores when the two fingerprints are small but overlap heavily.\n",
    "Use Dice when:\n",
    "\n",
    "- You're comparing sparse fingerprints (e.g., small molecules)\n",
    "- You want to be more sensitive to partial overlap\n",
    "- You care more about the proportion of shared bits than total size"
   ]
  },
  {
   "cell_type": "code",
   "execution_count": 23,
   "id": "46299c2a",
   "metadata": {},
   "outputs": [
    {
     "data": {
      "text/plain": [
       "0.7906976744186046"
      ]
     },
     "execution_count": 23,
     "metadata": {},
     "output_type": "execute_result"
    }
   ],
   "source": [
    "DataStructs.DiceSimilarity(fp1, fp2)"
   ]
  },
  {
   "cell_type": "markdown",
   "id": "26a10d28",
   "metadata": {},
   "source": [
    "### Cosine Similarity\n",
    "\n",
    "$$\n",
    "\\text{Cosine}(A, B) = \\frac{c}{\\sqrt{a \\cdot b}}\n",
    "$$\n",
    "\n",
    "Cosine similarity comes from vector space models. It looks at the angle between two vectors rather than their overlap.\n",
    "\n",
    "Use Cosine when:\n",
    "\n",
    "- You're using count-based fingerprints (not binary)\n",
    "- You're analyzing feature frequency, not just presence\n",
    "- You're feeding fingerprints into ML models and want to compare vectors like word embeddings or gene expression profiles"
   ]
  },
  {
   "cell_type": "code",
   "execution_count": 24,
   "id": "500c2659",
   "metadata": {},
   "outputs": [
    {
     "data": {
      "text/plain": [
       "0.7909115788387002"
      ]
     },
     "execution_count": 24,
     "metadata": {},
     "output_type": "execute_result"
    }
   ],
   "source": [
    "DataStructs.CosineSimilarity(fp1, fp2)"
   ]
  },
  {
   "cell_type": "markdown",
   "id": "70abc56b",
   "metadata": {},
   "source": [
    "### Tversky Similarity\n",
    "\n",
    "$$\n",
    "\\text{Tversky}(A, B) = \\frac{c}{c + \\alpha(a - c) + \\beta(b - c)}\n",
    "$$\n",
    "\n",
    "This is a generalization of Tanimoto that lets you weight the importance of asymmetry. You set parameters $\\alpha$ and $\\beta$ to control the penalty for features in one molecule but not the other.\n",
    "\n",
    "- Tanimoto is the special case where $\\alpha = \\beta = 1$\n",
    "- Dice is the case where $\\alpha = \\beta = 0.5$\n",
    "\n",
    "Use Tversky when:\n",
    "\n",
    "- You want to compare a query molecule against a larger library and emphasize features present in the query\n",
    "- You’re building a similarity search tool and want to bias the comparison (e.g., penalize unmatched features more strongly)"
   ]
  },
  {
   "cell_type": "code",
   "execution_count": 25,
   "id": "55aa0ee0",
   "metadata": {},
   "outputs": [
    {
     "data": {
      "text/plain": [
       "0.7906976744186046"
      ]
     },
     "execution_count": 25,
     "metadata": {},
     "output_type": "execute_result"
    }
   ],
   "source": [
    "DataStructs.TverskySimilarity(fp1, fp2, 0.5, 0.5)"
   ]
  },
  {
   "cell_type": "markdown",
   "id": "3bd2ac45",
   "metadata": {},
   "source": [
    "In most cheminformatics workflows, Tanimoto is still your go-to. But it’s valuable to know these alternatives—especially when doing custom similarity searches, clustering, or feeding data into machine learning models where symmetry and scale might matter."
   ]
  }
 ],
 "metadata": {
  "kernelspec": {
   "display_name": "sci",
   "language": "python",
   "name": "python3"
  },
  "language_info": {
   "codemirror_mode": {
    "name": "ipython",
    "version": 3
   },
   "file_extension": ".py",
   "mimetype": "text/x-python",
   "name": "python",
   "nbconvert_exporter": "python",
   "pygments_lexer": "ipython3",
   "version": "3.13.2"
  }
 },
 "nbformat": 4,
 "nbformat_minor": 5
}
