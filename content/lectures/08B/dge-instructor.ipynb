{
 "cells": [
  {
   "cell_type": "markdown",
   "metadata": {},
   "source": [
    "# Differential gene expression - Instructor\n",
    "\n"
   ]
  },
  {
   "cell_type": "markdown",
   "metadata": {},
   "source": [
    "## Obtaining the data\n",
    "\n",
    "In computational biology, working with large datasets is a fundamental part of data analysis. One of the most common formats for storing structured data is the CSV (Comma-Separated Values) file.\n",
    "A CSV file is essentially a plain text file where each row represents a record, and columns are separated by commas. This format makes it easy to share and manipulate tabular data.\n",
    "\n",
    "In this course, we will use [Pandas](https://pandas.pydata.org/docs/), a powerful Python library designed for data manipulation and analysis, to handle our data. Before we can analyze any dataset, we must first obtain and load it into a format that allows efficient processing."
   ]
  },
  {
   "cell_type": "markdown",
   "metadata": {},
   "source": []
  },
  {
   "cell_type": "markdown",
   "metadata": {},
   "source": [
    "### Fetching the Dataset from GitHub\n",
    "\n",
    "The dataset we will be working with contains gene expression data and is hosted on GitHub. To download and load this dataset into memory, we can use the `requests` library to make an HTTP request and retrieve the file. Below is a Python function that performs this task:"
   ]
  },
  {
   "cell_type": "code",
   "execution_count": 1,
   "metadata": {},
   "outputs": [],
   "source": [
    "import requests\n",
    "import io\n",
    "import pandas as pd\n",
    "\n",
    "\n",
    "def get_gene_expr_data() -> pd.DataFrame:\n",
    "    csv_path = \"https://github.com/oasci/pitt-biosc1540-2025s/raw/refs/heads/main/content/data/gene-expr/SSvLIS-day3/ground-day3-gene-expr-SS-and-LIS.csv\"\n",
    "    response = requests.get(csv_path)\n",
    "    if response.status_code == 200:\n",
    "        csv_text = response.text\n",
    "        data = pd.read_csv(io.StringIO(csv_text))\n",
    "        return data\n",
    "    else:\n",
    "        print(f\"Failed to fetch file. Status code: {response.status_code}\")"
   ]
  },
  {
   "cell_type": "markdown",
   "metadata": {},
   "source": [
    "This function does the following:\n",
    "\n",
    "1. Uses the [`requests`](https://docs.python-requests.org/en/latest/) library to send an HTTP GET request to the GitHub-hosted CSV file.\n",
    "2. Checks if the request was successful by verifying the status code.\n",
    "3. Reads the CSV file's content and converts it into a Pandas DataFrame using `pd.read_csv()`.\n",
    "4. Returns the DataFrame for further analysis.\n",
    "\n",
    "A DataFrame in Pandas is a two-dimensional, table-like data structure similar to an Excel spreadsheet. It consists of:\n",
    "\n",
    "- Rows (each row represents an observation or record).\n",
    "- Columns (each column represents a variable or feature).\n",
    "- Indexing (a way to reference rows and columns efficiently).\n",
    "\n",
    "You can think of a DataFrame as an enhanced Excel sheet that allows programmatic manipulation, filtering, and analysis of data. Unlike an Excel sheet, however, Pandas provides powerful tools to handle missing data, apply complex transformations, and perform statistical computations efficiently.\n",
    "\n",
    "Once we retrieve the CSV file, we use [`pd.read_csv()`](https://pandas.pydata.org/docs/reference/api/pandas.read_csv.html) to load the text data into a DataFrame:\n",
    "\n",
    "```python\n",
    "data = pd.read_csv(io.StringIO(csv_text))\n",
    "```\n",
    "\n",
    "Here, `io.StringIO(csv_text)` treats the downloaded CSV content as if it were a file, allowing `pd.read_csv()` to parse it directly."
   ]
  },
  {
   "cell_type": "code",
   "execution_count": 2,
   "metadata": {},
   "outputs": [],
   "source": [
    "df = get_gene_expr_data()"
   ]
  },
  {
   "cell_type": "markdown",
   "metadata": {},
   "source": [
    "## Exploring the data\n",
    "\n",
    "Now that we have successfully loaded our dataset into a Pandas DataFrame, it is essential to understand how to explore, manipulate, and extract meaningful information from it. In this section, we will cover fundamental operations such as viewing data, indexing, slicing, filtering, and selecting subsets of a DataFrame."
   ]
  },
  {
   "cell_type": "markdown",
   "metadata": {},
   "source": [
    "### Inspecting the Data\n",
    "\n",
    "After loading a dataset, the first step is to get a sense of its structure. Pandas provides several methods to examine the contents of a DataFrame."
   ]
  },
  {
   "cell_type": "markdown",
   "metadata": {},
   "source": [
    "#### Viewing the First and Last Few Rows\n",
    "\n",
    "We can use the `.head()` and `.tail()` methods to preview the data:"
   ]
  },
  {
   "cell_type": "code",
   "execution_count": 3,
   "metadata": {},
   "outputs": [
    {
     "name": "stdout",
     "output_type": "stream",
     "text": [
      "         Gene     SS316.1     SS316.2     SS316.3     SS316.4       LIS.1  \\\n",
      "0  PA14_00010  248.431118  204.666946  199.842429  255.357432  434.670071   \n",
      "1  PA14_00020  215.984949  203.513892  163.323000  206.023071   68.632116   \n",
      "2  PA14_00030  154.966779  182.182408  119.026286  196.295169    0.000000   \n",
      "3  PA14_00050  277.003118  331.502799  211.677429  301.217542  114.386861   \n",
      "4  PA14_00060   50.364203   53.040448   51.397714   69.485015   22.877372   \n",
      "\n",
      "        LIS.2       LIS.3       LIS.4  \n",
      "0  281.916087  279.049317  293.841709  \n",
      "1  250.592078   24.265158  159.569670  \n",
      "2  178.994341    0.000000  142.055926  \n",
      "3  331.139531  643.026687  301.625595  \n",
      "4   31.324010   54.596606   38.919432  \n"
     ]
    }
   ],
   "source": [
    "# Display the first five rows\n",
    "print(df.head())"
   ]
  },
  {
   "cell_type": "code",
   "execution_count": 4,
   "metadata": {},
   "outputs": [
    {
     "name": "stdout",
     "output_type": "stream",
     "text": [
      "            Gene     SS316.1     SS316.2     SS316.3     SS316.4       LIS.1  \\\n",
      "5959  PA14_73370  222.280474  212.161791  194.263072  233.122227  160.141605   \n",
      "5960  PA14_73390   81.357559   93.397310  109.051072  119.861652    0.000000   \n",
      "5961  PA14_73400  107.023932   54.770028   93.834643  130.631829  297.405838   \n",
      "5962  PA14_73410  406.303525  266.931819  330.027429  345.340527   68.632116   \n",
      "5963  PA14_73420   80.873288  104.351316   83.352214   84.076869   22.877372   \n",
      "\n",
      "           LIS.2       LIS.3       LIS.4  \n",
      "5959  246.117219  430.706555  231.570618  \n",
      "5960   13.424576   18.198869   72.000949  \n",
      "5961  107.396605   48.530316  128.434124  \n",
      "5962  259.541795  218.386422  229.624647  \n",
      "5963  116.346322  103.126922   36.973460  \n"
     ]
    }
   ],
   "source": [
    "# Display the last five rows\n",
    "print(df.tail())"
   ]
  },
  {
   "cell_type": "markdown",
   "metadata": {},
   "source": [
    "By default, `.head()` and `.tail()` return the first and last five rows, respectively. You can specify a different number of rows as an argument, e.g., `df.head(10)` for the first ten rows."
   ]
  },
  {
   "cell_type": "markdown",
   "metadata": {},
   "source": [
    "#### Checking the Structure of the Data\n",
    "\n",
    "To understand the columns, data types, and non-null values, we use:"
   ]
  },
  {
   "cell_type": "code",
   "execution_count": 5,
   "metadata": {},
   "outputs": [
    {
     "name": "stdout",
     "output_type": "stream",
     "text": [
      "<class 'pandas.core.frame.DataFrame'>\n",
      "RangeIndex: 5964 entries, 0 to 5963\n",
      "Data columns (total 9 columns):\n",
      " #   Column   Non-Null Count  Dtype  \n",
      "---  ------   --------------  -----  \n",
      " 0   Gene     5964 non-null   object \n",
      " 1   SS316.1  5964 non-null   float64\n",
      " 2   SS316.2  5964 non-null   float64\n",
      " 3   SS316.3  5964 non-null   float64\n",
      " 4   SS316.4  5964 non-null   float64\n",
      " 5   LIS.1    5964 non-null   float64\n",
      " 6   LIS.2    5964 non-null   float64\n",
      " 7   LIS.3    5964 non-null   float64\n",
      " 8   LIS.4    5964 non-null   float64\n",
      "dtypes: float64(8), object(1)\n",
      "memory usage: 419.5+ KB\n",
      "None\n"
     ]
    }
   ],
   "source": [
    "print(df.info())"
   ]
  },
  {
   "cell_type": "markdown",
   "metadata": {},
   "source": [
    "This provides details such as:\n",
    "\n",
    "- The number of rows and columns.\n",
    "- Column names and their data types.\n",
    "- The number of non-null values in each column."
   ]
  },
  {
   "cell_type": "markdown",
   "metadata": {},
   "source": [
    "#### Summarizing the Data\n",
    "\n",
    "To obtain summary statistics of numeric columns, we use:"
   ]
  },
  {
   "cell_type": "code",
   "execution_count": 6,
   "metadata": {},
   "outputs": [
    {
     "name": "stdout",
     "output_type": "stream",
     "text": [
      "            SS316.1       SS316.2        SS316.3        SS316.4         LIS.1  \\\n",
      "count  5.964000e+03  5.964000e+03    5964.000000    5964.000000  5.964000e+03   \n",
      "mean   8.264716e+02  6.592480e+02     424.724098     237.139402  1.315407e+03   \n",
      "std    2.591986e+04  2.034955e+04   11502.870293    5155.394148  3.931560e+04   \n",
      "min    1.937085e+00  0.000000e+00       0.169071       0.000000  0.000000e+00   \n",
      "25%    3.583607e+01  3.271788e+01      36.012214      34.742508  0.000000e+00   \n",
      "50%    6.150244e+01  6.284140e+01      62.049214      63.231364  2.287737e+01   \n",
      "75%    1.079925e+02  1.129992e+02     107.360357     110.828600  9.150949e+01   \n",
      "max    1.521413e+06  1.136283e+06  664108.346036  283818.494270  2.154682e+06   \n",
      "\n",
      "              LIS.2         LIS.3          LIS.4  \n",
      "count  5.964000e+03  5.964000e+03    5964.000000  \n",
      "mean   3.355261e+03  9.296802e+02     392.419657  \n",
      "std    1.006808e+05  2.520583e+04    9065.883674  \n",
      "min    0.000000e+00  0.000000e+00       0.000000  \n",
      "25%    2.684915e+01  6.066290e+00      27.243602  \n",
      "50%    5.817316e+01  4.246403e+01      66.163034  \n",
      "75%    1.163463e+02  1.516572e+02     130.380096  \n",
      "max    5.351756e+06  1.345552e+06  503057.005831  \n"
     ]
    }
   ],
   "source": [
    "print(df.describe())"
   ]
  },
  {
   "cell_type": "markdown",
   "metadata": {},
   "source": [
    "The `.describe()` method provides useful insights such as the mean, standard deviation, minimum, and maximum values of numerical features."
   ]
  },
  {
   "cell_type": "markdown",
   "metadata": {},
   "source": [
    "### Selecting and Indexing Data\n",
    "\n",
    "Pandas allows you to select specific rows and columns using different methods."
   ]
  },
  {
   "cell_type": "markdown",
   "metadata": {},
   "source": [
    "#### Selecting Columns\n",
    "\n",
    "You can select a column using bracket notation (`[]`) or the dot notation (`.`):"
   ]
  },
  {
   "cell_type": "code",
   "execution_count": 8,
   "metadata": {},
   "outputs": [
    {
     "name": "stdout",
     "output_type": "stream",
     "text": [
      "0       PA14_00010\n",
      "1       PA14_00020\n",
      "2       PA14_00030\n",
      "3       PA14_00050\n",
      "4       PA14_00060\n",
      "           ...    \n",
      "5959    PA14_73370\n",
      "5960    PA14_73390\n",
      "5961    PA14_73400\n",
      "5962    PA14_73410\n",
      "5963    PA14_73420\n",
      "Name: Gene, Length: 5964, dtype: object\n"
     ]
    }
   ],
   "source": [
    "genes = df[\"Gene\"]\n",
    "print(genes)"
   ]
  },
  {
   "cell_type": "markdown",
   "metadata": {},
   "source": [
    "To select multiple columns, pass a list:"
   ]
  },
  {
   "cell_type": "code",
   "execution_count": 9,
   "metadata": {},
   "outputs": [
    {
     "name": "stdout",
     "output_type": "stream",
     "text": [
      "         SS316.1     SS316.2     SS316.3     SS316.4\n",
      "0     248.431118  204.666946  199.842429  255.357432\n",
      "1     215.984949  203.513892  163.323000  206.023071\n",
      "2     154.966779  182.182408  119.026286  196.295169\n",
      "3     277.003118  331.502799  211.677429  301.217542\n",
      "4      50.364203   53.040448   51.397714   69.485015\n",
      "...          ...         ...         ...         ...\n",
      "5959  222.280474  212.161791  194.263072  233.122227\n",
      "5960   81.357559   93.397310  109.051072  119.861652\n",
      "5961  107.023932   54.770028   93.834643  130.631829\n",
      "5962  406.303525  266.931819  330.027429  345.340527\n",
      "5963   80.873288  104.351316   83.352214   84.076869\n",
      "\n",
      "[5964 rows x 4 columns]\n"
     ]
    }
   ],
   "source": [
    "ss_data = df[[\"SS316.1\", \"SS316.2\", \"SS316.3\", \"SS316.4\"]]\n",
    "print(ss_data)"
   ]
  },
  {
   "cell_type": "markdown",
   "metadata": {},
   "source": [
    "#### Selecting Rows\n",
    "\n",
    "To access specific rows, Pandas provides two primary methods:\n",
    "\n",
    "- `.loc[]` (label-based selection)\n",
    "- `.iloc[]` (integer index-based selection)"
   ]
  },
  {
   "cell_type": "code",
   "execution_count": null,
   "metadata": {},
   "outputs": [],
   "source": [
    "# Select a row by index label\n",
    "row_5 = df.loc[5]\n",
    "print(row_5)"
   ]
  },
  {
   "cell_type": "code",
   "execution_count": null,
   "metadata": {},
   "outputs": [],
   "source": [
    "# Select multiple rows\n",
    "rows_5_to_10 = df.loc[5:10]\n",
    "print(rows_5_to_10)"
   ]
  },
  {
   "cell_type": "markdown",
   "metadata": {},
   "source": [
    "#### Slicing the DataFrame\n",
    "\n",
    "You can slice both rows and columns using `.iloc[]`:"
   ]
  },
  {
   "cell_type": "code",
   "execution_count": null,
   "metadata": {},
   "outputs": [],
   "source": [
    "# Select rows 5 to 10 and columns 1 to 3\n",
    "subset = df.iloc[5:11, 1:4]\n",
    "print(subset)"
   ]
  },
  {
   "cell_type": "markdown",
   "metadata": {},
   "source": [
    "This follows Python's standard slicing rules (`start:stop`, where `stop` is exclusive)."
   ]
  },
  {
   "cell_type": "markdown",
   "metadata": {},
   "source": [
    "### Filtering Data\n",
    "\n",
    "A powerful feature of Pandas is the ability to filter data based on conditions. Suppose we want to select all rows where gene expression values exceed a certain threshold:"
   ]
  },
  {
   "cell_type": "code",
   "execution_count": 12,
   "metadata": {},
   "outputs": [
    {
     "name": "stdout",
     "output_type": "stream",
     "text": [
      "     Gene     SS316.1     SS316.2     SS316.3     SS316.4  LIS.1  LIS.2  \\\n",
      "0     NaN         NaN         NaN         NaN         NaN    NaN    NaN   \n",
      "1     NaN         NaN         NaN         NaN         NaN    NaN    NaN   \n",
      "2     NaN         NaN         NaN         NaN         NaN    NaN    NaN   \n",
      "3     NaN         NaN  331.502799         NaN  301.217542    NaN    NaN   \n",
      "4     NaN         NaN         NaN         NaN         NaN    NaN    NaN   \n",
      "...   ...         ...         ...         ...         ...    ...    ...   \n",
      "5959  NaN         NaN         NaN         NaN         NaN    NaN    NaN   \n",
      "5960  NaN         NaN         NaN         NaN         NaN    NaN    NaN   \n",
      "5961  NaN         NaN         NaN         NaN         NaN    NaN    NaN   \n",
      "5962  NaN  406.303525         NaN  330.027429  345.340527    NaN    NaN   \n",
      "5963  NaN         NaN         NaN         NaN         NaN    NaN    NaN   \n",
      "\n",
      "      LIS.3  LIS.4  \n",
      "0       NaN    NaN  \n",
      "1       NaN    NaN  \n",
      "2       NaN    NaN  \n",
      "3       NaN    NaN  \n",
      "4       NaN    NaN  \n",
      "...     ...    ...  \n",
      "5959    NaN    NaN  \n",
      "5960    NaN    NaN  \n",
      "5961    NaN    NaN  \n",
      "5962    NaN    NaN  \n",
      "5963    NaN    NaN  \n",
      "\n",
      "[5964 rows x 9 columns]\n"
     ]
    }
   ],
   "source": [
    "# Filter rows where Gene Expression > 1000\n",
    "high_expression = df[df[[\"SS316.1\", \"SS316.2\", \"SS316.3\", \"SS316.4\"]] > 300]\n",
    "print(high_expression)"
   ]
  },
  {
   "cell_type": "markdown",
   "metadata": {},
   "source": [
    "To apply multiple conditions, use logical operators:\n",
    "\n",
    "- `&` (AND)\n",
    "- `|` (OR)\n",
    "- `~` (NOT)"
   ]
  }
 ],
 "metadata": {
  "kernelspec": {
   "display_name": "sci",
   "language": "python",
   "name": "python3"
  },
  "language_info": {
   "codemirror_mode": {
    "name": "ipython",
    "version": 3
   },
   "file_extension": ".py",
   "mimetype": "text/x-python",
   "name": "python",
   "nbconvert_exporter": "python",
   "pygments_lexer": "ipython3",
   "version": "3.13.2"
  }
 },
 "nbformat": 4,
 "nbformat_minor": 2
}
