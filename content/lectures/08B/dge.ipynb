{
 "cells": [
  {
   "cell_type": "markdown",
   "metadata": {},
   "source": [
    "# Differential gene expression\n"
   ]
  },
  {
   "cell_type": "markdown",
   "metadata": {},
   "source": [
    "## Obtaining the data\n",
    "\n",
    "In computational biology, working with large datasets is a fundamental part of data analysis. One of the most common formats for storing structured data is the CSV (Comma-Separated Values) file.\n",
    "A CSV file is essentially a plain text file where each row represents a record, and columns are separated by commas. This format makes it easy to share and manipulate tabular data.\n",
    "\n",
    "In this course, we will use [Pandas](https://pandas.pydata.org/docs/), a powerful Python library designed for data manipulation and analysis, to handle our data. Before we can analyze any dataset, we must first obtain and load it into a format that allows efficient processing.\n",
    "\n",
    "Note: [Polars](https://pola.rs/) is way better (in my \"professional\" opinion), but it is not as popular as pandas."
   ]
  },
  {
   "cell_type": "code",
   "execution_count": 1,
   "metadata": {},
   "outputs": [],
   "source": [
    "import requests\n",
    "import io\n",
    "import pandas as pd\n",
    "import numpy as np"
   ]
  },
  {
   "cell_type": "markdown",
   "metadata": {},
   "source": [
    "The dataset we will be working with contains gene expression data and is hosted on GitHub.\n",
    "To download and load this dataset into memory, we can use the `requests` library to make an HTTP request and retrieve the file. Below is a Python function that performs this task.\n",
    "Note that this is only really done because of how I am hosting the data."
   ]
  },
  {
   "cell_type": "code",
   "execution_count": 2,
   "metadata": {},
   "outputs": [],
   "source": [
    "def get_gene_expr_data() -> pd.DataFrame:\n",
    "    csv_path = \"https://github.com/oasci/pitt-biosc1540-2025s/raw/refs/heads/main/content/data/gene-expr/SSvLIS-day3/ground-day3-gene-counts-SS-and-LIS.csv\"\n",
    "    response = requests.get(csv_path)\n",
    "    if response.status_code == 200:\n",
    "        csv_text = response.text\n",
    "        data = pd.read_csv(io.StringIO(csv_text))\n",
    "        return data\n",
    "    else:\n",
    "        print(f\"Failed to fetch file. Status code: {response.status_code}\")"
   ]
  },
  {
   "cell_type": "markdown",
   "metadata": {},
   "source": [
    "This function does the following:\n",
    "\n",
    "1. Uses the [`requests`](https://docs.python-requests.org/en/latest/) library to send an HTTP GET request to the GitHub-hosted CSV file.\n",
    "2. Checks if the request was successful by verifying the status code.\n",
    "3. Reads the CSV file's content and converts it into a Pandas DataFrame using `pd.read_csv()`.\n",
    "4. Returns the DataFrame for further analysis.\n",
    "\n",
    "A DataFrame in Pandas is a two-dimensional, table-like data structure similar to an Excel spreadsheet. It consists of:\n",
    "\n",
    "- Rows (each row represents an observation or record).\n",
    "- Columns (each column represents a variable or feature).\n",
    "- Indexing (a way to reference rows and columns efficiently).\n",
    "\n",
    "You can think of a DataFrame as an enhanced Excel sheet that allows programmatic manipulation, filtering, and analysis of data. Unlike an Excel sheet, however, Pandas provides powerful tools to handle missing data, apply complex transformations, and perform statistical computations efficiently.\n",
    "\n",
    "Once we retrieve the CSV file, we use [`pd.read_csv()`](https://pandas.pydata.org/docs/reference/api/pandas.read_csv.html) to load the text data into a DataFrame:\n",
    "\n",
    "```python\n",
    "data = pd.read_csv(io.StringIO(csv_text))\n",
    "```\n",
    "\n",
    "Here, `io.StringIO(csv_text)` treats the downloaded CSV content as if it were a file, allowing `pd.read_csv()` to parse it directly."
   ]
  },
  {
   "cell_type": "code",
   "execution_count": 3,
   "metadata": {},
   "outputs": [],
   "source": [
    "df = get_gene_expr_data()"
   ]
  },
  {
   "cell_type": "markdown",
   "metadata": {},
   "source": [
    "## Exploring the data\n",
    "\n",
    "Now that we have successfully loaded our dataset into a Pandas DataFrame, it is essential to understand how to explore, manipulate, and extract meaningful information from it.\n",
    "In this section, we will cover fundamental operations such as viewing data, indexing, slicing, filtering, and selecting subsets of a DataFrame."
   ]
  },
  {
   "cell_type": "markdown",
   "metadata": {},
   "source": [
    "### Viewing the First and Last Few Rows\n",
    "\n",
    "We can use the `.head()` and `.tail()` methods to preview the data:"
   ]
  },
  {
   "cell_type": "code",
   "execution_count": 4,
   "metadata": {},
   "outputs": [
    {
     "name": "stdout",
     "output_type": "stream",
     "text": [
      "         Gene  SS316.1  SS316.2  SS316.3  SS316.4  LIS.1  LIS.2  LIS.3  LIS.4\n",
      "0  PA14_00010      513      355     1182      735     19     63     46    151\n",
      "1  PA14_00020      446      353      966      593      3     56      4     82\n",
      "2  PA14_00030      320      316      704      565      0     40      0     73\n",
      "3  PA14_00050      572      575     1252      867      5     74    106    155\n",
      "4  PA14_00060      104       92      304      200      1      7      9     20\n"
     ]
    }
   ],
   "source": [
    "# Display the first five rows\n",
    "print(df.head())"
   ]
  },
  {
   "cell_type": "code",
   "execution_count": 5,
   "metadata": {},
   "outputs": [
    {
     "name": "stdout",
     "output_type": "stream",
     "text": [
      "            Gene  SS316.1  SS316.2  SS316.3  SS316.4  LIS.1  LIS.2  LIS.3  \\\n",
      "5959  PA14_73370      459      368     1149      671      7     55     71   \n",
      "5960  PA14_73390      168      162      645      345      0      3      3   \n",
      "5961  PA14_73400      221       95      555      376     13     24      8   \n",
      "5962  PA14_73410      839      463     1952      994      3     58     36   \n",
      "5963  PA14_73420      167      181      493      242      1     26     17   \n",
      "\n",
      "      LIS.4  \n",
      "5959    119  \n",
      "5960     37  \n",
      "5961     66  \n",
      "5962    118  \n",
      "5963     19  \n"
     ]
    }
   ],
   "source": [
    "# Display the last five rows\n",
    "print(df.tail())"
   ]
  },
  {
   "cell_type": "markdown",
   "metadata": {},
   "source": [
    "By default, `.head()` and `.tail()` return the first and last five rows, respectively. You can specify a different number of rows as an argument, e.g., `df.head(10)` for the first ten rows."
   ]
  },
  {
   "cell_type": "markdown",
   "metadata": {},
   "source": [
    "### Checking the Structure of the Data\n",
    "\n",
    "To understand the columns, data types, and non-null values, we use:"
   ]
  },
  {
   "cell_type": "code",
   "execution_count": 6,
   "metadata": {},
   "outputs": [
    {
     "name": "stdout",
     "output_type": "stream",
     "text": [
      "<class 'pandas.core.frame.DataFrame'>\n",
      "RangeIndex: 5964 entries, 0 to 5963\n",
      "Data columns (total 9 columns):\n",
      " #   Column   Non-Null Count  Dtype \n",
      "---  ------   --------------  ----- \n",
      " 0   Gene     5964 non-null   object\n",
      " 1   SS316.1  5964 non-null   int64 \n",
      " 2   SS316.2  5964 non-null   int64 \n",
      " 3   SS316.3  5964 non-null   int64 \n",
      " 4   SS316.4  5964 non-null   int64 \n",
      " 5   LIS.1    5964 non-null   int64 \n",
      " 6   LIS.2    5964 non-null   int64 \n",
      " 7   LIS.3    5964 non-null   int64 \n",
      " 8   LIS.4    5964 non-null   int64 \n",
      "dtypes: int64(8), object(1)\n",
      "memory usage: 419.5+ KB\n",
      "None\n"
     ]
    }
   ],
   "source": [
    "print(df.info())"
   ]
  },
  {
   "cell_type": "markdown",
   "metadata": {},
   "source": [
    "This provides details such as:\n",
    "\n",
    "- The number of rows and columns.\n",
    "- Column names and their data types.\n",
    "- The number of non-null values in each column."
   ]
  },
  {
   "cell_type": "markdown",
   "metadata": {},
   "source": [
    "### Summarizing the Data\n",
    "\n",
    "To obtain summary statistics of numeric columns, we use:"
   ]
  },
  {
   "cell_type": "code",
   "execution_count": 7,
   "metadata": {},
   "outputs": [
    {
     "name": "stdout",
     "output_type": "stream",
     "text": [
      "            SS316.1       SS316.2       SS316.3        SS316.4         LIS.1  \\\n",
      "count  5.964000e+03  5.964000e+03  5.964000e+03    5964.000000   5964.000000   \n",
      "mean   1.706630e+03  1.143482e+03  2.512099e+03     682.562710     57.498156   \n",
      "std    5.352345e+04  3.529680e+04  6.803557e+04   14838.865938   1718.536391   \n",
      "min    4.000000e+00  0.000000e+00  1.000000e+00       0.000000      0.000000   \n",
      "25%    7.400000e+01  5.675000e+01  2.130000e+02     100.000000      0.000000   \n",
      "50%    1.270000e+02  1.090000e+02  3.670000e+02     182.000000      1.000000   \n",
      "75%    2.230000e+02  1.960000e+02  6.350000e+02     319.000000      4.000000   \n",
      "max    3.141654e+06  1.970912e+06  3.927975e+06  816920.000000  94184.000000   \n",
      "\n",
      "              LIS.2          LIS.3          LIS.4  \n",
      "count  5.964000e+03    5964.000000    5964.000000  \n",
      "mean   7.498026e+02     153.253521     201.657445  \n",
      "std    2.249922e+04    4155.065638    4658.795511  \n",
      "min    0.000000e+00       0.000000       0.000000  \n",
      "25%    6.000000e+00       1.000000      14.000000  \n",
      "50%    1.300000e+01       7.000000      34.000000  \n",
      "75%    2.600000e+01      25.000000      67.000000  \n",
      "max    1.195961e+06  221808.000000  258512.000000  \n"
     ]
    }
   ],
   "source": [
    "print(df.describe())"
   ]
  },
  {
   "cell_type": "markdown",
   "metadata": {},
   "source": [
    "The `.describe()` method provides useful insights such as the mean, standard deviation, minimum, and maximum values of numerical features."
   ]
  },
  {
   "cell_type": "markdown",
   "metadata": {},
   "source": [
    "### Selecting Columns\n",
    "\n",
    "You can select a column using bracket notation (`[]`) or the dot notation (`.`):"
   ]
  },
  {
   "cell_type": "code",
   "execution_count": 8,
   "metadata": {},
   "outputs": [
    {
     "name": "stdout",
     "output_type": "stream",
     "text": [
      "0       PA14_00010\n",
      "1       PA14_00020\n",
      "2       PA14_00030\n",
      "3       PA14_00050\n",
      "4       PA14_00060\n",
      "           ...    \n",
      "5959    PA14_73370\n",
      "5960    PA14_73390\n",
      "5961    PA14_73400\n",
      "5962    PA14_73410\n",
      "5963    PA14_73420\n",
      "Name: Gene, Length: 5964, dtype: object\n"
     ]
    }
   ],
   "source": [
    "genes = df[\"Gene\"]\n",
    "print(genes)"
   ]
  },
  {
   "cell_type": "markdown",
   "metadata": {},
   "source": [
    "To select multiple columns, pass a list:"
   ]
  },
  {
   "cell_type": "code",
   "execution_count": 9,
   "metadata": {},
   "outputs": [
    {
     "name": "stdout",
     "output_type": "stream",
     "text": [
      "      SS316.1  SS316.2  SS316.3  SS316.4\n",
      "0         513      355     1182      735\n",
      "1         446      353      966      593\n",
      "2         320      316      704      565\n",
      "3         572      575     1252      867\n",
      "4         104       92      304      200\n",
      "...       ...      ...      ...      ...\n",
      "5959      459      368     1149      671\n",
      "5960      168      162      645      345\n",
      "5961      221       95      555      376\n",
      "5962      839      463     1952      994\n",
      "5963      167      181      493      242\n",
      "\n",
      "[5964 rows x 4 columns]\n"
     ]
    }
   ],
   "source": [
    "ss_data = df[[\"SS316.1\", \"SS316.2\", \"SS316.3\", \"SS316.4\"]]\n",
    "print(ss_data)"
   ]
  },
  {
   "cell_type": "markdown",
   "metadata": {},
   "source": [
    "### Selecting Rows\n",
    "\n",
    "To access specific rows, Pandas provides two primary methods:\n",
    "\n",
    "- `.loc[]` (label-based selection)\n",
    "- `.iloc[]` (integer index-based selection)"
   ]
  },
  {
   "cell_type": "code",
   "execution_count": 10,
   "metadata": {},
   "outputs": [
    {
     "name": "stdout",
     "output_type": "stream",
     "text": [
      "Gene       PA14_00070\n",
      "SS316.1            64\n",
      "SS316.2            34\n",
      "SS316.3           298\n",
      "SS316.4           145\n",
      "LIS.1               1\n",
      "LIS.2               3\n",
      "LIS.3               1\n",
      "LIS.4              15\n",
      "Name: 5, dtype: object\n"
     ]
    }
   ],
   "source": [
    "# Select a row by index label\n",
    "row_5 = df.loc[5]\n",
    "print(row_5)"
   ]
  },
  {
   "cell_type": "code",
   "execution_count": 11,
   "metadata": {},
   "outputs": [
    {
     "name": "stdout",
     "output_type": "stream",
     "text": [
      "          Gene  SS316.1  SS316.2  SS316.3  SS316.4  LIS.1  LIS.2  LIS.3  LIS.4\n",
      "5   PA14_00070       64       34      298      145      1      3      1     15\n",
      "6   PA14_00080      247      191      782      359     16     20      3     97\n",
      "7   PA14_00090      346      330     1135      400      0     40     28     58\n",
      "8   PA14_00100      174      132      465      261      0     15      0    113\n",
      "9   PA14_00110       64       57      196      113      0     21      0     23\n",
      "10  PA14_00120      277      139      690      409      0     36     35     99\n"
     ]
    }
   ],
   "source": [
    "# Select multiple rows\n",
    "rows_5_to_10 = df.loc[5:10]\n",
    "print(rows_5_to_10)"
   ]
  },
  {
   "cell_type": "markdown",
   "metadata": {},
   "source": [
    "### Slicing the DataFrame\n",
    "\n",
    "You can slice both rows and columns using `.iloc[]`:"
   ]
  },
  {
   "cell_type": "code",
   "execution_count": 12,
   "metadata": {},
   "outputs": [
    {
     "name": "stdout",
     "output_type": "stream",
     "text": [
      "    SS316.1  SS316.2  SS316.3\n",
      "5        64       34      298\n",
      "6       247      191      782\n",
      "7       346      330     1135\n",
      "8       174      132      465\n",
      "9        64       57      196\n",
      "10      277      139      690\n"
     ]
    }
   ],
   "source": [
    "# Select rows 5 to 10 and columns 1 to 3\n",
    "subset = df.iloc[5:11, 1:4]\n",
    "print(subset)"
   ]
  },
  {
   "cell_type": "markdown",
   "metadata": {},
   "source": [
    "This follows Python's standard slicing rules (`start:stop`, where `stop` is exclusive)."
   ]
  },
  {
   "cell_type": "markdown",
   "metadata": {},
   "source": [
    "## Introduction to NumPy and Its Relationship with Pandas\n",
    "\n",
    "As we continue our exploration of computational tools for biology, it is important to understand [NumPy](https://numpy.org/doc/stable/), a fundamental package for numerical computing in Python.\n",
    "While we have been working with Pandas, it is built on top of NumPy, meaning that under the hood, Pandas leverages NumPy's efficient array operations.\n",
    "\n",
    "NumPy (Numerical Python) is a powerful library that provides support for large, multi-dimensional arrays and matrices, along with a collection of mathematical functions to operate on these arrays efficiently. NumPy is optimized for performance, making it much faster than native Python lists when performing numerical computations.\n",
    "\n",
    "Key Features of NumPy\n",
    "\n",
    "- Supports multi-dimensional arrays (ndarrays).\n",
    "- Provides mathematical functions for linear algebra, statistics, and other numerical tasks.\n",
    "- Optimized for speed and memory efficiency.\n",
    "- Used by many scientific computing libraries, including Pandas, SciPy, and matplotlib.\n",
    "\n",
    "Pandas DataFrames internally store their data using NumPy arrays. We can extract the underlying NumPy representation of a DataFrame (or a column) using the `.to_numpy()` method.\n",
    "\n",
    "For example, if we have a Pandas DataFrame called `df`, we can retrieve its NumPy array as follows:"
   ]
  },
  {
   "cell_type": "code",
   "execution_count": 13,
   "metadata": {},
   "outputs": [
    {
     "name": "stdout",
     "output_type": "stream",
     "text": [
      "[['PA14_00010' 513 355 ... 63 46 151]\n",
      " ['PA14_00020' 446 353 ... 56 4 82]\n",
      " ['PA14_00030' 320 316 ... 40 0 73]\n",
      " ...\n",
      " ['PA14_73400' 221 95 ... 24 8 66]\n",
      " ['PA14_73410' 839 463 ... 58 36 118]\n",
      " ['PA14_73420' 167 181 ... 26 17 19]]\n"
     ]
    }
   ],
   "source": [
    "numpy_array = df.to_numpy()\n",
    "print(numpy_array)"
   ]
  },
  {
   "cell_type": "markdown",
   "metadata": {},
   "source": [
    "This will return a NumPy ndarray, where each row corresponds to a record, and each column corresponds to a feature from the DataFrame."
   ]
  },
  {
   "cell_type": "markdown",
   "metadata": {},
   "source": [
    "### Extracting a NumPy Array from a DataFrame\n",
    "\n",
    "Let’s now apply this knowledge to our gene expression dataset.\n",
    "Suppose we want to extract all data except the first column (which is labeled `\"Gene\"`).\n",
    "We can achieve this by selecting all columns except the first one and then converting the result into a NumPy array."
   ]
  },
  {
   "cell_type": "code",
   "execution_count": 14,
   "metadata": {},
   "outputs": [
    {
     "name": "stdout",
     "output_type": "stream",
     "text": [
      "[[ 513  355 1182 ...   63   46  151]\n",
      " [ 446  353  966 ...   56    4   82]\n",
      " [ 320  316  704 ...   40    0   73]\n",
      " ...\n",
      " [ 221   95  555 ...   24    8   66]\n",
      " [ 839  463 1952 ...   58   36  118]\n",
      " [ 167  181  493 ...   26   17   19]]\n",
      "<class 'numpy.ndarray'>\n"
     ]
    }
   ],
   "source": [
    "# Drop the first column (\"Gene\") and convert the rest of the DataFrame to a NumPy array\n",
    "data_array = df.iloc[:, 1:].to_numpy()\n",
    "\n",
    "# Display the resulting NumPy array\n",
    "print(data_array)\n",
    "print(type(data_array))  # Confirm it's a NumPy array"
   ]
  },
  {
   "cell_type": "markdown",
   "metadata": {},
   "source": [
    "1. We use `.iloc[:, 1:]` to select all rows (`:`) and all columns starting from index 1 (`1:`), effectively excluding the first column.\n",
    "2. We then apply `.to_numpy()` to convert the DataFrame selection into a NumPy array.\n",
    "3. Finally, we print the array and its type to confirm that it is a NumPy ndarray."
   ]
  },
  {
   "cell_type": "markdown",
   "metadata": {},
   "source": [
    "While Pandas provides a user-friendly interface for handling tabular data, NumPy is faster and more memory-efficient for numerical operations.\n",
    "NumPy arrays are typically preferred when performing:\n",
    "\n",
    "- Mathematical transformations on entire datasets.\n",
    "- Statistical analyses that require fast computations.\n",
    "- Machine learning preprocessing, where numerical arrays are required for training models."
   ]
  },
  {
   "cell_type": "markdown",
   "metadata": {},
   "source": [
    "## Indexing and Slicing in NumPy\n",
    "\n",
    "Like Python lists and Pandas DataFrames, NumPy arrays support indexing and slicing."
   ]
  },
  {
   "cell_type": "markdown",
   "metadata": {},
   "source": [
    "### Basic Indexing\n",
    "\n",
    "NumPy arrays are zero-indexed, meaning the first element has an index of `0`."
   ]
  },
  {
   "cell_type": "code",
   "execution_count": 15,
   "metadata": {},
   "outputs": [
    {
     "name": "stdout",
     "output_type": "stream",
     "text": [
      "[ 513  355 1182  735   19   63   46  151]\n"
     ]
    }
   ],
   "source": [
    "# Access the first row\n",
    "first_row = data_array[0]\n",
    "print(first_row)"
   ]
  },
  {
   "cell_type": "code",
   "execution_count": 16,
   "metadata": {},
   "outputs": [
    {
     "name": "stdout",
     "output_type": "stream",
     "text": [
      "513\n"
     ]
    }
   ],
   "source": [
    "# Access the first element in the first row\n",
    "first_element = data_array[0, 0]  # Equivalent to data_array[0][0]\n",
    "print(first_element)"
   ]
  },
  {
   "cell_type": "code",
   "execution_count": 17,
   "metadata": {},
   "outputs": [
    {
     "name": "stdout",
     "output_type": "stream",
     "text": [
      "[513 446 320 ... 221 839 167]\n"
     ]
    }
   ],
   "source": [
    "# Access the first column (all rows)\n",
    "first_column = data_array[:, 0]\n",
    "print(first_column)"
   ]
  },
  {
   "cell_type": "markdown",
   "metadata": {},
   "source": [
    "### Slicing\n",
    "\n",
    "Slicing allows us to select subsets of the array."
   ]
  },
  {
   "cell_type": "code",
   "execution_count": 18,
   "metadata": {},
   "outputs": [
    {
     "name": "stdout",
     "output_type": "stream",
     "text": [
      "[[ 513  355 1182  735   19   63   46  151]\n",
      " [ 446  353  966  593    3   56    4   82]\n",
      " [ 320  316  704  565    0   40    0   73]]\n"
     ]
    }
   ],
   "source": [
    "# Select first three rows\n",
    "subset_rows = data_array[:3]\n",
    "print(subset_rows)"
   ]
  },
  {
   "cell_type": "code",
   "execution_count": 19,
   "metadata": {},
   "outputs": [
    {
     "name": "stdout",
     "output_type": "stream",
     "text": [
      "[[ 513  355 1182]\n",
      " [ 446  353  966]\n",
      " [ 320  316  704]\n",
      " ...\n",
      " [ 221   95  555]\n",
      " [ 839  463 1952]\n",
      " [ 167  181  493]]\n"
     ]
    }
   ],
   "source": [
    "# Select first three columns\n",
    "subset_columns = data_array[:, :3]\n",
    "print(subset_columns)"
   ]
  },
  {
   "cell_type": "code",
   "execution_count": 20,
   "metadata": {},
   "outputs": [
    {
     "name": "stdout",
     "output_type": "stream",
     "text": [
      "[[ 316  704  565]\n",
      " [ 575 1252  867]\n",
      " [  92  304  200]]\n"
     ]
    }
   ],
   "source": [
    "# Select rows 2 to 4 and columns 1 to 3\n",
    "subset = data_array[2:5, 1:4]\n",
    "print(subset)"
   ]
  },
  {
   "cell_type": "markdown",
   "metadata": {},
   "source": [
    "Here, slicing follows the standard Python format: `start:stop`, where `stop` is exclusive."
   ]
  },
  {
   "cell_type": "markdown",
   "metadata": {},
   "source": [
    "## Common NumPy Operations\n",
    "\n",
    "NumPy provides built-in functions to perform mathematical operations efficiently across entire arrays."
   ]
  },
  {
   "cell_type": "markdown",
   "metadata": {},
   "source": [
    "### Basic Mathematical Operations\n",
    "\n",
    "NumPy supports element-wise arithmetic operations without needing explicit loops:"
   ]
  },
  {
   "cell_type": "code",
   "execution_count": 21,
   "metadata": {},
   "outputs": [
    {
     "name": "stdout",
     "output_type": "stream",
     "text": [
      "[[ 523  365 1192  745   29   73   56  161]\n",
      " [ 456  363  976  603   13   66   14   92]\n",
      " [ 330  326  714  575   10   50   10   83]\n",
      " [ 582  585 1262  877   15   84  116  165]\n",
      " [ 114  102  314  210   11   17   19   30]]\n"
     ]
    }
   ],
   "source": [
    "# Add 10 to every element\n",
    "data_plus_10 = data_array + 10\n",
    "print(data_plus_10[:5])"
   ]
  },
  {
   "cell_type": "code",
   "execution_count": 22,
   "metadata": {},
   "outputs": [
    {
     "name": "stdout",
     "output_type": "stream",
     "text": [
      "[[1026  710 2364 1470   38  126   92  302]\n",
      " [ 892  706 1932 1186    6  112    8  164]\n",
      " [ 640  632 1408 1130    0   80    0  146]\n",
      " [1144 1150 2504 1734   10  148  212  310]\n",
      " [ 208  184  608  400    2   14   18   40]]\n"
     ]
    }
   ],
   "source": [
    "# Multiply all elements by 2\n",
    "data_times_2 = data_array * 2\n",
    "print(data_times_2[:5])"
   ]
  },
  {
   "cell_type": "code",
   "execution_count": 23,
   "metadata": {},
   "outputs": [
    {
     "name": "stdout",
     "output_type": "stream",
     "text": [
      "[[22.64950331 18.84144368 34.38022688 27.11088342  4.35889894  7.93725393\n",
      "   6.78232998 12.28820573]\n",
      " [21.11871208 18.78829423 31.08054054 24.35159132  1.73205081  7.48331477\n",
      "   2.          9.05538514]\n",
      " [17.88854382 17.77638883 26.53299832 23.76972865  0.          6.32455532\n",
      "   0.          8.54400375]\n",
      " [23.91652149 23.97915762 35.38361203 29.44486373  2.23606798  8.60232527\n",
      "  10.29563014 12.4498996 ]\n",
      " [10.19803903  9.59166305 17.43559577 14.14213562  1.          2.64575131\n",
      "   3.          4.47213595]]\n"
     ]
    }
   ],
   "source": [
    "# Compute the square root of each element\n",
    "data_sqrt = np.sqrt(data_array)\n",
    "print(data_sqrt[:5])"
   ]
  },
  {
   "cell_type": "code",
   "execution_count": 24,
   "metadata": {},
   "outputs": [
    {
     "name": "stdout",
     "output_type": "stream",
     "text": [
      "[[6.24222327 5.87493073 7.07580886 6.60123012 2.99573227 4.15888308\n",
      "  3.8501476  5.02388052]\n",
      " [6.10255859 5.86929691 6.8741985  6.38687932 1.38629436 4.04305127\n",
      "  1.60943791 4.41884061]\n",
      " [5.77144112 5.75890177 6.5581978  6.33859408 0.         3.71357207\n",
      "  0.         4.30406509]\n",
      " [6.35088572 6.35610766 7.13329595 6.76619171 1.79175947 4.31748811\n",
      "  4.67282883 5.04985601]\n",
      " [4.65396035 4.53259949 5.72031178 5.30330491 0.69314718 2.07944154\n",
      "  2.30258509 3.04452244]]\n"
     ]
    }
   ],
   "source": [
    "# Compute the natural logarithm of each element\n",
    "data_log = np.log(data_array + 1)  # Adding 1 to avoid log(0)\n",
    "print(data_log[:5])"
   ]
  },
  {
   "cell_type": "markdown",
   "metadata": {},
   "source": [
    "### Statistical Functions\n",
    "\n",
    "NumPy makes it easy to compute descriptive statistics:"
   ]
  },
  {
   "cell_type": "code",
   "execution_count": 25,
   "metadata": {},
   "outputs": [
    {
     "name": "stdout",
     "output_type": "stream",
     "text": [
      "900.8731556002683\n"
     ]
    }
   ],
   "source": [
    "# Mean of entire dataset\n",
    "mean_value = np.mean(data_array)\n",
    "print(mean_value)"
   ]
  },
  {
   "cell_type": "code",
   "execution_count": 26,
   "metadata": {},
   "outputs": [
    {
     "name": "stdout",
     "output_type": "stream",
     "text": [
      "34480.665226860765\n"
     ]
    }
   ],
   "source": [
    "# Standard deviation\n",
    "std_dev = np.std(data_array)\n",
    "print(std_dev)"
   ]
  },
  {
   "cell_type": "code",
   "execution_count": 27,
   "metadata": {},
   "outputs": [
    {
     "name": "stdout",
     "output_type": "stream",
     "text": [
      "0\n"
     ]
    }
   ],
   "source": [
    "# Minimum and maximum values\n",
    "min_value = np.min(data_array)\n",
    "print(min_value)"
   ]
  },
  {
   "cell_type": "code",
   "execution_count": 28,
   "metadata": {},
   "outputs": [
    {
     "name": "stdout",
     "output_type": "stream",
     "text": [
      "3927975\n"
     ]
    }
   ],
   "source": [
    "max_value = np.max(data_array)\n",
    "print(max_value)"
   ]
  },
  {
   "cell_type": "code",
   "execution_count": 29,
   "metadata": {},
   "outputs": [
    {
     "name": "stdout",
     "output_type": "stream",
     "text": [
      "[1706.62977867 1143.48239437 2512.09859155  682.56270959   57.4981556\n",
      "  749.80264923  153.25352113  201.65744467]\n"
     ]
    }
   ],
   "source": [
    "# Column-wise mean (mean for each sample across all genes)\n",
    "column_means = np.mean(data_array, axis=0)\n",
    "print(column_means)"
   ]
  },
  {
   "cell_type": "code",
   "execution_count": 30,
   "metadata": {},
   "outputs": [
    {
     "name": "stdout",
     "output_type": "stream",
     "text": [
      "[383.    312.875 252.25  ... 169.75  557.875 143.25 ]\n"
     ]
    }
   ],
   "source": [
    "# Row-wise mean (mean for each gene across all samples)\n",
    "row_means = np.mean(data_array, axis=1)\n",
    "print(row_means)"
   ]
  },
  {
   "cell_type": "markdown",
   "metadata": {},
   "source": [
    "### Boolean Indexing and Filtering\n",
    "\n",
    "Boolean indexing allows us to filter arrays based on conditions:"
   ]
  },
  {
   "cell_type": "code",
   "execution_count": 31,
   "metadata": {},
   "outputs": [
    {
     "name": "stdout",
     "output_type": "stream",
     "text": [
      "[ 513  355 1182 ... 1952  994  493]\n"
     ]
    }
   ],
   "source": [
    "# Find all values greater than 300\n",
    "high_values = data_array[data_array > 300]\n",
    "print(high_values)"
   ]
  },
  {
   "cell_type": "code",
   "execution_count": 32,
   "metadata": {},
   "outputs": [
    {
     "name": "stdout",
     "output_type": "stream",
     "text": [
      "[[ 513  355 1182 ...   63   46  151]\n",
      " [ 446  353  966 ...   56    4   82]\n",
      " [ 320  316  704 ...   40    0   73]\n",
      " ...\n",
      " [ 168  162  645 ...    3    3   37]\n",
      " [ 221   95  555 ...   24    8   66]\n",
      " [ 839  463 1952 ...   58   36  118]]\n"
     ]
    }
   ],
   "source": [
    "# Get rows where at least one value is greater than 500\n",
    "rows_with_high_values = data_array[np.any(data_array > 500, axis=1)]\n",
    "print(rows_with_high_values)"
   ]
  },
  {
   "cell_type": "markdown",
   "metadata": {},
   "source": [
    "## Plotting\n",
    "\n"
   ]
  },
  {
   "cell_type": "code",
   "execution_count": 33,
   "metadata": {},
   "outputs": [],
   "source": [
    "import matplotlib.pyplot as plt"
   ]
  },
  {
   "cell_type": "code",
   "execution_count": 34,
   "metadata": {},
   "outputs": [
    {
     "data": {
      "image/png": "[encoded data removed]",
      "text/plain": [
       "<Figure size 600x400 with 1 Axes>"
      ]
     },
     "metadata": {},
     "output_type": "display_data"
    }
   ],
   "source": [
    "ss316_cols = [\"SS316.1\", \"SS316.2\", \"SS316.3\", \"SS316.4\"]\n",
    "lis_cols = [\"LIS.1\", \"LIS.2\", \"LIS.3\", \"LIS.4\"]\n",
    "\n",
    "index = 755\n",
    "\n",
    "ss_counts = df.iloc[index][ss316_cols].values\n",
    "lis_counts = df.iloc[index][lis_cols].values\n",
    "counts_all = np.concatenate([ss_counts, lis_counts])\n",
    "group_labels = np.array([0] * 4 + [1] * 4)\n",
    "\n",
    "fig, ax = plt.subplots(figsize=(6, 4))\n",
    "\n",
    "# X positions for SS316: [0, 0, 0, 0], LIS: [1,1,1,1]\n",
    "x_ss = np.zeros_like(ss_counts)\n",
    "x_lis = np.ones_like(lis_counts)\n",
    "\n",
    "# Scatter the raw counts\n",
    "ax.scatter(x_ss, ss_counts, color=\"#003594\", label=\"SS316 Observed\", alpha=0.7)\n",
    "ax.scatter(x_lis, lis_counts, color=\"#f46036\", label=\"LIS Observed\", alpha=0.7)\n",
    "\n",
    "# Clean up the plot\n",
    "ax.set_xlim(-0.5, 1.5)\n",
    "ax.set_xticks([0, 1])\n",
    "ax.set_xticklabels([\"SS316\", \"LIS\"])\n",
    "ax.set_ylabel(\"Counts\")\n",
    "ax.legend(loc=\"best\")\n",
    "plt.show()"
   ]
  },
  {
   "cell_type": "markdown",
   "metadata": {},
   "source": [
    "## Negative Binomial Distribution \n",
    "\n",
    "We will use the parameterization:\n",
    "\n",
    "- $\\mu$: the mean\n",
    "- $\\alpha$: the dispersion  \n",
    "\n",
    "(Alternatively, $r = 1/\\alpha$.)\n",
    "\n",
    "For a single count $x$, the probability mass function is:\n",
    "\n",
    "$$\n",
    "\\mathrm{NB}(x; \\mu,\\alpha) \n",
    "= \\binom{x + \\tfrac{1}{\\alpha}-1}{x}\n",
    "  \\left(\\frac{1/\\alpha}{1/\\alpha + \\mu}\\right)^{\\frac{1}{\\alpha}}\n",
    "  \\left(\\frac{\\mu}{1/\\alpha + \\mu}\\right)^{x}.\n",
    "$$\n",
    "\n",
    "We want the negative log-likelihood of these counts, so we sum the log of the PMF over all observations and put a minus sign in front."
   ]
  },
  {
   "cell_type": "markdown",
   "metadata": {},
   "source": [
    "### Null model\n",
    "\n",
    "Single group (Reduced model, ignoring condition):  \n",
    "We assume all 8 samples (4 of SS316 + 4 of LIS) share the *same* mean $\\mu$."
   ]
  },
  {
   "cell_type": "code",
   "execution_count": 35,
   "metadata": {},
   "outputs": [],
   "source": [
    "from math import lgamma, log"
   ]
  },
  {
   "cell_type": "code",
   "execution_count": 36,
   "metadata": {},
   "outputs": [],
   "source": [
    "def negbin_nloglik_single(params, counts):\n",
    "    \"\"\"\n",
    "    Negative log-likelihood for a single negative binomial distribution.\n",
    "    params = [mu, alpha]\n",
    "    counts = array-like of counts from *all samples*, ignoring group.\n",
    "    \"\"\"\n",
    "    mu, alpha = params\n",
    "\n",
    "    # If parameters go non-positive, penalize with infinity (invalid region)\n",
    "    if mu <= 0 or alpha <= 0:\n",
    "        return np.inf\n",
    "\n",
    "    r = 1.0 / alpha\n",
    "    nll = 0.0\n",
    "    for x in counts:\n",
    "        # log PMF pieces for NB\n",
    "        # We'll do (lgamma(x + r) - lgamma(r) - lgamma(x+1) + ... ) carefully\n",
    "        # Then we accumulate the negative log-likelihood\n",
    "        term = (\n",
    "            lgamma(x + r)\n",
    "            - lgamma(r)\n",
    "            - lgamma(x + 1)\n",
    "            + r * log(r / (r + mu))\n",
    "            + x * log(mu / (r + mu))\n",
    "        )\n",
    "        # We are summing the *negative* of log PMF, so subtract\n",
    "        nll -= term\n",
    "\n",
    "    return nll"
   ]
  },
  {
   "cell_type": "markdown",
   "metadata": {},
   "source": [
    "### Fit model"
   ]
  },
  {
   "cell_type": "code",
   "execution_count": 37,
   "metadata": {},
   "outputs": [],
   "source": [
    "from scipy.optimize import minimize"
   ]
  },
  {
   "cell_type": "code",
   "execution_count": 38,
   "metadata": {},
   "outputs": [],
   "source": [
    "def fit_reduced_model(counts):\n",
    "    \"\"\"\n",
    "    Fit a single NB distribution to all counts (reduced model).\n",
    "    returns (mu_hat, alpha_hat, neg_loglike).\n",
    "    \"\"\"\n",
    "    mu_init = np.mean(counts) + 1e-9\n",
    "    alpha_init = 0.1  # an arbitrary guess\n",
    "    init_params = [mu_init, alpha_init]\n",
    "\n",
    "    bnds = [(1e-9, None), (1e-9, None)]\n",
    "    result = minimize(\n",
    "        negbin_nloglik_single,\n",
    "        init_params,\n",
    "        args=(counts,),\n",
    "        method=\"L-BFGS-B\",\n",
    "        bounds=bnds,\n",
    "    )\n",
    "    mu_hat, alpha_hat = result.x\n",
    "    nll = result.fun\n",
    "    return mu_hat, alpha_hat, nll"
   ]
  },
  {
   "cell_type": "code",
   "execution_count": 39,
   "metadata": {},
   "outputs": [],
   "source": [
    "mu_r, alpha_r, nll_r = fit_reduced_model(counts_all)"
   ]
  },
  {
   "cell_type": "code",
   "execution_count": 40,
   "metadata": {},
   "outputs": [],
   "source": [
    "# Negative binomial param conversion:\n",
    "# If X ~ NB(r, p) in NumPy's parameterization, E[X] = r * (1-p)/p.\n",
    "# We have mean = mu, dispersion alpha => r = 1/alpha, p = r/(r+mu).\n",
    "# So if r=1/alpha, p = r/(r+mu):\n",
    "def sample_nb(mu, alpha, size=1000):\n",
    "    r = 1.0 / alpha\n",
    "    p = r / (r + mu)\n",
    "    # np.random.negative_binomial(n, p) => n = r, success prob = p\n",
    "    # yields # of failures (X) until n successes with prob p each trial\n",
    "    # but the mean will match if we do it this way.\n",
    "    samples = np.random.negative_binomial(r, p, size=size)\n",
    "    return samples"
   ]
  },
  {
   "cell_type": "code",
   "execution_count": 41,
   "metadata": {},
   "outputs": [],
   "source": [
    "samples_r = sample_nb(mu_r, alpha_r, size=2000)"
   ]
  },
  {
   "cell_type": "code",
   "execution_count": 42,
   "metadata": {},
   "outputs": [
    {
     "name": "stdout",
     "output_type": "stream",
     "text": [
      "{'bodies': [<matplotlib.collections.FillBetweenPolyCollection object at 0x7aca33f6f0e0>, <matplotlib.collections.FillBetweenPolyCollection object at 0x7aca32f302d0>]}\n"
     ]
    },
    {
     "data": {
      "image/png": "[encoded data removed]",
      "text/plain": [
       "<Figure size 600x400 with 1 Axes>"
      ]
     },
     "metadata": {},
     "output_type": "display_data"
    }
   ],
   "source": [
    "fig, ax = plt.subplots(figsize=(6, 4))\n",
    "\n",
    "# X positions for SS316: [0, 0, 0, 0], LIS: [1,1,1,1]\n",
    "x_ss = np.zeros_like(ss_counts)\n",
    "x_lis = np.ones_like(lis_counts)\n",
    "\n",
    "# Scatter the raw counts\n",
    "ax.scatter(\n",
    "    x_ss, ss_counts, color=\"#003594\", label=\"SS316 Observed\", alpha=0.9, zorder=10\n",
    ")\n",
    "ax.scatter(\n",
    "    x_lis, lis_counts, color=\"#f46036\", label=\"LIS Observed\", alpha=0.9, zorder=10\n",
    ")\n",
    "\n",
    "\n",
    "data_to_violin = [samples_r, samples_r]\n",
    "parts = ax.violinplot(\n",
    "    dataset=data_to_violin,\n",
    "    positions=[0, 1],\n",
    "    showmeans=False,\n",
    "    showextrema=False,\n",
    "    showmedians=False,\n",
    ")\n",
    "\n",
    "parts[\"bodies\"][0].set_facecolor(\"#784A66\")\n",
    "parts[\"bodies\"][0].set_edgecolor(\"#784A66\")\n",
    "parts[\"bodies\"][1].set_facecolor(\"#784A66\")\n",
    "parts[\"bodies\"][1].set_edgecolor(\"#784A66\")\n",
    "print(parts)\n",
    "\n",
    "# Clean up the plot\n",
    "ax.set_xlim(-0.5, 1.5)\n",
    "ax.set_ylim(0)\n",
    "ax.set_xticks([0, 1])\n",
    "ax.set_xticklabels([\"SS316\", \"LIS\"])\n",
    "ax.set_ylabel(\"Counts\")\n",
    "plt.show()"
   ]
  },
  {
   "cell_type": "markdown",
   "metadata": {},
   "source": [
    "### Alternative model\n",
    "\n",
    "Two groups (Full model):  \n",
    "We allow SS316 to have mean $\\mu_1$ and LIS to have mean $\\mu_2$, but keep a single $\\alpha$ for simplicity."
   ]
  },
  {
   "cell_type": "code",
   "execution_count": 43,
   "metadata": {},
   "outputs": [],
   "source": [
    "def negbin_nloglik_two_groups(params, counts, group_labels):\n",
    "    \"\"\"\n",
    "    Negative log-likelihood for a two-group NB model.\n",
    "    params = [mu1, mu2, alpha]\n",
    "    counts: all counts from both groups combined\n",
    "    group_labels: 0 for group1 (SS316), 1 for group2 (LIS)\n",
    "    \"\"\"\n",
    "    mu1, mu2, alpha = params\n",
    "    if mu1 <= 0 or mu2 <= 0 or alpha <= 0:\n",
    "        return np.inf\n",
    "\n",
    "    r = 1.0 / alpha\n",
    "    nll = 0.0\n",
    "\n",
    "    # separate counts by group\n",
    "    group1_counts = counts[group_labels == 0]\n",
    "    group2_counts = counts[group_labels == 1]\n",
    "\n",
    "    # group1\n",
    "    for x in group1_counts:\n",
    "        term = (\n",
    "            lgamma(x + r)\n",
    "            - lgamma(r)\n",
    "            - lgamma(x + 1)\n",
    "            + r * log(r / (r + mu1))\n",
    "            + x * log(mu1 / (r + mu1))\n",
    "        )\n",
    "        nll -= term\n",
    "\n",
    "    # group2\n",
    "    for x in group2_counts:\n",
    "        term = (\n",
    "            lgamma(x + r)\n",
    "            - lgamma(r)\n",
    "            - lgamma(x + 1)\n",
    "            + r * log(r / (r + mu2))\n",
    "            + x * log(mu2 / (r + mu2))\n",
    "        )\n",
    "        nll -= term\n",
    "\n",
    "    return nll"
   ]
  },
  {
   "cell_type": "code",
   "execution_count": 44,
   "metadata": {},
   "outputs": [],
   "source": [
    "def fit_full_model(counts_all, group_labels):\n",
    "    \"\"\"\n",
    "    Fit two-group NB (mu1, mu2, alpha).\n",
    "    returns (mu1_hat, mu2_hat, alpha_hat, neg_loglike).\n",
    "    \"\"\"\n",
    "    group1_counts = counts_all[group_labels == 0]\n",
    "    group2_counts = counts_all[group_labels == 1]\n",
    "\n",
    "    mu1_init = np.mean(group1_counts) + 1e-9\n",
    "    mu2_init = np.mean(group2_counts) + 1e-9\n",
    "    alpha_init = 0.1\n",
    "    init_params = [mu1_init, mu2_init, alpha_init]\n",
    "\n",
    "    bnds = [(1e-9, None), (1e-9, None), (1e-9, None)]\n",
    "    result = minimize(\n",
    "        negbin_nloglik_two_groups,\n",
    "        init_params,\n",
    "        args=(counts_all, group_labels),\n",
    "        method=\"L-BFGS-B\",\n",
    "        bounds=bnds,\n",
    "    )\n",
    "\n",
    "    mu1_hat, mu2_hat, alpha_hat = result.x\n",
    "    nll = result.fun\n",
    "    return mu1_hat, mu2_hat, alpha_hat, nll"
   ]
  },
  {
   "cell_type": "code",
   "execution_count": 45,
   "metadata": {},
   "outputs": [],
   "source": [
    "mu_ss, mu_lis, alpha_f, nll_f = fit_full_model(counts_all, group_labels)"
   ]
  },
  {
   "cell_type": "code",
   "execution_count": 46,
   "metadata": {},
   "outputs": [],
   "source": [
    "samples_f_ss = sample_nb(mu_ss, alpha_f, size=2000)\n",
    "samples_f_lis = sample_nb(mu_lis, alpha_f, size=2000)\n"
   ]
  },
  {
   "cell_type": "code",
   "execution_count": 47,
   "metadata": {},
   "outputs": [
    {
     "name": "stdout",
     "output_type": "stream",
     "text": [
      "{'bodies': [<matplotlib.collections.FillBetweenPolyCollection object at 0x7aca32fa0910>, <matplotlib.collections.FillBetweenPolyCollection object at 0x7aca32fa0a50>]}\n"
     ]
    },
    {
     "data": {
      "image/png": "[encoded data removed]",
      "text/plain": [
       "<Figure size 600x400 with 1 Axes>"
      ]
     },
     "metadata": {},
     "output_type": "display_data"
    }
   ],
   "source": [
    "fig, ax = plt.subplots(figsize=(6, 4))\n",
    "\n",
    "# X positions for SS316: [0, 0, 0, 0], LIS: [1,1,1,1]\n",
    "x_ss = np.zeros_like(ss_counts)\n",
    "x_lis = np.ones_like(lis_counts)\n",
    "\n",
    "# Scatter the raw counts\n",
    "ax.scatter(\n",
    "    x_ss, ss_counts, color=\"#003594\", label=\"SS316 Observed\", alpha=0.9, zorder=10\n",
    ")\n",
    "ax.scatter(\n",
    "    x_lis, lis_counts, color=\"#f46036\", label=\"LIS Observed\", alpha=0.9, zorder=10\n",
    ")\n",
    "\n",
    "\n",
    "data_to_violin = [samples_f_ss, samples_f_lis]\n",
    "parts = ax.violinplot(\n",
    "    dataset=data_to_violin,\n",
    "    positions=[0, 1],\n",
    "    showmeans=False,\n",
    "    showextrema=False,\n",
    "    showmedians=False,\n",
    ")\n",
    "\n",
    "parts[\"bodies\"][0].set_facecolor(\"#003594\")\n",
    "parts[\"bodies\"][0].set_edgecolor(\"#003594\")\n",
    "parts[\"bodies\"][1].set_facecolor(\"#f46036\")\n",
    "parts[\"bodies\"][1].set_edgecolor(\"#f46036\")\n",
    "print(parts)\n",
    "\n",
    "# Clean up the plot\n",
    "ax.set_xlim(-0.5, 1.5)\n",
    "ax.set_ylim(0)\n",
    "ax.set_xticks([0, 1])\n",
    "ax.set_xticklabels([\"SS316\", \"LIS\"])\n",
    "ax.set_ylabel(\"Counts\")\n",
    "plt.show()"
   ]
  },
  {
   "cell_type": "markdown",
   "metadata": {},
   "source": [
    "## Likelihood Ratio Test\n",
    "\n",
    "1. Reduced model negative log-likelihood = $ \\text{NLL}_r $  \n",
    "2. Full model negative log-likelihood    = $ \\text{NLL}_f $  \n",
    "3. LRT statistic:  \n",
    "   $$\n",
    "     \\chi^2 = 2(\\text{NLL}_r - \\text{NLL}_f)\n",
    "   $$  \n",
    "4. The difference in degrees of freedom is 1 (the extra parameter $\\mu_2$ minus the single $\\mu$ in the reduced model).  \n",
    "5. p-value = $1 - F_{\\chi^2_1}(\\chi^2)$."
   ]
  },
  {
   "cell_type": "code",
   "execution_count": 48,
   "metadata": {},
   "outputs": [],
   "source": [
    "from scipy.stats import chi2"
   ]
  },
  {
   "cell_type": "code",
   "execution_count": 49,
   "metadata": {},
   "outputs": [
    {
     "name": "stdout",
     "output_type": "stream",
     "text": [
      "0.562979518791411\n"
     ]
    }
   ],
   "source": [
    "# LRT statistic\n",
    "lr_stat = 2.0 * (nll_r - nll_f)\n",
    "# p-value\n",
    "p_val = 1.0 - chi2.cdf(lr_stat, df=1)\n",
    "\n",
    "print(p_val)"
   ]
  },
  {
   "cell_type": "markdown",
   "metadata": {},
   "source": [
    "Log2 fold change"
   ]
  },
  {
   "cell_type": "code",
   "execution_count": 50,
   "metadata": {},
   "outputs": [
    {
     "name": "stdout",
     "output_type": "stream",
     "text": [
      "0.36257008369198473\n"
     ]
    }
   ],
   "source": [
    "log2_fc = np.log2((mu_lis + 1e-8) / (mu_ss + 1e-8))\n",
    "print(log2_fc)"
   ]
  }
 ],
 "metadata": {
  "kernelspec": {
   "display_name": "sci",
   "language": "python",
   "name": "python3"
  },
  "language_info": {
   "codemirror_mode": {
    "name": "ipython",
    "version": 3
   },
   "file_extension": ".py",
   "mimetype": "text/x-python",
   "name": "python",
   "nbconvert_exporter": "python",
   "pygments_lexer": "ipython3",
   "version": "3.13.2"
  }
 },
 "nbformat": 4,
 "nbformat_minor": 2
}
