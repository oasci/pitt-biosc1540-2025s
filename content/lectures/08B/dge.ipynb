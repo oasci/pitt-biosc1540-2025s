{
 "cells": [
  {
   "cell_type": "markdown",
   "metadata": {},
   "source": [
    "# Differential gene expression\n",
    "\n",
    "This activity is designed to guide you through the process of differential gene expression analysis.\n",
    "It focuses on examining the variations in gene expression across different experimental conditions to identify genes that are significantly upregulated or downregulated.\n",
    "The analysis integrates data preprocessing, statistical testing, and visualization techniques to enable a comprehensive understanding of the biological differences present in the dataset.\n",
    "Through this notebook, you will learn to interpret gene expression patterns and draw meaningful conclusions that can contribute to a broader understanding of molecular mechanisms."
   ]
  },
  {
   "cell_type": "markdown",
   "metadata": {},
   "source": [
    "## Obtaining the data\n",
    "\n",
    "In computational biology, working with large datasets is a fundamental part of data analysis. One of the most common formats for storing structured data is the CSV (Comma-Separated Values) file.\n",
    "A CSV file is essentially a plain text file where each row represents a record, and columns are separated by commas. This format makes it easy to share and manipulate tabular data.\n",
    "\n",
    "In this course, we will use [Pandas](https://pandas.pydata.org/docs/), a powerful Python library designed for data manipulation and analysis, to handle our data. Before we can analyze any dataset, we must first obtain and load it into a format that allows efficient processing.\n",
    "\n",
    "Note: [Polars](https://pola.rs/) is way better (in my \"professional\" opinion), but it is not as popular as pandas."
   ]
  },
  {
   "cell_type": "code",
   "execution_count": null,
   "metadata": {},
   "outputs": [],
   "source": [
    "import requests\n",
    "import io\n",
    "import pandas as pd\n",
    "import numpy as np"
   ]
  },
  {
   "cell_type": "markdown",
   "metadata": {},
   "source": [
    "The dataset we will be working with contains gene expression data and is hosted on GitHub.\n",
    "To download and load this dataset into memory, we can use the `requests` library to make an HTTP request and retrieve the file. Below is a Python function that performs this task.\n",
    "Note that this is only really done because of how I am hosting the data."
   ]
  },
  {
   "cell_type": "code",
   "execution_count": null,
   "metadata": {},
   "outputs": [],
   "source": [
    "def get_gene_expr_data() -> pd.DataFrame:\n",
    "    csv_path = \"https://github.com/oasci/pitt-biosc1540-2025s/raw/refs/heads/main/content/data/gene-expr/SSvLIS-day3/ground-day3-gene-counts-SS-and-LIS.csv\"\n",
    "    response = requests.get(csv_path)\n",
    "    if response.status_code == 200:\n",
    "        csv_text = response.text\n",
    "        data = pd.read_csv(io.StringIO(csv_text))\n",
    "        return data\n",
    "    else:\n",
    "        print(f\"Failed to fetch file. Status code: {response.status_code}\")"
   ]
  },
  {
   "cell_type": "markdown",
   "metadata": {},
   "source": [
    "This function does the following:\n",
    "\n",
    "1. Uses the [`requests`](https://docs.python-requests.org/en/latest/) library to send an HTTP GET request to the GitHub-hosted CSV file.\n",
    "2. Checks if the request was successful by verifying the status code.\n",
    "3. Reads the CSV file's content and converts it into a Pandas DataFrame using `pd.read_csv()`.\n",
    "4. Returns the DataFrame for further analysis.\n",
    "\n",
    "A DataFrame in Pandas is a two-dimensional, table-like data structure similar to an Excel spreadsheet. It consists of:\n",
    "\n",
    "- Rows (each row represents an observation or record).\n",
    "- Columns (each column represents a variable or feature).\n",
    "- Indexing (a way to reference rows and columns efficiently).\n",
    "\n",
    "You can think of a DataFrame as an enhanced Excel sheet that allows programmatic manipulation, filtering, and analysis of data. Unlike an Excel sheet, however, Pandas provides powerful tools to handle missing data, apply complex transformations, and perform statistical computations efficiently.\n",
    "\n",
    "Once we retrieve the CSV file, we use [`pd.read_csv()`](https://pandas.pydata.org/docs/reference/api/pandas.read_csv.html) to load the text data into a DataFrame:\n",
    "\n",
    "```python\n",
    "data = pd.read_csv(io.StringIO(csv_text))\n",
    "```\n",
    "\n",
    "Here, `io.StringIO(csv_text)` treats the downloaded CSV content as if it were a file, allowing `pd.read_csv()` to parse it directly."
   ]
  },
  {
   "cell_type": "code",
   "execution_count": null,
   "metadata": {},
   "outputs": [],
   "source": [
    "df = get_gene_expr_data()"
   ]
  },
  {
   "cell_type": "markdown",
   "metadata": {},
   "source": [
    "## Exploring the data\n",
    "\n",
    "Now that we have successfully loaded our dataset into a Pandas DataFrame, it is essential to understand how to explore, manipulate, and extract meaningful information from it.\n",
    "In this section, we will cover fundamental operations such as viewing data, indexing, slicing, filtering, and selecting subsets of a DataFrame."
   ]
  },
  {
   "cell_type": "markdown",
   "metadata": {},
   "source": [
    "### Viewing the First and Last Few Rows\n",
    "\n",
    "We can use the `.head()` and `.tail()` methods to preview the data:"
   ]
  },
  {
   "cell_type": "code",
   "execution_count": null,
   "metadata": {},
   "outputs": [],
   "source": [
    "# Display the first five rows\n",
    "print(df.head())"
   ]
  },
  {
   "cell_type": "code",
   "execution_count": null,
   "metadata": {},
   "outputs": [],
   "source": [
    "# Display the last five rows\n",
    "print(df.tail())"
   ]
  },
  {
   "cell_type": "markdown",
   "metadata": {},
   "source": [
    "By default, `.head()` and `.tail()` return the first and last five rows, respectively. You can specify a different number of rows as an argument, e.g., `df.head(10)` for the first ten rows."
   ]
  },
  {
   "cell_type": "markdown",
   "metadata": {},
   "source": [
    "### Checking the Structure of the Data\n",
    "\n",
    "To understand the columns, data types, and non-null values, we use:"
   ]
  },
  {
   "cell_type": "code",
   "execution_count": null,
   "metadata": {},
   "outputs": [],
   "source": [
    "print(df.info())"
   ]
  },
  {
   "cell_type": "markdown",
   "metadata": {},
   "source": [
    "This provides details such as:\n",
    "\n",
    "- The number of rows and columns.\n",
    "- Column names and their data types.\n",
    "- The number of non-null values in each column."
   ]
  },
  {
   "cell_type": "markdown",
   "metadata": {},
   "source": [
    "### Summarizing the Data\n",
    "\n",
    "To obtain summary statistics of numeric columns, we use:"
   ]
  },
  {
   "cell_type": "code",
   "execution_count": null,
   "metadata": {},
   "outputs": [],
   "source": [
    "print(df.describe())"
   ]
  },
  {
   "cell_type": "markdown",
   "metadata": {},
   "source": [
    "The `.describe()` method provides useful insights such as the mean, standard deviation, minimum, and maximum values of numerical features."
   ]
  },
  {
   "cell_type": "markdown",
   "metadata": {},
   "source": [
    "### Selecting Columns\n",
    "\n",
    "You can select a column using bracket notation (`[]`) or the dot notation (`.`):"
   ]
  },
  {
   "cell_type": "code",
   "execution_count": null,
   "metadata": {},
   "outputs": [],
   "source": [
    "genes = df[\"Gene\"]\n",
    "print(genes)"
   ]
  },
  {
   "cell_type": "markdown",
   "metadata": {},
   "source": [
    "To select multiple columns, pass a list:"
   ]
  },
  {
   "cell_type": "code",
   "execution_count": null,
   "metadata": {},
   "outputs": [],
   "source": [
    "ss_data = df[[\"SS316.1\", \"SS316.2\", \"SS316.3\", \"SS316.4\"]]\n",
    "print(ss_data)"
   ]
  },
  {
   "cell_type": "markdown",
   "metadata": {},
   "source": [
    "### Selecting Rows\n",
    "\n",
    "To access specific rows, Pandas provides two primary methods:\n",
    "\n",
    "- `.loc[]` (label-based selection)\n",
    "- `.iloc[]` (integer index-based selection)"
   ]
  },
  {
   "cell_type": "code",
   "execution_count": null,
   "metadata": {},
   "outputs": [],
   "source": [
    "# Select a row by index label\n",
    "row_5 = df.loc[5]\n",
    "print(row_5)"
   ]
  },
  {
   "cell_type": "code",
   "execution_count": null,
   "metadata": {},
   "outputs": [],
   "source": [
    "# Select multiple rows\n",
    "rows_5_to_10 = df.loc[5:10]\n",
    "print(rows_5_to_10)"
   ]
  },
  {
   "cell_type": "markdown",
   "metadata": {},
   "source": [
    "### Slicing the DataFrame\n",
    "\n",
    "You can slice both rows and columns using `.iloc[]`:"
   ]
  },
  {
   "cell_type": "code",
   "execution_count": null,
   "metadata": {},
   "outputs": [],
   "source": [
    "# Select rows 5 to 10 and columns 1 to 3\n",
    "subset = df.iloc[5:11, 1:4]\n",
    "print(subset)"
   ]
  },
  {
   "cell_type": "markdown",
   "metadata": {},
   "source": [
    "This follows Python's standard slicing rules (`start:stop`, where `stop` is exclusive)."
   ]
  },
  {
   "cell_type": "markdown",
   "metadata": {},
   "source": [
    "## Introduction to NumPy and Its Relationship with Pandas\n",
    "\n",
    "As we continue our exploration of computational tools for biology, it is important to understand [NumPy](https://numpy.org/doc/stable/), a fundamental package for numerical computing in Python.\n",
    "While we have been working with Pandas, it is built on top of NumPy, meaning that under the hood, Pandas leverages NumPy's efficient array operations.\n",
    "\n",
    "NumPy (Numerical Python) is a powerful library that provides support for large, multi-dimensional arrays and matrices, along with a collection of mathematical functions to operate on these arrays efficiently. NumPy is optimized for performance, making it much faster than native Python lists when performing numerical computations.\n",
    "\n",
    "Key Features of NumPy\n",
    "\n",
    "- Supports multi-dimensional arrays (ndarrays).\n",
    "- Provides mathematical functions for linear algebra, statistics, and other numerical tasks.\n",
    "- Optimized for speed and memory efficiency.\n",
    "- Used by many scientific computing libraries, including Pandas, SciPy, and matplotlib.\n",
    "\n",
    "Pandas DataFrames internally store their data using NumPy arrays. We can extract the underlying NumPy representation of a DataFrame (or a column) using the `.to_numpy()` method.\n",
    "\n",
    "For example, if we have a Pandas DataFrame called `df`, we can retrieve its NumPy array as follows:"
   ]
  },
  {
   "cell_type": "code",
   "execution_count": null,
   "metadata": {},
   "outputs": [],
   "source": [
    "numpy_array = df.to_numpy()\n",
    "print(numpy_array)"
   ]
  },
  {
   "cell_type": "markdown",
   "metadata": {},
   "source": [
    "This will return a NumPy ndarray, where each row corresponds to a record, and each column corresponds to a feature from the DataFrame."
   ]
  },
  {
   "cell_type": "markdown",
   "metadata": {},
   "source": [
    "### Extracting a NumPy Array from a DataFrame\n",
    "\n",
    "Let’s now apply this knowledge to our gene expression dataset.\n",
    "Suppose we want to extract all data except the first column (which is labeled `\"Gene\"`).\n",
    "We can achieve this by selecting all columns except the first one and then converting the result into a NumPy array."
   ]
  },
  {
   "cell_type": "code",
   "execution_count": null,
   "metadata": {},
   "outputs": [],
   "source": [
    "# Drop the first column (\"Gene\") and convert the rest of the DataFrame to a NumPy array\n",
    "data_array = df.iloc[:, 1:].to_numpy()\n",
    "\n",
    "# Display the resulting NumPy array\n",
    "print(data_array)\n",
    "print(type(data_array))  # Confirm it's a NumPy array"
   ]
  },
  {
   "cell_type": "markdown",
   "metadata": {},
   "source": [
    "1. We use `.iloc[:, 1:]` to select all rows (`:`) and all columns starting from index 1 (`1:`), effectively excluding the first column.\n",
    "2. We then apply `.to_numpy()` to convert the DataFrame selection into a NumPy array.\n",
    "3. Finally, we print the array and its type to confirm that it is a NumPy ndarray."
   ]
  },
  {
   "cell_type": "markdown",
   "metadata": {},
   "source": [
    "While Pandas provides a user-friendly interface for handling tabular data, NumPy is faster and more memory-efficient for numerical operations.\n",
    "NumPy arrays are typically preferred when performing:\n",
    "\n",
    "- Mathematical transformations on entire datasets.\n",
    "- Statistical analyses that require fast computations.\n",
    "- Machine learning preprocessing, where numerical arrays are required for training models."
   ]
  },
  {
   "cell_type": "markdown",
   "metadata": {},
   "source": [
    "## Indexing and Slicing in NumPy\n",
    "\n",
    "Like Python lists and Pandas DataFrames, NumPy arrays support indexing and slicing."
   ]
  },
  {
   "cell_type": "markdown",
   "metadata": {},
   "source": [
    "### Basic Indexing\n",
    "\n",
    "NumPy arrays are zero-indexed, meaning the first element has an index of `0`."
   ]
  },
  {
   "cell_type": "code",
   "execution_count": null,
   "metadata": {},
   "outputs": [],
   "source": [
    "# Access the first row\n",
    "first_row = data_array[0]\n",
    "print(first_row)"
   ]
  },
  {
   "cell_type": "code",
   "execution_count": null,
   "metadata": {},
   "outputs": [],
   "source": [
    "# Access the first element in the first row\n",
    "first_element = data_array[0, 0]  # Equivalent to data_array[0][0]\n",
    "print(first_element)"
   ]
  },
  {
   "cell_type": "code",
   "execution_count": null,
   "metadata": {},
   "outputs": [],
   "source": [
    "# Access the first column (all rows)\n",
    "first_column = data_array[:, 0]\n",
    "print(first_column)"
   ]
  },
  {
   "cell_type": "markdown",
   "metadata": {},
   "source": [
    "### Slicing\n",
    "\n",
    "Slicing allows us to select subsets of the array."
   ]
  },
  {
   "cell_type": "code",
   "execution_count": null,
   "metadata": {},
   "outputs": [],
   "source": [
    "# Select first three rows\n",
    "subset_rows = data_array[:3]\n",
    "print(subset_rows)"
   ]
  },
  {
   "cell_type": "code",
   "execution_count": null,
   "metadata": {},
   "outputs": [],
   "source": [
    "# Select first three columns\n",
    "subset_columns = data_array[:, :3]\n",
    "print(subset_columns)"
   ]
  },
  {
   "cell_type": "code",
   "execution_count": null,
   "metadata": {},
   "outputs": [],
   "source": [
    "# Select rows 2 to 4 and columns 1 to 3\n",
    "subset = data_array[2:5, 1:4]\n",
    "print(subset)"
   ]
  },
  {
   "cell_type": "markdown",
   "metadata": {},
   "source": [
    "Here, slicing follows the standard Python format: `start:stop`, where `stop` is exclusive."
   ]
  },
  {
   "cell_type": "markdown",
   "metadata": {},
   "source": [
    "## Common NumPy Operations\n",
    "\n",
    "NumPy provides built-in functions to perform mathematical operations efficiently across entire arrays."
   ]
  },
  {
   "cell_type": "markdown",
   "metadata": {},
   "source": [
    "### Basic Mathematical Operations\n",
    "\n",
    "NumPy supports element-wise arithmetic operations without needing explicit loops:"
   ]
  },
  {
   "cell_type": "code",
   "execution_count": null,
   "metadata": {},
   "outputs": [],
   "source": [
    "# Add 10 to every element\n",
    "data_plus_10 = data_array + 10\n",
    "print(data_plus_10[:5])"
   ]
  },
  {
   "cell_type": "code",
   "execution_count": null,
   "metadata": {},
   "outputs": [],
   "source": [
    "# Multiply all elements by 2\n",
    "data_times_2 = data_array * 2\n",
    "print(data_times_2[:5])"
   ]
  },
  {
   "cell_type": "code",
   "execution_count": null,
   "metadata": {},
   "outputs": [],
   "source": [
    "# Compute the square root of each element\n",
    "data_sqrt = np.sqrt(data_array)\n",
    "print(data_sqrt[:5])"
   ]
  },
  {
   "cell_type": "code",
   "execution_count": null,
   "metadata": {},
   "outputs": [],
   "source": [
    "# Compute the natural logarithm of each element\n",
    "data_log = np.log(data_array + 1)  # Adding 1 to avoid log(0)\n",
    "print(data_log[:5])"
   ]
  },
  {
   "cell_type": "markdown",
   "metadata": {},
   "source": [
    "### Statistical Functions\n",
    "\n",
    "NumPy makes it easy to compute descriptive statistics:"
   ]
  },
  {
   "cell_type": "code",
   "execution_count": null,
   "metadata": {},
   "outputs": [],
   "source": [
    "# Mean of entire dataset\n",
    "mean_value = np.mean(data_array)\n",
    "print(mean_value)"
   ]
  },
  {
   "cell_type": "code",
   "execution_count": null,
   "metadata": {},
   "outputs": [],
   "source": [
    "# Standard deviation\n",
    "std_dev = np.std(data_array)\n",
    "print(std_dev)"
   ]
  },
  {
   "cell_type": "code",
   "execution_count": null,
   "metadata": {},
   "outputs": [],
   "source": [
    "# Minimum and maximum values\n",
    "min_value = np.min(data_array)\n",
    "print(min_value)"
   ]
  },
  {
   "cell_type": "code",
   "execution_count": null,
   "metadata": {},
   "outputs": [],
   "source": [
    "max_value = np.max(data_array)\n",
    "print(max_value)"
   ]
  },
  {
   "cell_type": "code",
   "execution_count": null,
   "metadata": {},
   "outputs": [],
   "source": [
    "# Column-wise mean (mean for each sample across all genes)\n",
    "column_means = np.mean(data_array, axis=0)\n",
    "print(column_means)"
   ]
  },
  {
   "cell_type": "code",
   "execution_count": null,
   "metadata": {},
   "outputs": [],
   "source": [
    "# Row-wise mean (mean for each gene across all samples)\n",
    "row_means = np.mean(data_array, axis=1)\n",
    "print(row_means)"
   ]
  },
  {
   "cell_type": "markdown",
   "metadata": {},
   "source": [
    "### Boolean Indexing and Filtering\n",
    "\n",
    "Boolean indexing and filtering are powerful techniques that enable us to select and manipulate data elements based on specific conditions.\n",
    "Instead of iterating through each element with a loop, boolean indexing allows us to apply a condition directly to an array, producing a new array composed solely of elements that meet that condition.\n",
    "When a condition is applied to an array, it generates an array of Boolean values, where each value corresponds to an element in the original array.\n",
    "A value of True indicates that the condition is met for that element, while False means it is not. This Boolean array can then be used to index the original array, effectively filtering the data."
   ]
  },
  {
   "cell_type": "code",
   "execution_count": null,
   "metadata": {},
   "outputs": [],
   "source": [
    "# Find all values greater than 300\n",
    "mask = data_array > 300\n",
    "print(mask)"
   ]
  },
  {
   "cell_type": "code",
   "execution_count": null,
   "metadata": {},
   "outputs": [],
   "source": [
    "# Find all values greater than 300\n",
    "high_values = data_array[mask]\n",
    "print(high_values)"
   ]
  },
  {
   "cell_type": "code",
   "execution_count": null,
   "metadata": {},
   "outputs": [],
   "source": [
    "# Get rows where at least one value is greater than 500\n",
    "rows_with_high_values = data_array[np.any(data_array > 500, axis=1)]\n",
    "print(rows_with_high_values)"
   ]
  },
  {
   "cell_type": "markdown",
   "metadata": {},
   "source": [
    "## Plotting\n",
    "\n",
    "Matplotlib is a widely used Python library for creating static, animated, and interactive visualizations. It provides a high degree of customization, allowing users to tailor their plots to best represent their data. In the context of differential gene expression analysis, visualization plays a crucial role in identifying patterns, trends, and significant changes across different conditions.\n",
    "\n",
    "Matplotlib operates primarily through its `pyplot` module, which offers a collection of functions similar to those in MATLAB, making it easy to generate plots, customize axes, adjust labels, and modify visual properties. A typical workflow involves creating a figure and axes, plotting the desired data, and refining the visualization with titles, labels, legends, and other stylistic adjustments."
   ]
  },
  {
   "cell_type": "code",
   "execution_count": null,
   "metadata": {},
   "outputs": [],
   "source": [
    "import matplotlib.pyplot as plt"
   ]
  },
  {
   "cell_type": "markdown",
   "metadata": {},
   "source": [
    "To compare the expression levels of a specific gene across two conditions, we need to extract the relevant expression data from our dataset. In this case, we are analyzing gene expression from two groups: SS316 and LIS, each with four replicates. By selecting a specific gene using its index in the dataset, we can retrieve the expression values corresponding to these two conditions.\n",
    "\n",
    "In the following code, we define the column names associated with each condition and extract the expression counts for a single gene at a given index. We then combine these counts into a single array for easier manipulation and create a corresponding array of group labels to indicate which samples belong to each condition. This will be useful for further statistical analysis and visualization."
   ]
  },
  {
   "cell_type": "code",
   "execution_count": null,
   "metadata": {},
   "outputs": [],
   "source": [
    "ss316_cols = [\"SS316.1\", \"SS316.2\", \"SS316.3\", \"SS316.4\"]\n",
    "lis_cols = [\"LIS.1\", \"LIS.2\", \"LIS.3\", \"LIS.4\"]"
   ]
  },
  {
   "cell_type": "code",
   "execution_count": null,
   "metadata": {},
   "outputs": [],
   "source": [
    "index = 755\n",
    "ss_counts = df.iloc[index][ss316_cols].values\n",
    "lis_counts = df.iloc[index][lis_cols].values\n",
    "print(ss_counts)\n",
    "print(lis_counts)"
   ]
  },
  {
   "cell_type": "code",
   "execution_count": null,
   "metadata": {},
   "outputs": [],
   "source": [
    "counts_all = np.concatenate([ss_counts, lis_counts])\n",
    "print(counts_all)"
   ]
  },
  {
   "cell_type": "code",
   "execution_count": null,
   "metadata": {},
   "outputs": [],
   "source": [
    "group_labels = np.array([0] * 4 + [1] * 4)\n",
    "print(group_labels)"
   ]
  },
  {
   "cell_type": "markdown",
   "metadata": {},
   "source": [
    "Now that we have extracted the expression values for this gene, `counts_all` contains the combined expression data from both conditions, while `group_labels` assigns numerical labels (0 for SS316 and 1 for LIS) to indicate the condition each sample belongs to. These arrays can now be used for downstream analysis, such as statistical testing to determine whether the gene exhibits significant differential expression between the two conditions. Additionally, we can use these values to generate visualizations that highlight the differences in expression levels."
   ]
  },
  {
   "cell_type": "markdown",
   "metadata": {},
   "source": [
    "To better understand the differences in expression levels between the two conditions, we can create a scatter plot to visualize the raw count data. This plot will display the observed expression values for a single gene across the SS316 and LIS groups.  \n",
    "\n",
    "By plotting individual data points, we can assess variability within each condition and identify potential differences in expression. This is particularly useful for spotting trends, outliers, or cases where expression levels may overlap between conditions.  \n",
    "\n",
    "In the following code, we generate a scatter plot where:  \n",
    "- Each point represents the observed expression count for a given replicate.  \n",
    "- The SS316 samples are plotted at x = 0, while LIS samples are plotted at x = 1.  \n",
    "- Different colors distinguish the two conditions, enhancing visual clarity.  \n",
    "\n",
    "This visualization will help us determine whether the expression levels differ significantly between the two groups before proceeding with further statistical analysis.  "
   ]
  },
  {
   "cell_type": "code",
   "execution_count": null,
   "metadata": {},
   "outputs": [],
   "source": [
    "fig, ax = plt.subplots(figsize=(6, 4))\n",
    "\n",
    "# X positions for SS316: [0, 0, 0, 0], LIS: [1,1,1,1]\n",
    "x_ss = np.zeros_like(ss_counts)\n",
    "x_lis = np.ones_like(lis_counts)\n",
    "\n",
    "# Scatter the raw counts\n",
    "ax.scatter(x_ss, ss_counts, color=\"#003594\", label=\"SS316 Observed\", alpha=0.7)\n",
    "ax.scatter(x_lis, lis_counts, color=\"#f46036\", label=\"LIS Observed\", alpha=0.7)\n",
    "\n",
    "# Clean up the plot\n",
    "ax.set_xlim(-0.5, 1.5)\n",
    "ax.set_xticks([0, 1])\n",
    "ax.set_xticklabels([\"SS316\", \"LIS\"])\n",
    "ax.set_ylabel(\"Counts\")\n",
    "ax.legend(loc=\"best\")\n",
    "plt.show()"
   ]
  },
  {
   "cell_type": "markdown",
   "metadata": {},
   "source": [
    "## Negative Binomial Distribution  \n",
    "\n",
    "In the context of RNA sequencing data, gene expression counts often exhibit overdispersion, meaning their variance exceeds the mean.\n",
    "The Negative Binomial (NB) distribution is a widely used probabilistic model for such count data, as it accounts for this extra variability beyond what the Poisson distribution can capture.  "
   ]
  },
  {
   "cell_type": "markdown",
   "metadata": {},
   "source": [
    "### Probability Mass Function  \n",
    "\n",
    "The Negative Binomial (NB) distribution is commonly used to model count data, particularly in cases where the variance exceeds the mean (overdispersion). The probability mass function (PMF) gives the probability of observing a particular count $x$, given the mean expression level $\\mu$ and the dispersion parameter $\\alpha$. The PMF is expressed as:  \n",
    "\n",
    "$$\n",
    "\\mathrm{NB}(x; \\mu, \\alpha) \n",
    "= \\binom{x + \\tfrac{1}{\\alpha}-1}{x}\n",
    "  \\left(\\frac{1/\\alpha}{1/\\alpha + \\mu}\\right)^{\\frac{1}{\\alpha}}\n",
    "  \\left(\\frac{\\mu}{1/\\alpha + \\mu}\\right)^{x}.\n",
    "$$  \n",
    "\n",
    "Where,\n",
    "\n",
    "- $x$: The observed count (e.g., number of RNA-seq reads mapped to a gene).  \n",
    "- $\\mu$: The expected value (mean) of the distribution. This represents the average expression level of a gene.  \n",
    "- $\\alpha$: The dispersion parameter, controlling how much the variance deviates from the mean.  \n",
    "- $r = \\frac{1}{\\alpha}$: A reparameterization often used in the traditional Negative Binomial definition, representing the number of “successes” before the process stops in a sequential trials interpretation.  \n",
    "- $\\binom{x + r -1}{x}$: This is the generalized binomial coefficient, which counts the number of ways to distribute $x$ identical objects into $r$ groups when order does not matter. It is defined in terms of the gamma function as:\n",
    "\n",
    "  $$\n",
    "  \\binom{x + r -1}{x} = \\frac{\\Gamma(x + r)}{\\Gamma(x+1) \\Gamma(r)}\n",
    "  $$\n",
    "\n",
    "  where $\\Gamma(n)$ is the gamma function, which generalizes the factorial function such that $\\Gamma(n) = (n-1)!$ for positive integers.\n",
    "\n",
    "- The two fractions inside the PMF represent the probabilities associated with the two outcomes in the Negative Binomial process:\n",
    "  - $\\left(\\frac{1/\\alpha}{1/\\alpha + \\mu}\\right)^{1/\\alpha}$: The probability of continuing the process (i.e., not observing $x$ yet).  \n",
    "  - $\\left(\\frac{\\mu}{1/\\alpha + \\mu}\\right)^{x}$: The probability of observing $x$ successes.\n",
    "\n",
    "A key property of the Negative Binomial distribution is its variance:\n",
    "\n",
    "$$\n",
    "\\mathrm{Var}(X) = \\mu + \\alpha \\mu^2.\n",
    "$$\n",
    "\n",
    "This expression shows how dispersion ($\\alpha$) affects the spread of the data:\n",
    "- When $\\alpha \\to 0$, the variance approaches $\\mu$, reducing the distribution to a Poisson model where variance equals the mean.\n",
    "- When $\\alpha > 0$, the variance grows larger than the mean, allowing the model to capture overdispersion often seen in RNA-seq data.\n",
    "\n",
    "By using the Negative Binomial model, we accommodate extra variability beyond what a Poisson model can handle, making it a more realistic representation of gene expression data in differential analysis."
   ]
  },
  {
   "cell_type": "markdown",
   "metadata": {},
   "source": [
    "### Log-Likelihood  \n",
    "\n",
    "In order to estimate the parameters $\\mu$ (mean) and $\\alpha$ (dispersion), we employ maximum likelihood estimation (MLE). The likelihood function represents the probability of observing the given data given a set of model parameters. For the Negative Binomial (NB) distribution, the likelihood function is the product of the individual probabilities for all observed counts $x_i$:\n",
    "\n",
    "$$\n",
    "L(\\mu, \\alpha) = \\prod_{i} \\mathrm{NB}(x_i; \\mu, \\alpha).\n",
    "$$\n",
    "\n",
    "Since likelihood values are typically very small when dealing with multiple observations, we work with the log-likelihood function instead. The log-likelihood is computed by taking the natural logarithm of the likelihood function, which conveniently transforms the product into a summation:\n",
    "\n",
    "$$\n",
    "\\log L(\\mu, \\alpha) = \\sum_{i} \\log \\mathrm{NB}(x_i; \\mu, \\alpha).\n",
    "$$\n",
    "\n",
    "Using the previously defined probability mass function (PMF) for the Negative Binomial distribution:\n",
    "\n",
    "$$\n",
    "\\mathrm{NB}(x; \\mu, \\alpha) \n",
    "= \\binom{x + \\tfrac{1}{\\alpha}-1}{x}\n",
    "  \\left(\\frac{1/\\alpha}{1/\\alpha + \\mu}\\right)^{\\frac{1}{\\alpha}}\n",
    "  \\left(\\frac{\\mu}{1/\\alpha + \\mu}\\right)^{x},\n",
    "$$\n",
    "\n",
    "we take the logarithm of each term.\n",
    "Taking the logarithm of the probability mass function, we break it into three components:\n",
    "\n",
    "$$\n",
    "\\log \\mathrm{NB}(x; \\mu, \\alpha) =\n",
    "\\log \\binom{x + \\tfrac{1}{\\alpha}-1}{x}\n",
    "+ \\frac{1}{\\alpha} \\log \\left(\\frac{1/\\alpha}{1/\\alpha + \\mu}\\right)\n",
    "+ x \\log \\left(\\frac{\\mu}{1/\\alpha + \\mu}\\right).\n",
    "$$\n",
    "\n",
    "Now, using the gamma function to express the binomial coefficient:\n",
    "\n",
    "$$\n",
    "\\binom{x + \\tfrac{1}{\\alpha}-1}{x} = \\frac{\\Gamma(x + \\tfrac{1}{\\alpha})}{\\Gamma(x+1) \\Gamma(\\tfrac{1}{\\alpha})},\n",
    "$$\n",
    "\n",
    "its logarithm is:\n",
    "\n",
    "$$\n",
    "\\log \\binom{x + \\tfrac{1}{\\alpha}-1}{x} = \\log \\Gamma(x + \\tfrac{1}{\\alpha}) - \\log \\Gamma(x+1) - \\log \\Gamma(\\tfrac{1}{\\alpha}).\n",
    "$$\n",
    "\n",
    "Thus, the full log-likelihood function becomes:\n",
    "\n",
    "$$\n",
    "\\log L(\\mu, \\alpha) =\n",
    "\\sum_{i} \\left[ \\log \\Gamma(x_i + \\tfrac{1}{\\alpha}) - \\log \\Gamma(x_i+1) - \\log \\Gamma(\\tfrac{1}{\\alpha}) + \\frac{1}{\\alpha} \\log \\left(\\frac{1/\\alpha}{1/\\alpha + \\mu}\\right) + x_i \\log \\left(\\frac{\\mu}{1/\\alpha + \\mu}\\right) \\right].\n",
    "$$\n",
    "\n",
    "#### Taking the negative\n",
    "\n",
    "For optimization purposes, we typically minimize rather than maximize functions.\n",
    "To achieve this, we define the negative log-likelihood (NLL) by multiplying the log-likelihood function by -1:\n",
    "\n",
    "$$\n",
    "\\mathcal{L}(\\mu, \\alpha) = -\\sum_{i} \\log \\mathrm{NB}(x_i; \\mu, \\alpha).\n",
    "$$\n",
    "\n",
    "Substituting the expanded log-likelihood expression, we obtain:\n",
    "\n",
    "$$\n",
    "\\mathcal{L}(\\mu, \\alpha) =\n",
    "- \\sum_{i} \\left[ \\log \\Gamma(x_i + \\tfrac{1}{\\alpha}) - \\log \\Gamma(x_i+1) - \\log \\Gamma(\\tfrac{1}{\\alpha}) + \\frac{1}{\\alpha} \\log \\left(\\frac{1/\\alpha}{1/\\alpha + \\mu}\\right) + x_i \\log \\left(\\frac{\\mu}{1/\\alpha + \\mu}\\right) \\right].\n",
    "$$\n",
    "\n",
    "This negative log-likelihood function serves as the objective function in parameter estimation. By minimizing $\\mathcal{L}(\\mu, \\alpha)$, we find the optimal values of $\\mu$ and $\\alpha$ that maximize the likelihood of observing the given gene expression data.  \n",
    "\n",
    "Since the function involves logarithms and the gamma function, numerical optimization techniques such as gradient descent or Newton's method are typically used for parameter estimation. The gamma function terms are particularly important when implementing this in code, as they allow us to compute likelihoods for non-integer values of the dispersion parameter.  \n",
    "\n",
    "This formulation ensures that the Negative Binomial model properly accounts for the overdispersion commonly observed in RNA-seq data, improving the reliability of differential gene expression analysis."
   ]
  },
  {
   "cell_type": "markdown",
   "metadata": {},
   "source": [
    "## Null Model  \n",
    "\n",
    "In statistical modeling, a null model serves as a baseline hypothesis against which we compare more complex models. In the context of differential gene expression analysis, the null model represents the assumption that there is no difference in expression between the two experimental conditions. By comparing the null model to a more flexible model that allows for condition-specific differences, we can assess whether gene expression is significantly affected by the experimental conditions.  \n",
    "\n",
    "### Single-Group (Reduced) Model  \n",
    "\n",
    "In the null model, we assume that all 8 samples (4 from SS316 and 4 from LIS) share the same mean expression level, denoted as $\\mu$. That is, we ignore any potential effect of condition and fit a single-group model, treating the samples as if they all come from the same underlying population. Mathematically, this means that the expression count for a given gene, across all samples, follows a Negative Binomial distribution with a single shared mean:\n",
    "\n",
    "$$\n",
    "X_i \\sim \\mathrm{NB}(\\mu, \\alpha),\n",
    "$$  \n",
    "\n",
    "where:\n",
    "\n",
    "- $X_i$ represents the observed count for sample $i$.  \n",
    "- $\\mu$ is the shared mean expression level across all samples.  \n",
    "- $\\alpha$ is the dispersion parameter accounting for variability in gene expression.  \n",
    "\n",
    "This model acts as our reduced model, meaning it does not differentiate between the two experimental conditions. By ignoring the grouping of samples into SS316 and LIS, we effectively test the assumption that condition has no effect on expression levels for this gene."
   ]
  },
  {
   "cell_type": "markdown",
   "metadata": {},
   "source": [
    "To estimate the parameters $\\mu$ (mean) and $\\alpha$ (dispersion) of the Negative Binomial distribution, we need to compute the negative log-likelihood (NLL). Since likelihood-based estimation requires numerical optimization, we define a function that computes the NLL for a given set of parameters and observed count data.  \n",
    "\n",
    "The function below, `negbin_nloglik_single`, implements the negative log-likelihood for a single Negative Binomial distribution, assuming all samples share the same mean $\\mu$. This corresponds to the null model, where no distinction is made between experimental groups.  \n",
    "\n",
    "The key components of the function are:\n",
    "\n",
    "- Input parameters: `mu` (mean expression level) and `alpha` (dispersion parameter).  \n",
    "- Log-gamma function (`lgamma`) to handle factorial terms, ensuring numerical stability for large values.  \n",
    "- Logarithmic terms to avoid computational underflow when dealing with very small probabilities.  \n",
    "- A penalty for invalid parameter values: If `mu` or `alpha` are non-positive, the function returns infinity (`np.inf`), preventing optimization algorithms from exploring invalid regions.  \n",
    "\n",
    "The function iterates over all observed counts and accumulates the negative log-likelihood by summing the log-probabilities computed from the Negative Binomial probability mass function.  \n"
   ]
  },
  {
   "cell_type": "code",
   "execution_count": null,
   "metadata": {},
   "outputs": [],
   "source": [
    "from math import lgamma, log"
   ]
  },
  {
   "cell_type": "code",
   "execution_count": null,
   "metadata": {},
   "outputs": [],
   "source": [
    "def negbin_nloglik_single(params, counts):\n",
    "    \"\"\"\n",
    "    Negative log-likelihood for a single negative binomial distribution.\n",
    "    params = [mu, alpha]\n",
    "    counts = array-like of counts from *all samples*, ignoring group.\n",
    "    \"\"\"\n",
    "    mu, alpha = params\n",
    "\n",
    "    # If parameters go non-positive, penalize with infinity (invalid region)\n",
    "    if mu <= 0 or alpha <= 0:\n",
    "        return np.inf\n",
    "\n",
    "    r = 1.0 / alpha\n",
    "    nll = 0.0\n",
    "    for x in counts:\n",
    "        term = (\n",
    "            lgamma(x + r)\n",
    "            - lgamma(r)\n",
    "            - lgamma(x + 1)\n",
    "            + r * log(r / (r + mu))\n",
    "            + x * log(mu / (r + mu))\n",
    "        )\n",
    "        nll -= term\n",
    "\n",
    "    return nll"
   ]
  },
  {
   "cell_type": "markdown",
   "metadata": {},
   "source": [
    "\n",
    "This function provides the foundation for fitting the Negative Binomial model to gene expression data. Given a set of observed counts, `negbin_nloglik_single` evaluates how well a proposed pair of parameters ($\\mu$, $\\alpha$) explain the data.  \n",
    "\n",
    "To estimate the optimal parameters, we will later use numerical optimization techniques, such as gradient-based methods or likelihood maximization algorithms, to find the values of $\\mu$ and $\\alpha$ that minimize the negative log-likelihood.  \n",
    "\n",
    "This function is particularly useful for testing the null model, where all samples are assumed to have the same mean expression level. In the next steps, we will extend this approach to compare models that account for condition-specific differences in gene expression."
   ]
  },
  {
   "cell_type": "markdown",
   "metadata": {},
   "source": [
    "### Fitting/optimization\n",
    "\n",
    "To estimate the parameters $\\mu$ (mean expression level) and $\\alpha$ (dispersion) of the Negative Binomial distribution, we need to find the values that minimize the negative log-likelihood (NLL). Since there is no closed-form solution for these parameters, we use numerical optimization techniques to perform maximum likelihood estimation (MLE).  \n",
    "\n",
    "In this section, we define the function `fit_reduced_model`, which fits the reduced model, meaning that we assume all samples (from both conditions) share the same mean expression level $\\mu$. This corresponds to the null hypothesis, where there is no differential expression between groups.  "
   ]
  },
  {
   "cell_type": "markdown",
   "metadata": {},
   "source": [
    "To find the optimal values of $\\mu$ and $\\alpha$, we use the L-BFGS-B optimization algorithm, implemented in SciPy’s `minimize` function. The steps of the optimization process are as follows:  \n",
    "\n",
    "1. Initialize parameters:  \n",
    "   - $\\mu$ is initialized as the mean of the observed counts, ensuring a reasonable starting point.  \n",
    "   - $\\alpha$ is initialized to 0.1 as a rough starting estimate of dispersion.  \n",
    "\n",
    "2. Set parameter bounds:  \n",
    "   - Both $\\mu$ and $\\alpha$ must be strictly positive to ensure valid probability calculations. We impose lower bounds of $1e-9$ to prevent numerical errors.  \n",
    "\n",
    "3. Minimize the negative log-likelihood (NLL):  \n",
    "   - The optimizer iteratively updates $\\mu$ and $\\alpha$ to find the values that minimize the NLL, thereby maximizing the likelihood of the observed data.  \n",
    "\n",
    "The function `fit_reduced_model` takes the observed count data as input, fits the model, and returns the estimated parameters $\\mu$ and $\\alpha$ along with the minimized negative log-likelihood value.  "
   ]
  },
  {
   "cell_type": "code",
   "execution_count": null,
   "metadata": {},
   "outputs": [],
   "source": [
    "from scipy.optimize import minimize"
   ]
  },
  {
   "cell_type": "code",
   "execution_count": null,
   "metadata": {},
   "outputs": [],
   "source": [
    "def fit_reduced_model(counts):\n",
    "    \"\"\"\n",
    "    Fit a single NB distribution to all counts (reduced model).\n",
    "    returns (mu_hat, alpha_hat, neg_loglike).\n",
    "    \"\"\"\n",
    "    mu_init = np.mean(counts) + 1e-9\n",
    "    alpha_init = 0.1  # an arbitrary guess\n",
    "    init_params = [mu_init, alpha_init]\n",
    "\n",
    "    bnds = [(1e-9, None), (1e-9, None)]\n",
    "    result = minimize(\n",
    "        negbin_nloglik_single,\n",
    "        init_params,\n",
    "        args=(counts,),\n",
    "        method=\"L-BFGS-B\",\n",
    "        bounds=bnds,\n",
    "    )\n",
    "    mu_hat, alpha_hat = result.x\n",
    "    nll = result.fun\n",
    "    return mu_hat, alpha_hat, nll"
   ]
  },
  {
   "cell_type": "code",
   "execution_count": null,
   "metadata": {},
   "outputs": [],
   "source": [
    "mu_r, alpha_r, nll_r = fit_reduced_model(counts_all)"
   ]
  },
  {
   "cell_type": "markdown",
   "metadata": {},
   "source": [
    "After running this function:\n",
    "\n",
    "- `mu_r` is the estimated mean expression level across all samples.  \n",
    "- `alpha_r` is the estimated dispersion parameter, which accounts for variability in expression beyond Poisson assumptions.  \n",
    "- `nll_r` is the final negative log-likelihood value, representing the goodness-of-fit of the model.  \n",
    "\n",
    "These parameter estimates provide the best-fitting single-group model, which serves as our baseline for later hypothesis testing. In the next steps, we will compare this reduced model to a more complex alternative model that allows different mean expression levels for the two conditions (SS316 and LIS) to determine if differential expression exists."
   ]
  },
  {
   "cell_type": "markdown",
   "metadata": {},
   "source": [
    "### Simulating data\n",
    "\n",
    "To better understand the properties of the Negative Binomial distribution and validate our estimated parameters, we can generate synthetic count data using the fitted parameters $\\mu$ (mean expression) and $\\alpha$ (dispersion). This allows us to visualize the probability mass function (PMF) and compare the theoretical distribution to the observed RNA-seq data.  \n",
    "\n",
    "The function `sample_nb` generates random samples from the Negative Binomial distribution using NumPy’s `np.random.negative_binomial`. However, NumPy’s parameterization differs from the one we have been using, so we first need to convert the parameters appropriately.\n",
    "\n",
    "NumPy’s Negative Binomial distribution is parameterized in terms of:  \n",
    "- $r$: The number of successes before the process stops.  \n",
    "- $p$: The probability of success in each trial.  \n",
    "\n",
    "In contrast, our parameterization is based on:  \n",
    "- $\\mu$: The mean expression level.  \n",
    "- $\\alpha$: The dispersion parameter.  \n",
    "\n",
    "From the relationship between these representations, we derive:\n",
    "\n",
    "$$\n",
    "r = \\frac{1}{\\alpha}, \\quad p = \\frac{r}{r + \\mu} = \\frac{1/\\alpha}{1/\\alpha + \\mu}.\n",
    "$$\n",
    "\n",
    "Using these values, we generate Negative Binomial-distributed samples where the mean and dispersion match our estimated parameters.  "
   ]
  },
  {
   "cell_type": "code",
   "execution_count": null,
   "metadata": {},
   "outputs": [],
   "source": [
    "# Negative binomial param conversion:\n",
    "# If X ~ NB(r, p) in NumPy's parameterization, E[X] = r * (1-p)/p.\n",
    "# We have mean = mu, dispersion alpha => r = 1/alpha, p = r/(r+mu).\n",
    "# So if r=1/alpha, p = r/(r+mu):\n",
    "def sample_nb(mu, alpha, size=1000):\n",
    "    r = 1.0 / alpha\n",
    "    p = r / (r + mu)\n",
    "    # np.random.negative_binomial(n, p) => n = r, success prob = p\n",
    "    # yields # of failures (X) until n successes with prob p each trial\n",
    "    # but the mean will match if we do it this way.\n",
    "    samples = np.random.negative_binomial(r, p, size=size)\n",
    "    return samples"
   ]
  },
  {
   "cell_type": "code",
   "execution_count": null,
   "metadata": {},
   "outputs": [],
   "source": [
    "samples_r = sample_nb(mu_r, alpha_r, size=5000)"
   ]
  },
  {
   "cell_type": "markdown",
   "metadata": {},
   "source": [
    "### Visualizing fit\n",
    "\n",
    "To assess how well our fitted Negative Binomial model captures the observed gene expression data, we visualize both raw counts from the dataset and simulated counts generated using the estimated parameters $\\mu$ and $\\alpha$. This plot provides an intuitive way to compare real and modeled data distributions, helping us evaluate the model's fit.  \n",
    "\n",
    "What This Plot Shows  \n",
    "\n",
    "- The blue points represent observed expression levels for SS316 samples.  \n",
    "- The orange points represent observed expression levels for LIS samples.  \n",
    "- These points are plotted at x-positions of 0 (SS316) and 1 (LIS) to clearly separate the two conditions.  \n",
    "- The violin plot overlays the scatter plot and represents the distribution of 2,000 samples drawn from the fitted Negative Binomial distribution.  \n",
    "- This helps visualize the shape and spread of the simulated counts compared to real data.  \n",
    "- If the violin plot closely follows the scatter points, our model captures the distribution of gene expression well.  \n",
    "\n",
    "Purpose of This Visualization  \n",
    "\n",
    "- Model Validation: By overlaying the observed data with the simulated distribution, we check whether the Negative Binomial model reasonably explains the variability in gene expression.  \n",
    "- Checking Distributional Assumptions: If the simulated data significantly differs from the observed counts, this suggests that the estimated parameters do not fully capture the dispersion characteristics of the data.  \n",
    "- Comparing Conditions: While this visualization does not explicitly test for differential expression, it provides an intuitive way to compare gene expression levels between SS316 and LIS.  \n",
    "\n",
    "The following code generates this visualization, combining both observed and simulated data into a single plot."
   ]
  },
  {
   "cell_type": "code",
   "execution_count": null,
   "metadata": {},
   "outputs": [],
   "source": [
    "fig, ax = plt.subplots(figsize=(6, 4))\n",
    "\n",
    "# X positions for SS316: [0, 0, 0, 0], LIS: [1,1,1,1]\n",
    "x_ss = np.zeros_like(ss_counts)\n",
    "x_lis = np.ones_like(lis_counts)\n",
    "\n",
    "# Scatter the raw counts\n",
    "ax.scatter(\n",
    "    x_ss, ss_counts, color=\"#003594\", label=\"SS316 Observed\", alpha=0.9, zorder=10\n",
    ")\n",
    "ax.scatter(\n",
    "    x_lis, lis_counts, color=\"#f46036\", label=\"LIS Observed\", alpha=0.9, zorder=10\n",
    ")\n",
    "\n",
    "\n",
    "data_to_violin = [samples_r, samples_r]\n",
    "parts = ax.violinplot(\n",
    "    dataset=data_to_violin,\n",
    "    positions=[0, 1],\n",
    "    showmeans=False,\n",
    "    showextrema=False,\n",
    "    showmedians=False,\n",
    ")\n",
    "\n",
    "parts[\"bodies\"][0].set_facecolor(\"#784A66\")\n",
    "parts[\"bodies\"][0].set_edgecolor(\"#784A66\")\n",
    "parts[\"bodies\"][1].set_facecolor(\"#784A66\")\n",
    "parts[\"bodies\"][1].set_edgecolor(\"#784A66\")\n",
    "\n",
    "# Clean up the plot\n",
    "ax.set_xlim(-0.5, 1.5)\n",
    "ax.set_ylim(0)\n",
    "ax.set_xticks([0, 1])\n",
    "ax.set_xticklabels([\"SS316\", \"LIS\"])\n",
    "ax.set_ylabel(\"Counts\")\n",
    "plt.show()"
   ]
  },
  {
   "cell_type": "markdown",
   "metadata": {},
   "source": [
    "## Alternative model\n",
    "\n",
    "In the alternative model, we relax the assumption of a single shared mean expression level across all samples and instead allow for condition-specific means. This means we model gene expression separately for the SS316 and LIS groups, enabling us to test whether the gene is differentially expressed between conditions.  \n",
    "\n",
    "Unlike the null model, which assumes a single mean $\\mu$ for all samples, the full model introduces separate means:  \n",
    "\n",
    "- $\\mu_1$: The mean expression level for the SS316 condition.  \n",
    "- $\\mu_2$: The mean expression level for the LIS condition.  \n",
    "- $\\alpha$: The dispersion parameter, which remains shared between the two groups to maintain model simplicity.  \n",
    "\n",
    "This means that each observed count $x_i$ follows a Negative Binomial distribution:  \n",
    "\n",
    "$$\n",
    "X_i \\sim \\mathrm{NB}(\\mu_1, \\alpha), \\quad \\text{if sample } i \\text{ belongs to SS316}\n",
    "$$\n",
    "\n",
    "$$\n",
    "X_i \\sim \\mathrm{NB}(\\mu_2, \\alpha), \\quad \\text{if sample } i \\text{ belongs to LIS}\n",
    "$$\n",
    "\n",
    "Here, we assume that only the mean expression levels differ between groups while keeping dispersion constant across conditions. The reason for keeping a single $\\alpha$ is to avoid overfitting and to ensure stable parameter estimation, especially with limited sample sizes.\n",
    "\n",
    "The alternative model is more flexible than the null model because it accounts for potential differences in gene expression between the two conditions. This flexibility allows us to formally test whether differential expression exists by comparing the likelihood of the null model (single mean $\\mu$) against the alternative model (separate means $\\mu_1$ and $\\mu_2$).  \n",
    "\n",
    "If the alternative model provides a significantly better fit to the data than the null model, it suggests that the gene is differentially expressed between SS316 and LIS. The strength of this evidence is typically assessed using a likelihood ratio test (LRT), which quantifies how much better the alternative model explains the data compared to the null model.\n",
    "\n",
    "By estimating the parameters $\\mu_1$, $\\mu_2$, and $\\alpha$, we will be able to determine whether gene expression varies systematically between conditions, which is a key objective in differential expression analysis."
   ]
  },
  {
   "cell_type": "code",
   "execution_count": null,
   "metadata": {},
   "outputs": [],
   "source": [
    "def negbin_nloglik_two_groups(params, counts, group_labels):\n",
    "    \"\"\"\n",
    "    Negative log-likelihood for a two-group NB model.\n",
    "    params = [mu1, mu2, alpha]\n",
    "    counts: all counts from both groups combined\n",
    "    group_labels: 0 for group1 (SS316), 1 for group2 (LIS)\n",
    "    \"\"\"\n",
    "    mu1, mu2, alpha = params\n",
    "    if mu1 <= 0 or mu2 <= 0 or alpha <= 0:\n",
    "        return np.inf\n",
    "\n",
    "    r = 1.0 / alpha\n",
    "    nll = 0.0\n",
    "\n",
    "    # separate counts by group\n",
    "    group1_counts = counts[group_labels == 0]\n",
    "    group2_counts = counts[group_labels == 1]\n",
    "\n",
    "    # group1\n",
    "    for x in group1_counts:\n",
    "        term = (\n",
    "            lgamma(x + r)\n",
    "            - lgamma(r)\n",
    "            - lgamma(x + 1)\n",
    "            + r * log(r / (r + mu1))\n",
    "            + x * log(mu1 / (r + mu1))\n",
    "        )\n",
    "        nll -= term\n",
    "\n",
    "    # group2\n",
    "    for x in group2_counts:\n",
    "        term = (\n",
    "            lgamma(x + r)\n",
    "            - lgamma(r)\n",
    "            - lgamma(x + 1)\n",
    "            + r * log(r / (r + mu2))\n",
    "            + x * log(mu2 / (r + mu2))\n",
    "        )\n",
    "        nll -= term\n",
    "\n",
    "    return nll"
   ]
  },
  {
   "cell_type": "code",
   "execution_count": null,
   "metadata": {},
   "outputs": [],
   "source": [
    "def fit_full_model(counts_all, group_labels):\n",
    "    \"\"\"\n",
    "    Fit two-group NB (mu1, mu2, alpha).\n",
    "    returns (mu1_hat, mu2_hat, alpha_hat, neg_loglike).\n",
    "    \"\"\"\n",
    "    group1_counts = counts_all[group_labels == 0]\n",
    "    group2_counts = counts_all[group_labels == 1]\n",
    "\n",
    "    mu1_init = np.mean(group1_counts) + 1e-9\n",
    "    mu2_init = np.mean(group2_counts) + 1e-9\n",
    "    alpha_init = 0.1\n",
    "    init_params = [mu1_init, mu2_init, alpha_init]\n",
    "\n",
    "    bnds = [(1e-9, None), (1e-9, None), (1e-9, None)]\n",
    "    result = minimize(\n",
    "        negbin_nloglik_two_groups,\n",
    "        init_params,\n",
    "        args=(counts_all, group_labels),\n",
    "        method=\"L-BFGS-B\",\n",
    "        bounds=bnds,\n",
    "    )\n",
    "\n",
    "    mu1_hat, mu2_hat, alpha_hat = result.x\n",
    "    nll = result.fun\n",
    "    return mu1_hat, mu2_hat, alpha_hat, nll"
   ]
  },
  {
   "cell_type": "code",
   "execution_count": null,
   "metadata": {},
   "outputs": [],
   "source": [
    "mu_ss, mu_lis, alpha_f, nll_f = fit_full_model(counts_all, group_labels)"
   ]
  },
  {
   "cell_type": "code",
   "execution_count": null,
   "metadata": {},
   "outputs": [],
   "source": [
    "samples_f_ss = sample_nb(mu_ss, alpha_f, size=5000)\n",
    "samples_f_lis = sample_nb(mu_lis, alpha_f, size=5000)"
   ]
  },
  {
   "cell_type": "code",
   "execution_count": null,
   "metadata": {},
   "outputs": [],
   "source": [
    "fig, ax = plt.subplots(figsize=(6, 4))\n",
    "\n",
    "# X positions for SS316: [0, 0, 0, 0], LIS: [1,1,1,1]\n",
    "x_ss = np.zeros_like(ss_counts)\n",
    "x_lis = np.ones_like(lis_counts)\n",
    "\n",
    "# Scatter the raw counts\n",
    "ax.scatter(\n",
    "    x_ss, ss_counts, color=\"#003594\", label=\"SS316 Observed\", alpha=0.9, zorder=10\n",
    ")\n",
    "ax.scatter(\n",
    "    x_lis, lis_counts, color=\"#f46036\", label=\"LIS Observed\", alpha=0.9, zorder=10\n",
    ")\n",
    "\n",
    "\n",
    "data_to_violin = [samples_f_ss, samples_f_lis]\n",
    "parts = ax.violinplot(\n",
    "    dataset=data_to_violin,\n",
    "    positions=[0, 1],\n",
    "    showmeans=False,\n",
    "    showextrema=False,\n",
    "    showmedians=False,\n",
    ")\n",
    "\n",
    "parts[\"bodies\"][0].set_facecolor(\"#003594\")\n",
    "parts[\"bodies\"][0].set_edgecolor(\"#003594\")\n",
    "parts[\"bodies\"][1].set_facecolor(\"#f46036\")\n",
    "parts[\"bodies\"][1].set_edgecolor(\"#f46036\")\n",
    "print(parts)\n",
    "\n",
    "# Clean up the plot\n",
    "ax.set_xlim(-0.5, 1.5)\n",
    "ax.set_ylim(0)\n",
    "ax.set_xticks([0, 1])\n",
    "ax.set_xticklabels([\"SS316\", \"LIS\"])\n",
    "ax.set_ylabel(\"Counts\")\n",
    "plt.show()"
   ]
  },
  {
   "cell_type": "markdown",
   "metadata": {},
   "source": [
    "## Likelihood Ratio Test (LRT)  \n",
    "\n",
    "The Likelihood Ratio Test (LRT) is a statistical method used to compare two nested models and determine whether adding additional parameters significantly improves the fit to the data. In the context of differential gene expression analysis, we use the LRT to test whether a gene exhibits significant differences in expression between conditions (SS316 and LIS).  \n",
    "\n",
    "The test compares:  \n",
    "1. The Reduced Model (Null Model): Assumes a single mean $\\mu$ for all samples, implying no differential expression.  \n",
    "2. The Full Model (Alternative Model): Allows separate means $\\mu_1$ and $\\mu_2$ for the two conditions, permitting differential expression.  \n",
    "\n",
    "If the full model significantly improves the likelihood of the data compared to the reduced model, we reject the null hypothesis and conclude that the gene is differentially expressed.  \n",
    "\n",
    "1. Compute the Negative Log-Likelihoods (NLLs)  \n",
    "\n",
    "- $\\text{NLL}_r$: The negative log-likelihood of the reduced model, where all samples share a single mean $\\mu$.  \n",
    "- $\\text{NLL}_f$: The negative log-likelihood of the full model, which allows separate means $\\mu_1$ (SS316) and $\\mu_2$ (LIS).  \n",
    "\n",
    "Since lower negative log-likelihood values indicate a better fit, we expect $\\text{NLL}_f$ to be smaller than $\\text{NLL}_r$ if allowing different means provides a better explanation of the data.  \n",
    "\n",
    "2. Compute the Likelihood Ratio Test (LRT) Statistic  \n",
    "\n",
    "The likelihood ratio statistic is defined as:  \n",
    "\n",
    "$$\n",
    "\\chi^2 = 2 (\\text{NLL}_r - \\text{NLL}_f)\n",
    "$$\n",
    "\n",
    "This statistic quantifies how much better the full model explains the data compared to the reduced model. A large $\\chi^2$ value suggests a significant improvement in fit, favoring the hypothesis that differential expression exists.  \n",
    "\n",
    "3. Determine the Degrees of Freedom  \n",
    "\n",
    "The degrees of freedom for the test correspond to the number of additional parameters in the full model compared to the reduced model. In our case:\n",
    "\n",
    "- The reduced model has one mean parameter $\\mu$.  \n",
    "- The full model has two mean parameters $\\mu_1$ and $\\mu_2$.  \n",
    "- The dispersion parameter $\\alpha$ is shared in both models, so it does not contribute to the degrees of freedom change.  \n",
    "\n",
    "Thus, the difference in the number of parameters is:  \n",
    "\n",
    "$$\n",
    "\\text{Degrees of Freedom} = 2 - 1 = 1\n",
    "$$\n",
    "\n",
    "1. Compute the p-value  \n",
    "\n",
    "To determine statistical significance, we compare $\\chi^2$ to a chi-square distribution with 1 degree of freedom. The p-value is given by:\n",
    "\n",
    "$$\n",
    "p = 1 - F_{\\chi^2_1}(\\chi^2)\n",
    "$$\n",
    "\n",
    "where $F_{\\chi^2_1}(\\chi^2)$ is the cumulative distribution function (CDF) of the chi-square distribution with 1 degree of freedom.  \n",
    "\n",
    "- If $p$ is small (e.g., $p < 0.05$), we reject the null hypothesis and conclude that the gene is differentially expressed between SS316 and LIS.  \n",
    "- If $p$ is large, we do not have enough evidence to claim differential expression.  \n",
    "\n",
    "\n",
    "By performing the Likelihood Ratio Test, we statistically assess whether the mean expression levels for a gene differ between conditions. If the full model significantly improves the likelihood of the data compared to the reduced model, it suggests that the gene exhibits condition-dependent expression, which is crucial for identifying biologically meaningful differences in gene regulation.  \n",
    "\n",
    "This test provides a robust statistical foundation for determining differential gene expression, ensuring that the observed differences are unlikely to be due to random chance alone."
   ]
  },
  {
   "cell_type": "code",
   "execution_count": null,
   "metadata": {},
   "outputs": [],
   "source": [
    "from scipy.stats import chi2"
   ]
  },
  {
   "cell_type": "code",
   "execution_count": null,
   "metadata": {},
   "outputs": [],
   "source": [
    "# LRT statistic\n",
    "lr_stat = 2.0 * (nll_r - nll_f)\n",
    "# p-value\n",
    "p_val = 1.0 - chi2.cdf(lr_stat, df=1)\n",
    "\n",
    "print(p_val)"
   ]
  },
  {
   "cell_type": "markdown",
   "metadata": {},
   "source": [
    "## Log2 Fold Change (Log2FC)  \n",
    "\n",
    "One of the key measures used in differential gene expression analysis is the Log2 Fold Change (Log2FC). It quantifies how much a gene’s expression level differs between two conditions, making it easier to interpret biological significance.  \n",
    "\n",
    "\n",
    "The fold change (FC) is the ratio of mean expression levels between two conditions:\n",
    "\n",
    "$$\n",
    "\\text{FC} = \\frac{\\mu_2}{\\mu_1}\n",
    "$$\n",
    "\n",
    "where:\n",
    "\n",
    "- $\\mu_1$ is the mean expression level in the SS316 condition.  \n",
    "- $\\mu_2$ is the mean expression level in the LIS condition.  \n",
    "\n",
    "Since gene expression data is often highly variable and spans several orders of magnitude, it is common to take the log base 2 of the fold change:\n",
    "\n",
    "$$\n",
    "\\log_2(\\text{FC}) = \\log_2\\left(\\frac{\\mu_2}{\\mu_1}\\right).\n",
    "$$\n",
    "\n",
    "This transformation ensures that the measure is symmetric around zero:  \n",
    "\n",
    "- Log2FC > 0 → The gene is more highly expressed in LIS than in SS316.  \n",
    "- Log2FC < 0 → The gene is more highly expressed in SS316 than in LIS.  \n",
    "- Log2FC = 0 → No difference in expression between conditions.  \n",
    "\n",
    "Why Use Log2 Transform?  \n",
    "\n",
    "1. Better Interpretability: Instead of dealing with large ratios, a Log2FC of +1 means the gene is doubled in expression, and a Log2FC of -1 means the expression is halved.  \n",
    "2. Symmetry: Unlike raw fold changes, the log transformation makes the scale equal in both directions (upregulation vs. downregulation).  \n",
    "3. Reducing Skewness: Gene expression values often have a highly skewed distribution, and the log transformation helps normalize the data, making it more suitable for statistical analysis.  \n",
    "\n",
    "Handling Low Expression Values  \n",
    "\n",
    "When dealing with RNA-seq data, some genes have very low or zero counts, which can make the ratio $\\frac{\\mu_2}{\\mu_1}$ unstable. To prevent division by zero or extreme values, a small constant (e.g., pseudocount $\\epsilon$) is sometimes added to both means:\n",
    "\n",
    "$$\n",
    "\\log_2\\left(\\frac{\\mu_2 + \\epsilon}{\\mu_1 + \\epsilon}\\right).\n",
    "$$\n",
    "\n",
    "This prevents extreme log fold changes caused by very low expression levels.  \n",
    "\n",
    "Interpretation in Differential Expression Analysis  \n",
    "\n",
    "- Genes with large absolute Log2FC values (e.g., $|\\text{Log2FC}| > 1$) are often considered biologically significant, as they show strong upregulation or downregulation.  \n",
    "- Statistical significance is typically assessed alongside Log2FC using the Likelihood Ratio Test (LRT) or other statistical methods. A gene with high Log2FC but a large p-value is not considered reliably differentially expressed.  \n",
    "- Volcano plots often display Log2FC on the x-axis and statistical significance (e.g., -log10 p-value) on the y-axis to highlight genes that are both significantly differentially expressed and have large fold changes.  "
   ]
  },
  {
   "cell_type": "code",
   "execution_count": null,
   "metadata": {},
   "outputs": [],
   "source": [
    "log2_fc = np.log2((mu_lis + 1e-9) / (mu_ss + 1e-9))\n",
    "print(log2_fc)"
   ]
  },
  {
   "cell_type": "markdown",
   "metadata": {},
   "source": [
    "## Connecting to DESeq2\n",
    "\n",
    "So far, we have implemented a differential gene expression analysis pipeline using the Negative Binomial model, the Likelihood Ratio Test (LRT), and Log2 Fold Change (Log2FC). These concepts closely align with what is done in DESeq2, a widely used R package for analyzing RNA-seq data. Let’s compare our approach to DESeq2, highlighting the similarities and limitations of our implementation.  \n",
    "\n",
    "\n",
    "Similarities to DESeq2  \n",
    "\n",
    "1. Negative Binomial Distribution for Count Data  \n",
    "   - Both our Python-based approach and DESeq2 assume that gene expression follows a Negative Binomial (NB) distribution, which accounts for the overdispersion commonly observed in RNA-seq data.  \n",
    "   - Like in our implementation, DESeq2 models the variance as:\n",
    "     \n",
    "     $$\n",
    "     \\text{Var}(X) = \\mu + \\alpha \\mu^2\n",
    "     $$\n",
    "     \n",
    "     ensuring that dispersion is taken into account.  \n",
    "\n",
    "2. Estimation of Mean and Dispersion ($\\mu$ and $\\alpha$)  \n",
    "   - In our method, we estimate $\\mu$ (mean) and $\\alpha$ (dispersion) by minimizing the negative log-likelihood (NLL).  \n",
    "   - DESeq2 also estimates these parameters but does so using shrinkage estimation, which helps improve stability, especially for genes with low counts.  \n",
    "\n",
    "3. Differential Expression Testing with Likelihood Ratio Test (LRT)  \n",
    "   - We used the Likelihood Ratio Test (LRT) to compare a reduced model (single mean for all samples) to a full model (separate means for conditions).  \n",
    "   - DESeq2 performs a very similar LRT-based approach when testing for differential expression across multiple conditions, comparing nested models.  \n",
    "\n",
    "4. Log2 Fold Change (Log2FC) Interpretation  \n",
    "   - Both our approach and DESeq2 compute Log2 Fold Change (Log2FC) to quantify how much a gene's expression changes between conditions.  \n",
    "   - The Log2FC calculation follows the same equation:  \n",
    "     $$\n",
    "     \\log_2\\left(\\frac{\\mu_2}{\\mu_1}\\right)\n",
    "     $$\n",
    "   - DESeq2 applies shrinkage correction (via the \"apeglm\" or \"ashr\" methods) to prevent extremely large or unreliable Log2FC values, whereas our implementation does not currently include this correction.  \n",
    "\n",
    "Limitations of Our Approach Compared to DESeq2  \n",
    "\n",
    "While our Python-based implementation follows the core statistical principles behind DESeq2, there are several key limitations:  \n",
    "\n",
    "1. Dispersion Estimation is More Simplistic  \n",
    "   - In our approach, each gene has a single estimated $\\alpha$ (dispersion parameter).  \n",
    "   - DESeq2 shares information across genes to estimate dispersions more robustly, preventing overfitting and improving estimates for lowly expressed genes.  \n",
    "\n",
    "2. No Automatic Normalization  \n",
    "   - DESeq2 applies median ratio normalization (MRN), which corrects for differences in sequencing depth and RNA composition across samples.  \n",
    "   - Our implementation assumes that raw counts are comparable without explicitly normalizing them.  \n",
    "\n",
    "3. Shrinkage for Low Counts  \n",
    "   - DESeq2 applies Bayesian shrinkage to both dispersion estimates and Log2FC values, stabilizing results for low-expression genes.  \n",
    "   - Our implementation does not incorporate shrinkage, which may lead to more extreme fold changes for genes with low counts.  \n",
    "\n",
    "4. Multiple Testing Correction  \n",
    "   - When testing thousands of genes, we must control for false discoveries.  \n",
    "   - DESeq2 automatically adjusts p-values using the Benjamini-Hochberg (FDR) correction, whereas our approach currently outputs raw p-values without multiple testing correction.  \n"
   ]
  },
  {
   "cell_type": "markdown",
   "metadata": {},
   "source": [
    "## Practice\n",
    "\n",
    "Now that we have gone through the process of identifying differentially expressed genes using the Negative Binomial model, the Likelihood Ratio Test (LRT), and Log2 Fold Change (Log2FC), it’s time to apply these methods to a different gene. This hands-on exercise will reinforce the concepts covered and allow you to practice working with real gene expression data.  \n",
    "\n",
    "### Instructions  \n",
    "\n",
    "1. Pick a New Gene:  \n",
    "   - Choose a different gene by selecting a new index from the dataset.  \n",
    "   - Make sure the gene has nonzero counts in at least some samples to avoid numerical issues.  \n",
    "\n",
    "2. Extract Expression Data:  \n",
    "   - Retrieve the expression counts for both SS316 and LIS conditions.  \n",
    "\n",
    "3. Fit the Reduced Model (Null Model):  \n",
    "   - Estimate $\\mu$ (single mean for all samples).  \n",
    "   - Estimate $\\alpha$ (dispersion).  \n",
    "   - Compute the negative log-likelihood ($\\text{NLL}_r$).  \n",
    "\n",
    "4. Fit the Full Model (Alternative Model):  \n",
    "   - Estimate separate means $\\mu_1$ (SS316) and $\\mu_2$ (LIS).  \n",
    "   - Keep $\\alpha$ the same.  \n",
    "   - Compute the negative log-likelihood ($\\text{NLL}_f$).  \n",
    "\n",
    "5. Perform the Likelihood Ratio Test (LRT):  \n",
    "   - Calculate the test statistic $\\chi^2 = 2 (\\text{NLL}_r - \\text{NLL}_f)$.  \n",
    "   - Compute the p-value and interpret statistical significance.  \n",
    "\n",
    "6. Calculate Log2 Fold Change (Log2FC):  \n",
    "   - Determine whether the gene is upregulated in SS316 or LIS.  \n",
    "\n",
    "7. Visualize the Data:  \n",
    "   - Create a scatter plot of observed counts for SS316 and LIS.  \n",
    "   - Overlay a violin plot using simulated counts from the fitted Negative Binomial model.  "
   ]
  },
  {
   "cell_type": "code",
   "execution_count": null,
   "metadata": {},
   "outputs": [],
   "source": []
  },
  {
   "cell_type": "markdown",
   "metadata": {},
   "source": [
    "\n",
    "### Questions to Consider  \n",
    "\n",
    "- Does this gene show strong evidence of differential expression?  \n",
    "- What does the Log2 Fold Change tell you about the direction of expression changes?  \n",
    "- How well does the Negative Binomial model capture the observed distribution of counts?  \n",
    "\n",
    "This activity will help reinforce your understanding of differential expression analysis by applying the full workflow to a new gene. Try working in small groups, compare results, and discuss any patterns or challenges you encounter!"
   ]
  }
 ],
 "metadata": {
  "kernelspec": {
   "display_name": "sci",
   "language": "python",
   "name": "python3"
  },
  "language_info": {
   "codemirror_mode": {
    "name": "ipython",
    "version": 3
   },
   "file_extension": ".py",
   "mimetype": "text/x-python",
   "name": "python",
   "nbconvert_exporter": "python",
   "pygments_lexer": "ipython3",
   "version": "3.13.2"
  }
 },
 "nbformat": 4,
 "nbformat_minor": 2
}
