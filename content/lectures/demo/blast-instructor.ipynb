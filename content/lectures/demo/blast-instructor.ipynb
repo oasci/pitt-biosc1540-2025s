{
 "cells": [
  {
   "cell_type": "markdown",
   "metadata": {},
   "source": [
    "# In-Class Activity: Understanding BLAST through Python\n",
    "\n",
    "This live coding activity demonstrates the balance between speed and accuracy in BLAST, highlighting how efficient heuristics can narrow down the search space before applying more computationally intensive algorithms.\n",
    "\n",
    "Objectives:\n",
    "\n",
    "Implement the core steps of BLAST, including:\n",
    "\n",
    "1. Building a lookup table of k-mers (seeding).\n",
    "2. Screening a synthetic FASTA database.\n",
    "3. Refining promising regions with a Smith–Waterman local alignment."
   ]
  },
  {
   "cell_type": "markdown",
   "metadata": {},
   "source": [
    "## Step 1: Fetch and Parse the FASTA File\n",
    "\n",
    "BLAST (Basic Local Alignment Search Tool) is used to find regions of similarity between biological sequences.\n",
    "The first step in running a BLAST search is having a properly formatted query and database.\n",
    "To understand how BLAST operates, we will start by retrieving and parsing a synthetic FASTA database.\n",
    "\n",
    "### Step 1A: Fetching the FASTA File\n",
    "\n",
    "BLAST requires sequences to be in FASTA format. We will retrieve a synthetic FASTA file from a remote source and store its contents as a string."
   ]
  },
  {
   "cell_type": "code",
   "execution_count": 1,
   "metadata": {},
   "outputs": [],
   "source": [
    "import requests\n",
    "\n",
    "# URL to the synthetic FASTA database hosted on GitHub\n",
    "FASTA_URL = (\n",
    "    \"https://github.com/oasci/pitt-biosc1540-2025s/raw/refs/heads/main/content/data/fasta/synthetic.fasta\"\n",
    ")\n",
    "\n",
    "# Attempt to fetch the FASTA file; raise an exception if not successful.\n",
    "response = requests.get(FASTA_URL)\n",
    "if response.status_code == 200:\n",
    "    fasta_text = response.text\n",
    "else:\n",
    "    raise Exception(f\"Failed to fetch file. Status code: {response.status_code}\")\n"
   ]
  },
  {
   "cell_type": "markdown",
   "metadata": {},
   "source": [
    "Discussion Points\n",
    "\n",
    "- Why is it necessary to fetch sequence data from a database before running BLAST?\n",
    "- What issues could arise if the request fails? How can we handle them?\n",
    "- What happens if the file is large? Would downloading the entire file into memory be a good idea? "
   ]
  },
  {
   "cell_type": "markdown",
   "metadata": {},
   "source": [
    "### Step 1C: Parsing the FASTA File\n",
    "\n",
    "To work with sequence data programmatically, we need to convert the text-based FASTA file into a structured format.\n",
    "\n",
    "The `read_fasta()` function reads a FASTA file and returns a dictionary where:\n",
    "\n",
    "- Keys are sequence headers (without `>`).\n",
    "- Values are concatenated sequences (handling multi-line sequences).  "
   ]
  },
  {
   "cell_type": "code",
   "execution_count": 2,
   "metadata": {},
   "outputs": [],
   "source": [
    "\n",
    "def read_fasta(data: str) -> dict:\n",
    "    \"\"\"\n",
    "    Parse a FASTA-formatted string and return a dictionary mapping sequence headers to sequences.\n",
    "    \n",
    "    Parameters:\n",
    "        data: The FASTA file content as a single string.\n",
    "    \n",
    "    Returns:\n",
    "        A dictionary where keys are headers (without the '>') and values are the concatenated sequences.\n",
    "    \"\"\"\n",
    "    fasta_dict = {}\n",
    "    header = None\n",
    "    sequence_lines = []\n",
    "    \n",
    "    for line in data.splitlines():\n",
    "        line = line.strip()\n",
    "        if not line:\n",
    "            continue  # Skip empty lines\n",
    "        if line.startswith(\">\"):\n",
    "            # Save the previous record if it exists\n",
    "            if header is not None:\n",
    "                fasta_dict[header] = \"\".join(sequence_lines)\n",
    "            header = line[1:]  # Remove '>' from header\n",
    "            sequence_lines = []  # Reset sequence accumulator\n",
    "        else:\n",
    "            sequence_lines.append(line)\n",
    "    \n",
    "    # Save the last parsed record\n",
    "    if header is not None:\n",
    "        fasta_dict[header] = \"\".join(sequence_lines)\n",
    "    \n",
    "    return fasta_dict"
   ]
  },
  {
   "cell_type": "markdown",
   "metadata": {},
   "source": [
    "### Step 1D: Running the Parser and Previewing Sequences\n",
    "\n",
    "Now, we use `read_fasta()` to convert the raw FASTA text into a dictionary."
   ]
  },
  {
   "cell_type": "code",
   "execution_count": 3,
   "metadata": {},
   "outputs": [
    {
     "name": "stdout",
     "output_type": "stream",
     "text": [
      "=== FASTA File Preview ===\n",
      ">synthetic_seq1\n",
      "GCATGTAGGCGCTGGACTCGCTAGTAGTTTTGGGGCTGGAGACCGGAAAA...\n",
      "\n",
      ">synthetic_seq2\n",
      "GGCGATAAGTTAAATTGTGTCAAGGGATGTCTTCGGAGTTCGAGCAACTG...\n",
      "\n",
      ">synthetic_seq3\n",
      "TTCGGAGCGTCCACCGCCTGTCCAAATTTCCATTGTAATGTTGTTGTTAA...\n",
      "\n"
     ]
    }
   ],
   "source": [
    "# Parse the FASTA content into a dictionary of sequences.\n",
    "sequences = read_fasta(fasta_text)\n",
    "\n",
    "# Display a preview of the first three sequences (first 50 bases)\n",
    "print(\"=== FASTA File Preview ===\")\n",
    "for header, seq in list(sequences.items())[:3]:\n",
    "    print(f\">{header}\\n{seq[:50]}...\\n\")"
   ]
  },
  {
   "cell_type": "markdown",
   "metadata": {},
   "source": [
    "Discussion Points\n",
    "\n",
    "1. Why do we check for `>` when parsing?\n",
    "2. What happens if a sequence spans multiple lines?\n",
    "3. Why do we use a dictionary?\n",
    "4. What potential problems could occur with this function?"
   ]
  },
  {
   "cell_type": "markdown",
   "metadata": {},
   "source": [
    "## Step 2: Build a Lookup Table for k-mers\n",
    "\n",
    "Before performing full sequence alignment, BLAST first identifies short word (k-mer) matches between the query and database sequences.\n",
    "This reduces computational complexity and speeds up the search process."
   ]
  },
  {
   "cell_type": "markdown",
   "metadata": {},
   "source": [
    "### Step 2A: What Are k-mers?\n",
    "\n",
    "A k-mer is a short substring of length `k` found within a sequence.\n",
    "For example, if `k = 5`, the sequence `\"ATGCTAGC\"` contains the k-mers:\n",
    "\n",
    "```\n",
    "\"ATGCT\", \"TGCTA\", \"GCTAG\", \"CTAGC\"\n",
    "```\n",
    "\n",
    "BLAST uses k-mers as seeds to quickly locate potential matches before performing detailed alignments.\n",
    "\n",
    "Discussion Points\n",
    "\n",
    "- Why does BLAST search for short k-mers first instead of performing full sequence alignment immediately?\n",
    "- What happens if a k-mer does not exist in the database?\n",
    "- How would repeats in a sequence affect k-mer lookup?"
   ]
  },
  {
   "cell_type": "markdown",
   "metadata": {},
   "source": [
    "### Step 2B: Understanding the Impact of `word_size`\n",
    "\n",
    "The word size (`k`) influences BLAST's sensitivity and speed:\n",
    "\n",
    "| Word Size (`k`) | Effect on BLAST |\n",
    "|-----------------|----------------|\n",
    "| Smaller `k` | More sensitive but slower (more potential matches to evaluate). |\n",
    "| Larger `k`  | Faster but may miss weaker or shorter matches. |\n",
    "\n",
    "Discussion Points\n",
    "\n",
    "- How does increasing `word_size` speed up the search?\n",
    "- Why would decreasing `word_size` help in detecting more distant homologs?\n",
    "- In what cases would a very small `k` cause too many false positives?  "
   ]
  },
  {
   "cell_type": "markdown",
   "metadata": {},
   "source": [
    "### Step 2C: Implementing a k-mer Lookup Table\n",
    "\n",
    "We will create a lookup table that maps each k-mer in a query sequence to the positions where it appears."
   ]
  },
  {
   "cell_type": "code",
   "execution_count": 4,
   "metadata": {},
   "outputs": [],
   "source": [
    "from collections import defaultdict\n",
    "\n",
    "def build_lookup(sequence: str, word_size: int) -> dict:\n",
    "    \"\"\"\n",
    "    Build a lookup table mapping each k-mer to a list of starting positions in the\n",
    "    given sequence.\n",
    "    \n",
    "    Parameters:\n",
    "        sequence: The sequence from which to extract k-mers.\n",
    "        word_size: The length of each k-mer.\n",
    "        \n",
    "    Returns:\n",
    "        A dictionary where keys are k-mers and values are lists of indices indicating\n",
    "            where the k-mer occurs.\n",
    "    \"\"\"\n",
    "    lookup = defaultdict(list)\n",
    "    for i in range(len(sequence) - word_size + 1):\n",
    "        kmer = sequence[i:i+word_size]\n",
    "        lookup[kmer].append(i)\n",
    "    return dict(lookup)"
   ]
  },
  {
   "cell_type": "markdown",
   "metadata": {},
   "source": [
    "### Step 2D: Running the Lookup Table Code\n",
    "\n",
    "Now, we apply the function to a sample query sequence:"
   ]
  },
  {
   "cell_type": "code",
   "execution_count": 5,
   "metadata": {},
   "outputs": [
    {
     "name": "stdout",
     "output_type": "stream",
     "text": [
      "=== Lookup Table Preview ===\n",
      "ATGCT: [0]\n",
      "TGCTA: [1]\n",
      "GCTAG: [2, 6, 29, 33]\n",
      "CTAGC: [3, 7, 26, 30, 34]\n",
      "TAGCT: [4, 8, 27, 31, 35]\n"
     ]
    }
   ],
   "source": [
    "# Define an example query sequence and the k-mer (word) size.\n",
    "QUERY = \"ATGCTAGCTAGCTACGATCGATCGATCTAGCTAGCTAGCTACGATCGATCG\"\n",
    "word_size = 5\n",
    "\n",
    "# Build the lookup table for the query sequence.\n",
    "lookup_table = build_lookup(QUERY, word_size)\n",
    "\n",
    "# Display a few k-mer entries from the lookup table.\n",
    "print(\"=== Lookup Table Preview ===\")\n",
    "for kmer, positions in list(lookup_table.items())[:5]:\n",
    "    print(f\"{kmer}: {positions}\")"
   ]
  },
  {
   "cell_type": "markdown",
   "metadata": {},
   "source": [
    "Each k-mer is mapped to the positions where it appears in the sequence."
   ]
  },
  {
   "cell_type": "markdown",
   "metadata": {},
   "source": [
    "Discussion Points\n",
    "\n",
    "- Why do some k-mers appear more than once?\n",
    "- What happens if the sequence contains ambiguous bases (`N`)?\n",
    "- How large would the lookup table be for a genome-scale query?"
   ]
  },
  {
   "cell_type": "markdown",
   "metadata": {},
   "source": [
    "## Step 3: Find k-mer Matches in a Target Sequence\n",
    "\n",
    "Instead of aligning an entire query sequence against every database sequence, BLAST first finds exact k-mer matches between the query and target sequences.\n",
    "These seed matches allow BLAST to focus computational effort on only relevant regions, skipping large portions of non-matching sequences."
   ]
  },
  {
   "cell_type": "markdown",
   "metadata": {},
   "source": [
    "### Step 3A: Why Restrict the Search to k-mer Matches?\n",
    "\n",
    "BLAST does not attempt a full sequence alignment initially.\n",
    "Instead, it:\n",
    "\n",
    "1. Finds k-mer matches between the query and target sequences.\n",
    "2. Extends these matches into longer alignments if they meet a score threshold.\n",
    "3. Skips any target sequences that have no k-mer matches.\n",
    "\n",
    "This approach saves significant computation time, especially when searching large databases.\n",
    "\n",
    "Discussion Points\n",
    "\n",
    "- Why is it computationally expensive to align a query to every sequence in a database?\n",
    "- How does searching only in matching regions reduce this cost?\n",
    "- What happens if no k-mers from the query exist in the target sequence?"
   ]
  },
  {
   "cell_type": "markdown",
   "metadata": {},
   "source": [
    "### Step 3B: Implementing k-mer Matching\n",
    "\n",
    "We will now implement a function to find k-mer matches between a query and a target sequence.\n",
    "This function compares the k-mers in a given target sequence against the lookup table we built earlier."
   ]
  },
  {
   "cell_type": "code",
   "execution_count": 6,
   "metadata": {},
   "outputs": [],
   "source": [
    "def find_kmer_matches(lookup_table: dict, target_sequence: str, word_size: int) -> dict:\n",
    "    \"\"\"\n",
    "    Search for k-mer matches between the lookup table (from the query) and a target sequence.\n",
    "    \n",
    "    Parameters:\n",
    "        lookup_table: The k-mer lookup table for the query sequence.\n",
    "        target_sequence: The sequence in which to search for matching k-mers.\n",
    "        word_size: The length of k-mers.\n",
    "        \n",
    "    Returns:\n",
    "        dict: A dictionary mapping k-mers to a list of tuples. Each tuple contains:\n",
    "              (position in target_sequence, corresponding position in query sequence).\n",
    "    \"\"\"\n",
    "    matches = defaultdict(list)\n",
    "    for i in range(len(target_sequence) - word_size + 1):\n",
    "        kmer = target_sequence[i:i+word_size]\n",
    "        if kmer in lookup_table:\n",
    "            # For each occurrence of the k-mer in the query, record the match.\n",
    "            for query_index in lookup_table[kmer]:\n",
    "                matches[kmer].append((i, query_index))\n",
    "    return dict(matches)"
   ]
  },
  {
   "cell_type": "markdown",
   "metadata": {},
   "source": [
    "### Step 3C: Running the k-mer Matching Code\n",
    "\n",
    "Now, we define a target sequence and use the function to find matching k-mers."
   ]
  },
  {
   "cell_type": "code",
   "execution_count": 7,
   "metadata": {},
   "outputs": [
    {
     "name": "stdout",
     "output_type": "stream",
     "text": [
      "\n",
      "=== k-mer Matches in Target Sequence ===\n",
      "TAGCT: [(4, 4), (4, 8), (4, 27), (4, 31), (4, 35), (8, 4), (8, 8), (8, 27), (8, 31), (8, 35), (22, 4), (22, 8), (22, 27), (22, 31), (22, 35), (26, 4), (26, 8), (26, 27), (26, 31), (26, 35), (30, 4), (30, 8), (30, 27), (30, 31), (30, 35), (34, 4), (34, 8), (34, 27), (34, 31), (34, 35)]\n",
      "AGCTA: [(5, 5), (5, 9), (5, 28), (5, 32), (5, 36), (23, 5), (23, 9), (23, 28), (23, 32), (23, 36), (27, 5), (27, 9), (27, 28), (27, 32), (27, 36), (31, 5), (31, 9), (31, 28), (31, 32), (31, 36)]\n",
      "GCTAG: [(6, 2), (6, 6), (6, 29), (6, 33), (24, 2), (24, 6), (24, 29), (24, 33), (28, 2), (28, 6), (28, 29), (28, 33), (32, 2), (32, 6), (32, 29), (32, 33)]\n",
      "CTAGC: [(7, 3), (7, 7), (7, 26), (7, 30), (7, 34), (25, 3), (25, 7), (25, 26), (25, 30), (25, 34), (29, 3), (29, 7), (29, 26), (29, 30), (29, 34), (33, 3), (33, 7), (33, 26), (33, 30), (33, 34)]\n",
      "GATCG: [(13, 15), (13, 19), (13, 42), (13, 46), (17, 15), (17, 19), (17, 42), (17, 46), (39, 15), (39, 19), (39, 42), (39, 46), (43, 15), (43, 19), (43, 42), (43, 46), (47, 15), (47, 19), (47, 42), (47, 46)]\n",
      "ATCGA: [(14, 16), (14, 20), (14, 43), (40, 16), (40, 20), (40, 43), (44, 16), (44, 20), (44, 43)]\n",
      "TCGAT: [(15, 17), (15, 21), (15, 44), (41, 17), (41, 21), (41, 44), (45, 17), (45, 21), (45, 44)]\n",
      "CGATC: [(16, 14), (16, 18), (16, 22), (16, 41), (16, 45), (42, 14), (42, 18), (42, 22), (42, 41), (42, 45), (46, 14), (46, 18), (46, 22), (46, 41), (46, 45)]\n"
     ]
    }
   ],
   "source": [
    "# Define an example target sequence (simulating a hit from a synthetic database).\n",
    "TARGET = \"TACGTAGCTAGCTGATCGATCGTAGCTAGCTAGCTAGCTGATCGATCGATCG\"\n",
    "\n",
    "# Find matching k-mers between the query and the target.\n",
    "matches = find_kmer_matches(lookup_table, TARGET, word_size)\n",
    "\n",
    "# Display found k-mer matches.\n",
    "print(\"\\n=== k-mer Matches in Target Sequence ===\")\n",
    "for kmer, positions in matches.items():\n",
    "    print(f\"{kmer}: {positions}\")"
   ]
  },
  {
   "cell_type": "markdown",
   "metadata": {},
   "source": [
    "Each k-mer is listed along with the positions where it appears:\n",
    "\n",
    "- The first number in each tuple is the position in the target sequence.\n",
    "- The second number is the position in the query sequence.\n",
    "\n",
    "For example,  `TAGCT: [(5, 4), (10, 9), (25, 24)]`  means that the k-mer `\"TAGCT\"` appears:\n",
    "\n",
    "- At position 5 in the target sequence (corresponding to position 4 in the query).\n",
    "- Again at position 10 in the target sequence (9 in query).\n"
   ]
  },
  {
   "cell_type": "markdown",
   "metadata": {},
   "source": [
    "### Step 3E: Key Takeaways\n",
    "\n",
    "1. Why does this method improve efficiency?\n",
    "2. What happens if a k-mer does not exist in the target sequence?\n",
    "3. What if the target sequence contains errors or mutations?\n",
    "4. How could we modify the function to allow approximate matches?\n"
   ]
  },
  {
   "cell_type": "markdown",
   "metadata": {},
   "source": [
    "## Step 4: Refining Matches with Smith–Waterman Alignment\n",
    "\n",
    "After identifying promising regions through k-mer matching, BLAST performs Smith–Waterman alignment to optimize the match score.\n",
    "Unlike global alignment (Needleman–Wunsch), Smith–Waterman performs local alignment, meaning:\n",
    "\n",
    "- It finds only the best-matching segment between two sequences.\n",
    "- It allows alignments to start and end at different positions rather than forcing alignment of the full sequences.\n",
    "- It assigns penalties for mismatches and gaps while rewarding matches.  "
   ]
  },
  {
   "cell_type": "markdown",
   "metadata": {},
   "source": [
    "### Step 4A: Why Use Smith–Waterman?\n",
    "\n",
    "BLAST’s goal is to find high-scoring local alignments, not necessarily to align entire sequences.\n",
    "Smith–Waterman provides several advantages:\n",
    "\n",
    "- Focuses only on relevant regions instead of aligning full sequences.\n",
    "- Handles insertions, deletions, and substitutions using penalties.\n",
    "- Can detect conserved motifs even in otherwise unrelated sequences.  "
   ]
  },
  {
   "cell_type": "markdown",
   "metadata": {},
   "source": [
    "Discussion Points:\n",
    "\n",
    "- How does Smith–Waterman differ from global alignment?\n",
    "- Why does the algorithm set negative scores to zero instead of allowing negative scores to accumulate?\n",
    "- What biological scenarios require local vs. global alignment?\n"
   ]
  },
  {
   "cell_type": "markdown",
   "metadata": {},
   "source": [
    "### Step 4B: Implementing Smith–Waterman Alignment\n",
    "\n",
    "We will reuse our Smith–Waterman alignment to refine the regions detected by k-mer matching."
   ]
  },
  {
   "cell_type": "code",
   "execution_count": 8,
   "metadata": {},
   "outputs": [],
   "source": [
    "def smith_waterman(seq1: str, seq2: str, match: int = 2, mismatch: int = -1, gap: int = -2) -> tuple[list[str], int]:\n",
    "    \"\"\"\n",
    "    Perform local alignment of two sequences using the Smith-Waterman algorithm.\n",
    "    \n",
    "    Parameters:\n",
    "        seq1: The first sequence.\n",
    "        seq2: The second sequence.\n",
    "        match: Score awarded for a match.\n",
    "        mismatch: Penalty for a mismatch.\n",
    "        gap: Penalty for a gap.\n",
    "    \n",
    "    Returns:\n",
    "        A tuple (alignments, max_score) where:\n",
    "            - alignments is a list of tuples (aligned_seq1, aligned_seq2) for all optimal local alignments.\n",
    "            - max_score is the maximum alignment score.\n",
    "    \"\"\"\n",
    "    m, n = len(seq1), len(seq2)\n",
    "    score_matrix = [[0 for _ in range(n + 1)] for _ in range(m + 1)]\n",
    "    \n",
    "    max_score = 0\n",
    "    max_positions = []\n",
    "    \n",
    "    # Fill in the score matrix\n",
    "    for i in range(1, m + 1):\n",
    "        for j in range(1, n + 1):\n",
    "            diag = score_matrix[i - 1][j - 1] + (match if seq1[i - 1] == seq2[j - 1] else mismatch)\n",
    "            up = score_matrix[i - 1][j] + gap\n",
    "            left = score_matrix[i][j - 1] + gap\n",
    "            cell_score = max(0, diag, up, left)\n",
    "            score_matrix[i][j] = cell_score\n",
    "\n",
    "            if cell_score > max_score:\n",
    "                max_score = cell_score\n",
    "                max_positions = [(i, j)]\n",
    "            elif cell_score == max_score and cell_score > 0:\n",
    "                max_positions.append((i, j))\n",
    "    \n",
    "    def traceback(i: int, j: int):\n",
    "        alignments = []\n",
    "        \n",
    "        # Base case: if we've reached a zero score or the edge of the matrix\n",
    "        if score_matrix[i][j] == 0 or (i == 0 and j == 0):\n",
    "            return [(\"\", \"\")]\n",
    "            \n",
    "        current_score = score_matrix[i][j]\n",
    "        \n",
    "        # Check diagonal move\n",
    "        if i > 0 and j > 0:\n",
    "            diag_val = score_matrix[i - 1][j - 1]\n",
    "            expected = diag_val + (match if seq1[i - 1] == seq2[j - 1] else mismatch)\n",
    "            if current_score == expected:\n",
    "                for a1, a2 in traceback(i - 1, j - 1):\n",
    "                    alignments.append((a1 + seq1[i - 1], a2 + seq2[j - 1]))\n",
    "        \n",
    "        # Check up move\n",
    "        if i > 0:\n",
    "            up_val = score_matrix[i - 1][j]\n",
    "            if current_score == up_val + gap:\n",
    "                for a1, a2 in traceback(i - 1, j):\n",
    "                    alignments.append((a1 + seq1[i - 1], a2 + \"-\"))\n",
    "        \n",
    "        # Check left move\n",
    "        if j > 0:\n",
    "            left_val = score_matrix[i][j - 1]\n",
    "            if current_score == left_val + gap:\n",
    "                for a1, a2 in traceback(i, j - 1):\n",
    "                    alignments.append((a1 + \"-\", a2 + seq2[j - 1]))\n",
    "        \n",
    "        # If no valid moves were found, return the base case\n",
    "        if not alignments:\n",
    "            return [(\"\", \"\")]\n",
    "            \n",
    "        return alignments\n",
    "\n",
    "    # Collect all alignments from maximum scoring positions\n",
    "    all_alignments = set()\n",
    "    for i, j in max_positions:\n",
    "        for aligned_seq1, aligned_seq2 in traceback(i, j):\n",
    "            all_alignments.add((aligned_seq1, aligned_seq2))\n",
    "    \n",
    "    return list(all_alignments), max_score"
   ]
  },
  {
   "cell_type": "markdown",
   "metadata": {},
   "source": [
    "### Step 4C: Running the Smith–Waterman Algorithm\n",
    "\n",
    "Now, we test our function using the query and target sequences from the previous steps."
   ]
  },
  {
   "cell_type": "code",
   "execution_count": 10,
   "metadata": {},
   "outputs": [
    {
     "name": "stdout",
     "output_type": "stream",
     "text": [
      "=== Smith-Waterman Local Alignment ===\n",
      "\n",
      "Alignment Score: 78\n",
      "\n",
      "Alignment 1:\n",
      "  Query Alignment:  TGC-TAGCTAGCTACGATCGATCG-ATCTAGCTAGCTAGCT-A-CGATCGATCG\n",
      "  Target Alignment: TACGTAGCTAGCT--GATCGATCGTAGCTAGCTAGCTAGCTGATCGATCGATCG\n",
      "\n",
      "Alignment 2:\n",
      "  Query Alignment:  ATGCTAGCTAGCTACGATCGATCG-ATCTAGCTAGCTAGCT-A-CGATCGATCG\n",
      "  Target Alignment: ACG-TAGCTAGCT--GATCGATCGTAGCTAGCTAGCTAGCTGATCGATCGATCG\n",
      "\n"
     ]
    }
   ],
   "source": [
    "# Call the new smith_waterman function.\n",
    "alignments, alignment_score = smith_waterman(QUERY, TARGET)\n",
    "\n",
    "print(\"=== Smith-Waterman Local Alignment ===\\n\")\n",
    "print(f\"Alignment Score: {alignment_score}\\n\")\n",
    "\n",
    "# Iterate through all optimal alignments.\n",
    "for idx, (aligned1, aligned2) in enumerate(alignments, start=1):\n",
    "    print(f\"Alignment {idx}:\")\n",
    "    print(f\"  Query Alignment:  {aligned1}\")\n",
    "    print(f\"  Target Alignment: {aligned2}\")\n",
    "    print()\n"
   ]
  },
  {
   "cell_type": "markdown",
   "metadata": {},
   "source": [
    "Each alignment consists of:\n",
    "\n",
    "- A segment of the query sequence that aligns optimally with the target.\n",
    "- The highest scoring local match found between the two sequences.\n"
   ]
  },
  {
   "cell_type": "markdown",
   "metadata": {},
   "source": [
    "Discussion Points:\n",
    "\n",
    "1. How does the algorithm decide where to start and stop the alignment?\n",
    "2. What happens if a target sequence contains mutations?\n",
    "3. How does the alignment score reflect biological significance?\n"
   ]
  }
 ],
 "metadata": {
  "kernelspec": {
   "display_name": "sci",
   "language": "python",
   "name": "python3"
  },
  "language_info": {
   "codemirror_mode": {
    "name": "ipython",
    "version": 3
   },
   "file_extension": ".py",
   "mimetype": "text/x-python",
   "name": "python",
   "nbconvert_exporter": "python",
   "pygments_lexer": "ipython3",
   "version": "3.13.1"
  }
 },
 "nbformat": 4,
 "nbformat_minor": 2
}
