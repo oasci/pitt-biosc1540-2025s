{
 "cells": [
  {
   "cell_type": "markdown",
   "metadata": {},
   "source": [
    "# In-class activity: Dynamic programming\n",
    "\n",
    "TODO:"
   ]
  },
  {
   "cell_type": "markdown",
   "metadata": {},
   "source": [
    "## Random sequences\n",
    "\n",
    "We will use two examples sequences."
   ]
  },
  {
   "cell_type": "code",
   "execution_count": 1,
   "metadata": {},
   "outputs": [],
   "source": [
    "seq1 = \"GCATGTAGGCGCTGGACTCGCTAGTAGTACAATGGCCGCCTCAGTGATGCGCGTAACCTAGTACGATGCCTAGTGAATT\"\n",
    "seq2 = \"GGCGATAAGTTAAATTGTGTCAAGGGATGTCTTCGGAGTTCGAGCAACTGCATACCCCCAGTTAACGTCGTCC\""
   ]
  },
  {
   "cell_type": "markdown",
   "metadata": {},
   "source": [
    "## Needleman–Wunsch Alignment\n"
   ]
  },
  {
   "cell_type": "markdown",
   "metadata": {},
   "source": [
    "### Initialize matrix"
   ]
  },
  {
   "cell_type": "code",
   "execution_count": 2,
   "metadata": {},
   "outputs": [],
   "source": [
    "def initialize_matrix(seq1, seq2, gap):\n",
    "    \"\"\"Initialize the scoring matrix for global alignment.\"\"\"\n",
    "    m = len(seq1)\n",
    "    n = len(seq2)\n",
    "    \n",
    "    # Create an (m+1) x (n+1) matrix filled with zeros using for loops.\n",
    "    matrix = []\n",
    "    for i in range(m + 1):\n",
    "        row = []\n",
    "        for j in range(n + 1):\n",
    "            row.append(0)\n",
    "        matrix.append(row)\n",
    "    \n",
    "    # Initialize the first column with gap penalties.\n",
    "    for i in range(1, m + 1):\n",
    "        matrix[i][0] = i * gap\n",
    "    # Initialize the first row with gap penalties.\n",
    "    for j in range(1, n + 1):\n",
    "        matrix[0][j] = j * gap\n",
    "\n",
    "    return matrix"
   ]
  },
  {
   "cell_type": "markdown",
   "metadata": {},
   "source": [
    "### Fill matrix"
   ]
  },
  {
   "cell_type": "code",
   "execution_count": 3,
   "metadata": {},
   "outputs": [],
   "source": [
    "def fill_matrix(seq1, seq2, match, mismatch, gap, matrix):\n",
    "    \"\"\"\n",
    "    Fill in the scoring matrix using the Needleman-Wunsch recurrence.\n",
    "    \"\"\"\n",
    "    m = len(seq1)\n",
    "    n = len(seq2)\n",
    "    \n",
    "    for i in range(1, m + 1):\n",
    "        for j in range(1, n + 1):\n",
    "            # Compute the three possible scores.\n",
    "            diag = matrix[i - 1][j - 1] + (match if seq1[i - 1] == seq2[j - 1] else mismatch)\n",
    "            up = matrix[i - 1][j] + gap\n",
    "            left = matrix[i][j - 1] + gap\n",
    "            \n",
    "            # Find the maximum score using if statements.\n",
    "            max_score = diag\n",
    "            if up > max_score:\n",
    "                max_score = up\n",
    "            if left > max_score:\n",
    "                max_score = left\n",
    "            \n",
    "            matrix[i][j] = max_score"
   ]
  },
  {
   "cell_type": "markdown",
   "metadata": {},
   "source": [
    "### Traceback"
   ]
  },
  {
   "cell_type": "code",
   "execution_count": 4,
   "metadata": {},
   "outputs": [],
   "source": [
    "def traceback(seq1, seq2, match, mismatch, gap, matrix, i, j):\n",
    "    \"\"\"\n",
    "    Recursively traceback from cell (i, j) to (0, 0) to recover all optimal alignments.\n",
    "    \n",
    "    Returns a list of tuples (aligned_seq1, aligned_seq2).\n",
    "    \"\"\"\n",
    "    # Base case: when we reach the top-left cell.\n",
    "    if i == 0 and j == 0:\n",
    "        return [(\"\", \"\")]\n",
    "    \n",
    "    alignments = []\n",
    "\n",
    "    # Check diagonal move: aligning seq1[i-1] with seq2[j-1].\n",
    "    if i > 0 and j > 0:\n",
    "        diag_score = matrix[i - 1][j - 1]\n",
    "        expected = diag_score + (match if seq1[i - 1] == seq2[j - 1] else mismatch)\n",
    "        if matrix[i][j] == expected:\n",
    "            diag_alignments = traceback(seq1, seq2, match, mismatch, gap, matrix, i - 1, j - 1)\n",
    "            for a in diag_alignments:\n",
    "                # Append the current aligned characters.\n",
    "                aligned1 = a[0] + seq1[i - 1]\n",
    "                aligned2 = a[1] + seq2[j - 1]\n",
    "                alignments.append((aligned1, aligned2))\n",
    "    \n",
    "    # Check up move: aligning seq1[i-1] with a gap.\n",
    "    if i > 0:\n",
    "        expected = matrix[i - 1][j] + gap\n",
    "        if matrix[i][j] == expected:\n",
    "            up_alignments = traceback(seq1, seq2, match, mismatch, gap, matrix, i - 1, j)\n",
    "            for a in up_alignments:\n",
    "                aligned1 = a[0] + seq1[i - 1]\n",
    "                aligned2 = a[1] + \"-\"\n",
    "                alignments.append((aligned1, aligned2))\n",
    "    \n",
    "    # Check left move: aligning a gap with seq2[j-1].\n",
    "    if j > 0:\n",
    "        expected = matrix[i][j - 1] + gap\n",
    "        if matrix[i][j] == expected:\n",
    "            left_alignments = traceback(seq1, seq2, match, mismatch, gap, matrix, i, j - 1)\n",
    "            for a in left_alignments:\n",
    "                aligned1 = a[0] + \"-\"\n",
    "                aligned2 = a[1] + seq2[j - 1]\n",
    "                alignments.append((aligned1, aligned2))\n",
    "    \n",
    "    return alignments"
   ]
  },
  {
   "cell_type": "markdown",
   "metadata": {},
   "source": [
    "### Putting it together\n"
   ]
  },
  {
   "cell_type": "code",
   "execution_count": 5,
   "metadata": {},
   "outputs": [],
   "source": [
    "def remove_duplicates(alignments):\n",
    "    \"\"\"\n",
    "    Remove duplicate alignments from the list.\n",
    "    \"\"\"\n",
    "    seen = {}\n",
    "    unique = []\n",
    "    for alignment in alignments:\n",
    "        if alignment not in seen:\n",
    "            seen[alignment] = True\n",
    "            unique.append(alignment)\n",
    "    return unique"
   ]
  },
  {
   "cell_type": "code",
   "execution_count": 6,
   "metadata": {},
   "outputs": [],
   "source": [
    "def needleman_wunsch(seq1, seq2, match=1, mismatch=-1, gap=-2):\n",
    "    \"\"\"\n",
    "    Perform global alignment of two sequences using the Needleman–Wunsch algorithm.\n",
    "    \n",
    "    Parameters:\n",
    "        seq1: The first sequence.\n",
    "        seq2: The second sequence.\n",
    "        match: Score awarded for a match.\n",
    "        mismatch: Penalty for a mismatch.\n",
    "        gap: Penalty for a gap.\n",
    "    \"\"\"\n",
    "    matrix = initialize_matrix(seq1, seq2, gap)\n",
    "    fill_matrix(seq1, seq2, match, mismatch, gap, matrix)\n",
    "    final_score = matrix[len(seq1)][len(seq2)]\n",
    "    alignments = traceback(seq1, seq2, match, mismatch, gap, matrix, len(seq1), len(seq2))\n",
    "    unique_alignments = remove_duplicates(alignments)\n",
    "    \n",
    "    return unique_alignments, final_score"
   ]
  },
  {
   "cell_type": "code",
   "execution_count": 10,
   "metadata": {},
   "outputs": [
    {
     "name": "stdout",
     "output_type": "stream",
     "text": [
      "=== Needleman-Wunsch alignments ===\n",
      "\n",
      "Alignment Score: -20\n",
      "\n",
      "Alignment 1:\n",
      "  Seq1 Alignment:  GCATGTAGGCGCTGGACTCGCTAGTAGTACAATGGCCG-CCTCAGTGATGCGCGTAACCTAGTACGATGCCTAGTGAA--T--T--\n",
      "  Seq2 Alignment:  G-GCG-ATAAG-TTAAAT---T-GT-GT-CAAGGGATGTCTTCGGAG-TTCGAGCAA-CT-GCA-TACCCCCAGTTAACGTCGTCC\n",
      "\n",
      "Alignment 2:\n",
      "  Seq1 Alignment:  GCATGTAGGCGCTGGACTCGCTAGTAGTACAATGGCCG-CCTCAGTGATGCGCGTAACCTAGTACGATGCCTAGTGAA--T--T--\n",
      "  Seq2 Alignment:  GG-CG-ATAAG-TTAAAT---T-GT-GT-CAAGGGATGTCTTCGGAG-TTCGAGCAA-CT-GCA-TACCCCCAGTTAACGTCGTCC\n",
      "\n",
      "Alignment 3:\n",
      "  Seq1 Alignment:  GCATGTAGGCGCTGGACTCGCTAGTAGTACAATGGCCG-CCTCAGTGATGCGCGTAACCTAGTACGATGCCTAGTGAA--T--T--\n",
      "  Seq2 Alignment:  GGC-G-ATAAG-TTAAAT---T-GT-GT-CAAGGGATGTCTTCGGAG-TTCGAGCAA-CT-GCA-TACCCCCAGTTAACGTCGTCC\n",
      "\n",
      "Alignment 4:\n",
      "  Seq1 Alignment:  GCATGTAGGCGCTGGACTCGCTAGTAGTACAATGGCCG-CCTCAGTGATGCGCGTAACCTAGTACGATGCCTAGTGAA--T--T--\n",
      "  Seq2 Alignment:  GGCGATA--AG-TTAAAT---T-GT-GT-CAAGGGATGTCTTCGGAG-TTCGAGCAA-CT-GCA-TACCCCCAGTTAACGTCGTCC\n",
      "\n",
      "Alignment 5:\n",
      "  Seq1 Alignment:  GCATGTAGGCGCTGGACTCGCTAGTAGTACAATGGCCG-CCTCAGTGATGCGCGTAACCTAGTACGATGCCTAGTGAA--T--T--\n",
      "  Seq2 Alignment:  GGCGATA-A-G-TTAAAT---T-GT-GT-CAAGGGATGTCTTCGGAG-TTCGAGCAA-CT-GCA-TACCCCCAGTTAACGTCGTCC\n",
      "\n"
     ]
    }
   ],
   "source": [
    "# Call the new smith_waterman function.\n",
    "alignments, alignment_score = needleman_wunsch(seq1, seq2)\n",
    "\n",
    "print(\"=== Needleman-Wunsch alignments ===\\n\")\n",
    "print(f\"Alignment Score: {alignment_score}\\n\")\n",
    "\n",
    "# Iterate through all optimal alignments.\n",
    "for idx, (aligned1, aligned2) in enumerate(alignments[:5], start=1):\n",
    "    print(f\"Alignment {idx}:\")\n",
    "    print(f\"  Seq1 Alignment:  {aligned1}\")\n",
    "    print(f\"  Seq2 Alignment:  {aligned2}\")\n",
    "    print()"
   ]
  }
 ],
 "metadata": {
  "kernelspec": {
   "display_name": "sci",
   "language": "python",
   "name": "python3"
  },
  "language_info": {
   "codemirror_mode": {
    "name": "ipython",
    "version": 3
   },
   "file_extension": ".py",
   "mimetype": "text/x-python",
   "name": "python",
   "nbconvert_exporter": "python",
   "pygments_lexer": "ipython3",
   "version": "3.13.1"
  }
 },
 "nbformat": 4,
 "nbformat_minor": 2
}
