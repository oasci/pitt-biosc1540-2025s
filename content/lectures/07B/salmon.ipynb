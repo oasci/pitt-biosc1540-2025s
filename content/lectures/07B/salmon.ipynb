{
 "cells": [
  {
   "cell_type": "markdown",
   "metadata": {},
   "source": [
    "# Hands-on Salmon"
   ]
  },
  {
   "cell_type": "markdown",
   "metadata": {},
   "source": [
    "## Transcriptome\n",
    "\n",
    "In this first section, we begin by defining a very simple transcriptome&mdash;a collection of RNA sequences that will serve as our model for testing RNA quantification.\n",
    "\n",
    "We use a Python dictionary called `transcriptome` to store our transcript sequences which were designed with specific purposes.\n",
    "\n",
    "- `txA` was designed to be very long and with region of high GC content.\n",
    "- `txB` is much shorter without significant GC content.\n"
   ]
  },
  {
   "cell_type": "code",
   "execution_count": 1,
   "metadata": {},
   "outputs": [],
   "source": [
    "transcriptome = {\n",
    "    \"txA\": \"GGTAATATTTAGGAGGATGTCTTACGGTCGCCGATGCCAGTAAAA\" * 4\n",
    "    + \"GCGCGCTTACGCCGCTAATGCGGCGTCCGCGCGCAGCGCGCGCGC\" * 6\n",
    "    + \"TACGTCATGAAAATCGACTTTTTTCTAGGGACTCGACAATTCGTA\" * 4,\n",
    "    \"txB\": \"TCTCGACCGTGCCATATTGGAGTCAAT\" * 4\n",
    "    + \"ATTGGTGGTGCAACTGGCTAGAAGGGG\" * 4\n",
    "    + \"ATTGGGATCACAGTACGAAATTCGCTC\" * 4,\n",
    "}"
   ]
  },
  {
   "cell_type": "markdown",
   "metadata": {},
   "source": [
    "## Basic generative model\n",
    "\n",
    "Without incorporating sequencing biases."
   ]
  },
  {
   "cell_type": "code",
   "execution_count": 2,
   "metadata": {},
   "outputs": [],
   "source": [
    "import numpy as np\n",
    "\n",
    "rng = np.random.default_rng()"
   ]
  },
  {
   "cell_type": "code",
   "execution_count": 3,
   "metadata": {},
   "outputs": [],
   "source": [
    "def frag_len_dist(average_len: int = 150, variation: int = 30) -> int:\n",
    "    \"\"\"\n",
    "    Generate a random fragment length based on a normal distribution.\n",
    "\n",
    "    This function returns a fragment length sampled from a normal distribution\n",
    "    with a given average length and variation. The minimum fragment length is\n",
    "    capped at 25 to prevent extremely small values.\n",
    "\n",
    "    Args:\n",
    "        average_len: The mean fragment length. Defaults to 150.\n",
    "        variation: The standard deviation of the fragment length. Defaults to 30.\n",
    "\n",
    "    Returns:\n",
    "        A randomly generated fragment length, with a minimum value of 25.\n",
    "    \"\"\"\n",
    "    return max(25, int(rng.normal(average_len, variation)))"
   ]
  },
  {
   "cell_type": "code",
   "execution_count": 4,
   "metadata": {},
   "outputs": [],
   "source": [
    "def simulate_rna_seq_reads(\n",
    "    transcriptome: dict[str, str],\n",
    "    alpha: list[int],\n",
    "    num_reads: int = 1_000,\n",
    ") -> list[tuple[str, int, str]]:\n",
    "    \"\"\"\n",
    "    Simulate reads according to a generative model similar to Salmon.\n",
    "\n",
    "    Args:\n",
    "        transcriptome: A dictionary `{ transcript_id : transcript_sequence }`.\n",
    "        alpha: Transcript abundance proportions of each transcript in the transcriptome.\n",
    "        num_reads: Total number of reads (fragments) to simulate.\n",
    "        frag_len_dist: A function that samples from the chosen fragment length\n",
    "            distribution. E.g,. a lambda that calls np.random.\n",
    "            If None, we'll assume a simple fixed length.\n",
    "        rng: Random number generator for reproducibility. If None, a new default is created.\n",
    "\n",
    "    Returns:\n",
    "        A list of `(transcript_id, start_pos, fragment_seq)` for each simulated fragment.\n",
    "    \"\"\"\n",
    "\n",
    "    # Gather transcript IDs and sequences\n",
    "    tx_ids: list[str] = list(transcriptome.keys())\n",
    "    tx_seqs = list(transcriptome.values())\n",
    "    M = len(tx_ids)\n",
    "\n",
    "    # Basic checks to ensure transcript abundances sum up to one.\n",
    "    alpha = np.array(alpha, dtype=float)\n",
    "    alpha /= alpha.sum()\n",
    "\n",
    "    # List to store our reads.\n",
    "    reads = []\n",
    "\n",
    "    # Precompute transcript lengths\n",
    "    tx_lengths = np.array([len(seq) for seq in tx_seqs])\n",
    "\n",
    "    # For each read to simulate.\n",
    "    while len(reads) < num_reads:\n",
    "        # 1. Choose a transcript index i ~ Multinomial(alpha)\n",
    "        i = rng.choice(M, p=alpha)\n",
    "\n",
    "        # 2. Generate a random fragment (i.e., read) length\n",
    "        L = frag_len_dist()\n",
    "\n",
    "        # 3. Select a starting position\n",
    "        #    We'll ensure there's room for a fragment of length L\n",
    "        max_start = max(0, tx_lengths[i] - L)\n",
    "        if max_start == 0:\n",
    "            # If the transcript is too short, skip or try smaller L\n",
    "            # In a real simulator, you'd handle corner cases more gracefully.\n",
    "            continue\n",
    "\n",
    "        # 4. Generate random start index\n",
    "        start = rng.integers(low=0, high=max_start + 1)\n",
    "\n",
    "        # 5. Extract the fragment sequence from the transcript and add it\n",
    "        #    to our reads list.\n",
    "        frag_seq = tx_seqs[i][start : start + L]\n",
    "        reads.append((tx_ids[i], int(start), frag_seq))\n",
    "\n",
    "    return reads"
   ]
  },
  {
   "cell_type": "markdown",
   "metadata": {},
   "source": [
    "## Sampling reads"
   ]
  },
  {
   "cell_type": "code",
   "execution_count": 5,
   "metadata": {},
   "outputs": [],
   "source": [
    "def get_read_counts(reads):\n",
    "    counts = {}\n",
    "    for read in reads:\n",
    "        key = read[0]\n",
    "        if key not in counts:\n",
    "            counts[key] = 0\n",
    "        else:\n",
    "            counts[key] += 1\n",
    "\n",
    "    # Sort keys\n",
    "    ks = list(counts.keys())\n",
    "    ks.sort()\n",
    "    counts = {i: counts[i] for i in ks}\n",
    "    return counts"
   ]
  },
  {
   "cell_type": "code",
   "execution_count": 6,
   "metadata": {},
   "outputs": [
    {
     "name": "stdout",
     "output_type": "stream",
     "text": [
      "Read counts: {'txA': 220, 'txB': 278}\n"
     ]
    }
   ],
   "source": [
    "# Transcript abundances\n",
    "alphas = [0.4, 0.6]\n",
    "\n",
    "simulated_reads = simulate_rna_seq_reads(transcriptome, alphas, num_reads=500)\n",
    "read_counts = get_read_counts(simulated_reads)\n",
    "print(f\"Read counts: {read_counts}\")"
   ]
  },
  {
   "cell_type": "markdown",
   "metadata": {},
   "source": [
    "### Plotting reads\n",
    "\n"
   ]
  },
  {
   "cell_type": "code",
   "execution_count": 7,
   "metadata": {},
   "outputs": [],
   "source": [
    "import matplotlib.pyplot as plt"
   ]
  },
  {
   "cell_type": "code",
   "execution_count": 8,
   "metadata": {},
   "outputs": [],
   "source": [
    "def plot_read_positions(\n",
    "    transcripts: dict[str, str], simulated_reads: list[tuple[str, int, str]]\n",
    "):\n",
    "    \"\"\"\n",
    "    Create a matplotlib figure with two axes (one for each transcript).\n",
    "    For each transcript, a solid horizontal line is plotted representing the\n",
    "    transcript's full length. Then, each simulated read for that transcript is shown\n",
    "    as a horizontal line underneath, offset by 0.5 for each read.\n",
    "\n",
    "    Args:\n",
    "        transcripts: Dictionary mapping transcript IDs (e.g., \"txA\", \"txB\")\n",
    "            to their sequences.\n",
    "        simulated_reads: Each tuple should be of the form\n",
    "            `(transcript_id, start_position, fragment_sequence)`.\n",
    "\n",
    "    Returns\n",
    "        The generated figure.\n",
    "    \"\"\"\n",
    "    # Create one subplot per transcript (assuming two transcripts: txA and txB)\n",
    "    tx_ids = list(transcripts.keys())\n",
    "    fig, axs = plt.subplots(nrows=1, ncols=len(tx_ids), sharey=True)\n",
    "\n",
    "    for ax, tx in zip(axs, tx_ids):\n",
    "        seq = transcripts[tx]\n",
    "        tx_length = len(seq)\n",
    "        # Draw the full transcript as a thick horizontal line at y=0.\n",
    "        ax.hlines(\n",
    "            y=0,\n",
    "            xmin=0,\n",
    "            xmax=tx_length,\n",
    "            color=\"#03045e\",\n",
    "            linewidth=5,\n",
    "            label=\"Transcript\",\n",
    "        )\n",
    "\n",
    "        # Filter reads for the current transcript.\n",
    "        tx_reads = [read for read in simulated_reads if read[0] == tx]\n",
    "\n",
    "        # For each read, plot a horizontal line offset downward by 0.5 for each read.\n",
    "        for i, (_, start, frag_seq) in enumerate(tx_reads):\n",
    "            read_length = len(frag_seq)\n",
    "            # Each read is drawn at y = -0.5*(i+1) (so they stack below the transcript)\n",
    "            y_pos = -2 + -1.0 * (i + 1)\n",
    "            ax.hlines(\n",
    "                y=y_pos,\n",
    "                xmin=start,\n",
    "                xmax=start + read_length,\n",
    "                color=\"#00b4d8\",\n",
    "                linewidth=2,\n",
    "            )\n",
    "\n",
    "        ax.set_title(f\"Transcript {tx}\")\n",
    "        ax.set_xlim(0, tx_length)\n",
    "        ax.set_yticks([])\n",
    "        ax.set_xlabel(\"Position along transcript\")\n",
    "        ax.set_ylabel(\"Reads\")\n",
    "        ax.invert_yaxis()\n",
    "\n",
    "    plt.tight_layout()\n",
    "    return fig"
   ]
  },
  {
   "cell_type": "code",
   "execution_count": 9,
   "metadata": {},
   "outputs": [
    {
     "data": {
      "image/png": "[encoded data removed]",
      "text/plain": [
       "<Figure size 640x480 with 2 Axes>"
      ]
     },
     "metadata": {},
     "output_type": "display_data"
    }
   ],
   "source": [
    "fig = plot_read_positions(transcriptome, simulated_reads)\n",
    "plt.show()"
   ]
  },
  {
   "cell_type": "markdown",
   "metadata": {},
   "source": [
    "## Biases\n",
    "\n",
    "In building our generative model for RNA quantification, our goal is to simulate the way real RNA-seq experiments capture data.\n",
    "In actual experiments, several factors introduce biases in how reads are sampled from transcripts.\n",
    "By explicitly modeling these biases, we can generate synthetic data that more closely mirrors real-world scenarios, thereby allowing us to better test and understand the downstream quantification algorithms."
   ]
  },
  {
   "cell_type": "markdown",
   "metadata": {},
   "source": [
    "### Positional bias\n",
    "\n",
    "In practice, RNA-seq protocols do not sample uniformly along the entire length of a transcript.\n",
    "Often, fragments originating from the middle of a transcript are more likely to be sequenced, while those at the very beginning or end might be underrepresented.\n",
    "This can be due to biases in the fragmentation process or in the efficiency of reverse transcription.\n",
    "\n",
    "\n",
    "- By calculating the fraction of the transcript where the read begins, we normalize the position regardless of transcript length. This makes our function generally applicable.\n",
    "- The exponential function `np.exp(-5.0 * (frac - 0.5) ** 2)` creates a bell-shaped curve centered around the midpoint (0.5). The constant `5.0` controls the sharpness of the decay, ensuring that positions near the ends are heavily penalized. This approach captures the idea that the likelihood of sampling a fragment drops off as you move away from the center.\n"
   ]
  },
  {
   "cell_type": "code",
   "execution_count": 10,
   "metadata": {},
   "outputs": [],
   "source": [
    "def positional_bias_example(start_index, transcript_length):\n",
    "    # fraction along the transcript\n",
    "    frac = start_index / transcript_length\n",
    "    # For instance, heavily penalize extremes:\n",
    "    # near 0% => less likely, near 100% => less likely\n",
    "    # peak in the middle\n",
    "    return np.exp(-5.0 * (frac - 0.5) ** 2)"
   ]
  },
  {
   "cell_type": "markdown",
   "metadata": {},
   "source": [
    "GC content plays a significant role in sequencing efficiency. Fragments with very low or very high GC content can be problematic during sequencing, resulting in their underrepresentation in the final dataset. Mid-range GC content, around 50%, is often optimal for many sequencing platforms.\n",
    "\n",
    "**Why This Implementation?**\n",
    "\n",
    "- Similar to the positional bias, this function uses an exponential decay centered around 0.5. This reflects the experimental observation that fragments with a GC fraction near 50% are sequenced more reliably.\n",
    "- The exponential decay again provides a smooth, continuous way to reduce the likelihood of sampling fragments that deviate too far from the optimal GC content. This smooth curve is a reasonable approximation for the gradual decrease in sequencing efficiency observed in many studies.\n"
   ]
  },
  {
   "cell_type": "code",
   "execution_count": 11,
   "metadata": {},
   "outputs": [],
   "source": [
    "def gc_bias_example(gc_frac):\n",
    "    # Suppose we strongly favor mid-range GC\n",
    "    return np.exp(-5 * (gc_frac - 0.5) ** 2)"
   ]
  },
  {
   "cell_type": "markdown",
   "metadata": {},
   "source": [
    "The function `simulate_rna_seq_reads` generates synthetic reads from a given set of transcripts using a generative model inspired by tools like Salmon.\n",
    "The model integrates multiple factors—such as transcript abundance, fragment length variability, positional bias, and GC-content bias—to approximate real sequencing experiments."
   ]
  },
  {
   "cell_type": "code",
   "execution_count": 12,
   "metadata": {},
   "outputs": [],
   "source": [
    "import numpy as np\n",
    "\n",
    "\n",
    "def simulate_rna_seq_reads_with_biases(\n",
    "    transcripts: dict[str, str],\n",
    "    alpha: list[int],\n",
    "    num_reads: int = 10_000,\n",
    "    frag_len_dist=None,\n",
    "    pos_bias=None,\n",
    "    gc_bias=None,\n",
    "    rng=None,\n",
    ") -> list[tuple[str, int, str]]:\n",
    "    r\"\"\"\n",
    "    Simulate reads according to a generative model similar to Salmon.\n",
    "\n",
    "    Args:\n",
    "        transcripts: A dictionary `{ transcript_id : transcript_sequence }`.\n",
    "        alpha: Transcript abundance proportions (must sum to 1).\n",
    "        num_reads: Total number of reads (fragments) to simulate.\n",
    "        frag_len_dist: A function that samples from the chosen fragment length distribution.\n",
    "            E.g. a lambda that calls np.random.  If None, we’ll assume a simple fixed length.\n",
    "        pos_bias: Position bias function\n",
    "        gc_bias: A function that, given GC content of a fragment, returns a multiplicative bias.\n",
    "        rng: Random number generator for reproducibility. If None, a new default is created.\n",
    "\n",
    "    Returns:\n",
    "        A list of (transcript_id, start_pos, fragment_seq) for each simulated fragment.\n",
    "    \"\"\"\n",
    "    # Seed the random number generator\n",
    "    if rng is None:\n",
    "        rng = np.random.default_rng()\n",
    "\n",
    "    # Gather transcript IDs and sequences\n",
    "    tx_ids: list[str] = list(transcripts.keys())\n",
    "    tx_seqs = list(transcripts.values())\n",
    "    M = len(tx_ids)\n",
    "\n",
    "    # Basic checks\n",
    "    alpha = np.array(alpha, dtype=float)\n",
    "    alpha /= alpha.sum()\n",
    "\n",
    "    # Default fragment length distribution if none is given\n",
    "    if frag_len_dist is None:\n",
    "        # Suppose we always sample fragments of length ~ 150 plus some noise\n",
    "        def frag_len_dist():\n",
    "            return max(25, int(rng.normal(150, 30)))\n",
    "\n",
    "    reads = []\n",
    "\n",
    "    # Precompute transcript lengths\n",
    "    tx_lengths = np.array([len(seq) for seq in tx_seqs])\n",
    "\n",
    "    # For each read to simulate:\n",
    "    while len(reads) < num_reads:\n",
    "        # 1. Choose a transcript index i ~ Multinomial(alpha)\n",
    "        i = rng.choice(M, p=alpha)\n",
    "\n",
    "        # 2. Sample fragment length\n",
    "        L = frag_len_dist()\n",
    "\n",
    "        # 3. Select a start position\n",
    "        #    We'll ensure there's room for a fragment of length L\n",
    "        max_start = max(0, tx_lengths[i] - L)\n",
    "        if max_start == 0:\n",
    "            # If the transcript is too short, skip or try smaller L\n",
    "            # In a real simulator, you'd handle corner cases more gracefully.\n",
    "            continue\n",
    "        start = rng.integers(low=0, high=max_start + 1)\n",
    "\n",
    "        # 4. Extract the fragment sequence from the transcript\n",
    "        frag_seq = tx_seqs[i][start : start + L]\n",
    "\n",
    "        # Initialize bias factor\n",
    "        bias_factor = 1\n",
    "\n",
    "        # 5. Compute positional bias\n",
    "        if pos_bias:\n",
    "            bias_factor *= pos_bias(start, len(tx_seqs[i]))\n",
    "\n",
    "        # 6. Compute GC bias (entire fragment)\n",
    "        if gc_bias:\n",
    "            gc_frac = (frag_seq.count(\"G\") + frag_seq.count(\"C\")) / float(len(frag_seq))\n",
    "            bias_factor *= gc_bias(gc_frac)\n",
    "\n",
    "        # 7. Accept or reject fragment according to bias_factor.\n",
    "        #    A typical generative approach would weight transcripts by bias_factor,\n",
    "        #    but here we’ll do a simple “probabilistic acceptance” approach:\n",
    "        #    e.g., if bias_factor < 0.5, we might reject half the time, etc.\n",
    "        #    Or we can simply store the factor to re-weigh probabilities later.\n",
    "        if rng.random() < bias_factor:\n",
    "            # Store the read\n",
    "            reads.append((tx_ids[i], int(start), frag_seq))\n",
    "\n",
    "    return reads"
   ]
  },
  {
   "cell_type": "code",
   "execution_count": 13,
   "metadata": {},
   "outputs": [],
   "source": [
    "simulated_reads_with_biases = simulate_rna_seq_reads_with_biases(\n",
    "    transcriptome,\n",
    "    alphas,\n",
    "    num_reads=500,\n",
    "    frag_len_dist=frag_len_dist,\n",
    "    pos_bias=positional_bias_example,\n",
    "    gc_bias=gc_bias_example,\n",
    ")"
   ]
  },
  {
   "cell_type": "code",
   "execution_count": 14,
   "metadata": {},
   "outputs": [
    {
     "data": {
      "image/png": "[encoded data removed]",
      "text/plain": [
       "<Figure size 640x480 with 2 Axes>"
      ]
     },
     "metadata": {},
     "output_type": "display_data"
    }
   ],
   "source": [
    "fig = plot_read_positions(transcriptome, simulated_reads_with_biases)\n",
    "plt.show()"
   ]
  },
  {
   "cell_type": "markdown",
   "metadata": {},
   "source": [
    "## Quantification"
   ]
  },
  {
   "cell_type": "markdown",
   "metadata": {},
   "source": [
    "### Effective biases\n",
    "\n",
    "In RNA-seq data simulation and quantification, biases such as positional bias—where fragments are more or less likely to be sampled from certain parts of a transcript—and GC bias—where the GC content of fragments affects their probability of being sequenced—can significantly impact the observed read counts.\n",
    "Both simulation and real quantification methods, such as Salmon, must account for these biases to accurately infer transcript abundances.\n",
    "\n",
    "In our simulation process, we begin by sampling a transcript based on its relative abundance, represented by the vector **α**.\n",
    "Once a transcript is chosen, a fragment length is sampled from either a fixed length or a specified distribution. A start position is then selected within the transcript so that the fragment fits completely. At this point, two bias functions are applied. The positional bias adjusts the likelihood of fragment sampling based on its location within the transcript, while the GC bias adjusts the likelihood according to the fragment's GC content. After computing these biases, the fragment is accepted or rejected probabilistically, based on the product of the bias factors. The final result is a set of simulated reads that reflects both the original transcript proportions and the influence of sequencing biases.\n",
    "\n",
    "When we attempt to reverse the simulation and estimate the original transcript proportions from the simulated reads, we encounter the challenge that the observed read counts have already been influenced by these biases. To address this, we estimate what we call an \"effective bias\" for each transcript. This effective bias factor, often denoted as pᵢ for transcript *i*, represents the average influence of the biases on the likelihood of sampling a fragment from that transcript. We approximate this factor using Monte Carlo sampling over all possible valid fragments from each transcript. For each valid fragment, we calculate the product of the bias functions and then average these values over many samples. This approach provides a correction factor that accounts for the average impact of biases on fragment generation.\n",
    "\n",
    "The effective bias factor is then incorporated into a likelihood model where the probability of observing a read from transcript *i* is proportional to the product of the transcript's abundance (α[i]) and its effective bias (pᵢ). In other words, even if a transcript has a high inherent abundance, it may appear underrepresented in the observed reads if its effective bias is low because the sequencing process makes fragments from that transcript less likely to be generated.\n"
   ]
  },
  {
   "cell_type": "code",
   "execution_count": 15,
   "metadata": {},
   "outputs": [],
   "source": [
    "def estimate_effective_bias(\n",
    "    transcripts: dict[str, str],\n",
    "    frag_len_dist,\n",
    "    pos_bias,\n",
    "    gc_bias,\n",
    "    n_samples=1000,\n",
    "):\n",
    "    \"\"\"\n",
    "    Estimate the effective bias factor p_i for each transcript i.\n",
    "\n",
    "    The effective bias is computed by Monte Carlo sampling valid fragments from each\n",
    "    transcript and averaging the product of the positional and GC bias.\n",
    "\n",
    "    Parameters:\n",
    "        transcripts: Dictionary mapping transcript ID to sequence.\n",
    "        frag_len_dist: Function that returns an integer fragment length.\n",
    "        pos_bias : Function (start, transcript_length) -> float.\n",
    "        gc_bias : function\n",
    "            Function (gc_frac) -> float.\n",
    "        n_samples : int\n",
    "            Number of Monte Carlo samples per transcript.\n",
    "        rng : np.random.Generator, optional\n",
    "            Random number generator.\n",
    "\n",
    "    Returns:\n",
    "        Dictionary mapping transcript ID to effective bias p_i.\n",
    "    \"\"\"\n",
    "    eff_bias = {}\n",
    "    for tx_id, seq in transcripts.items():\n",
    "        L_tx = len(seq)\n",
    "        bias_values = []\n",
    "        for _ in range(n_samples):\n",
    "            L = frag_len_dist()\n",
    "            # Only sample if the transcript is long enough for this fragment.\n",
    "            if L >= L_tx:\n",
    "                continue  # Skip this sample if transcript is too short.\n",
    "            max_start = L_tx - L\n",
    "            start = rng.integers(low=0, high=max_start + 1)\n",
    "            frag_seq = seq[start : start + L]\n",
    "            b = 1.0\n",
    "            if pos_bias:\n",
    "                b *= pos_bias(start, L_tx)\n",
    "            if gc_bias:\n",
    "                # Compute GC fraction in the fragment.\n",
    "                gc_count = frag_seq.count(\"G\") + frag_seq.count(\"C\")\n",
    "                gc_frac = gc_count / float(len(frag_seq))\n",
    "                b *= gc_bias(gc_frac)\n",
    "            bias_values.append(b)\n",
    "        # If no valid fragments were sampled, set effective bias to 0.\n",
    "        if bias_values:\n",
    "            eff_bias[tx_id] = float(np.mean(bias_values))\n",
    "        else:\n",
    "            eff_bias[tx_id] = 0.0\n",
    "    return eff_bias"
   ]
  },
  {
   "cell_type": "code",
   "execution_count": 16,
   "metadata": {},
   "outputs": [],
   "source": [
    "def negative_log_likelihood(alpha, counts, effective_bias, tx_ids):\n",
    "    \"\"\"\n",
    "    Compute the negative log likelihood given the candidate alpha.\n",
    "\n",
    "    The predicted probability for transcript i is:\n",
    "        p_i_pred = (alpha[i] * effective_bias[i]) / sum_j (alpha[j] * effective_bias[j])\n",
    "\n",
    "    We assume the observed counts follow a multinomial distribution.\n",
    "\n",
    "    Parameters:\n",
    "        alpha : np.ndarray\n",
    "            Candidate alpha vector (should sum to 1).\n",
    "        counts : dict[str, int]\n",
    "            Observed read counts for each transcript.\n",
    "        effective_bias : dict[str, float]\n",
    "            Effective bias factors for each transcript.\n",
    "        tx_ids : list[str]\n",
    "            Ordered list of transcript IDs.\n",
    "\n",
    "    Returns:\n",
    "        nll : float\n",
    "            Negative log likelihood.\n",
    "    \"\"\"\n",
    "    # Compute denominator: sum over transcripts\n",
    "    numerators = np.array(\n",
    "        [alpha[i] * effective_bias[tx_id] for i, tx_id in enumerate(tx_ids)]\n",
    "    )\n",
    "    denom = np.sum(numerators)\n",
    "    if denom == 0:\n",
    "        return np.inf\n",
    "    # Compute predicted probabilities per transcript.\n",
    "    p_pred = numerators / denom\n",
    "    # Build observed frequency vector (using the order tx_ids).\n",
    "    obs = np.array([counts.get(tx_id, 0) for tx_id in tx_ids])\n",
    "    # To avoid log(0), add a small epsilon.\n",
    "    epsilon = 1e-12\n",
    "    nll = -np.sum(obs * np.log(p_pred + epsilon))\n",
    "    return nll"
   ]
  },
  {
   "cell_type": "code",
   "execution_count": 17,
   "metadata": {},
   "outputs": [],
   "source": [
    "def read_likelihood_for_transcript(\n",
    "    read, transcript_seq, pos_bias, gc_bias, epsilon=1e-6\n",
    "):\n",
    "    \"\"\"\n",
    "    Compute the likelihood of a read given a transcript.\n",
    "\n",
    "    The function looks for the read's fragment (read[2]) in the transcript sequence.\n",
    "    If found, it uses the alignment start position to compute a positional bias and computes\n",
    "    GC bias from the read fragment. If not found, returns a small epsilon.\n",
    "\n",
    "    Parameters:\n",
    "        read : tuple\n",
    "            A tuple (true_tx, start, frag_seq) for the read.\n",
    "        transcript_seq : str\n",
    "            Sequence of the transcript.\n",
    "        pos_bias : function\n",
    "            Function taking (start_index, transcript_length) and returning a bias value.\n",
    "        gc_bias : function\n",
    "            Function taking GC fraction (a float) and returning a bias value.\n",
    "        epsilon : float\n",
    "            Background likelihood if the read does not align.\n",
    "\n",
    "    Returns:\n",
    "        likelihood : float\n",
    "            Likelihood of observing the read given the transcript.\n",
    "    \"\"\"\n",
    "    frag_seq = read[2]\n",
    "    # Look for the fragment in the transcript.\n",
    "    alignment_start = transcript_seq.find(frag_seq)\n",
    "    if alignment_start == -1:\n",
    "        return epsilon\n",
    "    else:\n",
    "        bias_val = pos_bias(alignment_start, len(transcript_seq))\n",
    "        gc_count = frag_seq.count(\"G\") + frag_seq.count(\"C\")\n",
    "        gc_frac = gc_count / float(len(frag_seq)) if len(frag_seq) > 0 else 0.0\n",
    "        return bias_val * gc_bias(gc_frac)"
   ]
  },
  {
   "cell_type": "code",
   "execution_count": 18,
   "metadata": {},
   "outputs": [],
   "source": [
    "def estimate_alpha_em(\n",
    "    transcripts, simulated_reads, pos_bias, gc_bias, max_iter=100, tol=1e-6\n",
    "):\n",
    "    \"\"\"\n",
    "    Estimate transcript proportions using an EM algorithm that considers\n",
    "    the likelihood of each read aligning to each transcript, where the likelihood\n",
    "    incorporates positional and GC bias.\n",
    "\n",
    "    Args:\n",
    "        transcripts : dict[str, str]\n",
    "            Dictionary mapping transcript IDs to sequences.\n",
    "        simulated_reads : list of tuples\n",
    "            Each tuple is (true_transcript_id, start_pos, fragment_seq).\n",
    "        pos_bias : function\n",
    "            Positional bias function.\n",
    "        gc_bias : function\n",
    "            GC bias function.\n",
    "        max_iter : int\n",
    "            Maximum number of EM iterations.\n",
    "        tol : float\n",
    "            Convergence tolerance.\n",
    "\n",
    "    Returns:\n",
    "        Estimated transcript proportions.\n",
    "    \"\"\"\n",
    "    tx_ids = list(transcripts.keys())\n",
    "    M = len(tx_ids)\n",
    "    N = len(simulated_reads)\n",
    "\n",
    "    # Initialize alpha uniformly.\n",
    "    alpha = np.ones(M) / M\n",
    "\n",
    "    for iteration in range(max_iter):\n",
    "        # E-step: compute responsibilities for each read.\n",
    "        responsibilities = np.zeros((N, M))\n",
    "        for i, read in enumerate(simulated_reads):\n",
    "            likelihoods = np.zeros(M)\n",
    "            for j, tx_id in enumerate(tx_ids):\n",
    "                L = read_likelihood_for_transcript(\n",
    "                    read, transcripts[tx_id], pos_bias, gc_bias\n",
    "                )\n",
    "                likelihoods[j] = alpha[j] * L\n",
    "            # Normalize responsibilities for this read.\n",
    "            total = likelihoods.sum() + 1e-12  # prevent division by zero\n",
    "            responsibilities[i, :] = likelihoods / total\n",
    "\n",
    "        # M-step: update alpha based on responsibilities.\n",
    "        new_alpha = responsibilities.sum(axis=0) / N\n",
    "\n",
    "        # Check for convergence.\n",
    "        if np.linalg.norm(new_alpha - alpha) < tol:\n",
    "            alpha = new_alpha\n",
    "            break\n",
    "        alpha = new_alpha\n",
    "\n",
    "    est_alpha = {tx_id: alpha[j] for j, tx_id in enumerate(tx_ids)}\n",
    "    return est_alpha"
   ]
  },
  {
   "cell_type": "code",
   "execution_count": 19,
   "metadata": {},
   "outputs": [
    {
     "name": "stdout",
     "output_type": "stream",
     "text": [
      "Estimated transcript proportions\n",
      "  txA: 0.3380\n",
      "  txB: 0.6620\n"
     ]
    }
   ],
   "source": [
    "# Estimate transcript proportions using the EM algorithm.\n",
    "est_alpha = estimate_alpha_em(\n",
    "    transcriptome, simulated_reads_with_biases, positional_bias_example, gc_bias_example\n",
    ")\n",
    "print(\"Estimated transcript proportions\")\n",
    "for tx, a in est_alpha.items():\n",
    "    print(f\"  {tx}: {a:.4f}\")"
   ]
  }
 ],
 "metadata": {
  "kernelspec": {
   "display_name": "sci",
   "language": "python",
   "name": "python3"
  },
  "language_info": {
   "codemirror_mode": {
    "name": "ipython",
    "version": 3
   },
   "file_extension": ".py",
   "mimetype": "text/x-python",
   "name": "python",
   "nbconvert_exporter": "python",
   "pygments_lexer": "ipython3",
   "version": "3.13.2"
  }
 },
 "nbformat": 4,
 "nbformat_minor": 2
}
