{
 "cells": [
  {
   "cell_type": "markdown",
   "metadata": {},
   "source": [
    "<h1 style=\"margin-bottom: 2.0em; text-align: center;\">\n",
    "    <b>CBit</b> 07\n",
    "</h1>\n",
    "\n",
    "In this session, you will develop key skills for using NumPy for scientific Python.\n",
    "\n",
    "**Tip:** You can peruse the following resources to help you with Python.\n",
    "\n",
    "-   [Think Python](https://allendowney.github.io/ThinkPython/)\n",
    "-   [Python Data Science Handbook](https://jakevdp.github.io/PythonDataScienceHandbook/)\n",
    "-   [Python Programming and Numerical Methods](https://pythonnumericalmethods.studentorg.berkeley.edu/notebooks/Index.html)\n",
    "-   [SciPy lectures](https://scipy-lectures.org/intro/)\n",
    "-   [Python Breadcrumbs](https://python.crumblearn.org/data/)"
   ]
  },
  {
   "cell_type": "markdown",
   "metadata": {},
   "source": [
    "## Getting started with NumPy\n",
    "\n",
    "NumPy gives us many tools relating to arrays/matrices -- N-dimensional tables that we can use to hold values.\n",
    "These are incredibly useful not only for storage purposes (having everything together in one place is nice!), but NumPy also optimizes operations on matrices to be **incredibly fast**.\n",
    "This makes NumPy arrays an incredible tool -- you have powerful storage, powerful methods associated with that storage, and on top of it all, it's quick!\n",
    "\n",
    "But where the heck do we start?"
   ]
  },
  {
   "cell_type": "markdown",
   "metadata": {},
   "source": [
    "Before we can start working with NumPy, we first need to import it into our Python environment.\n",
    "This is done using the following statement:"
   ]
  },
  {
   "cell_type": "code",
   "execution_count": null,
   "metadata": {},
   "outputs": [],
   "source": [
    "import numpy as np"
   ]
  },
  {
   "cell_type": "markdown",
   "metadata": {},
   "source": [
    "This line of code does a few important things:\n",
    "\n",
    "- It **loads** the NumPy library, making all of its powerful functionality available for use in our script or interactive environment.\n",
    "- The `as np` part is an **alias**, meaning that instead of typing out `numpy` every time we need to access one of its functions, we can simply use `np`. This makes our code cleaner and easier to read.\n",
    "- This alias is a **convention** in the Python community—most tutorials, documentation, and libraries assume that NumPy is imported as `np`.\n",
    "  Following this convention makes your code more readable and understandable to others.\n"
   ]
  },
  {
   "cell_type": "markdown",
   "metadata": {},
   "source": [
    "NumPy (`np`) allows you to create arrays based off of lists.\n",
    "This is great!\n",
    "We can apply the same kind of list fundamentals that we know, but now to this new data structure.\n",
    "For example, say I wanted to create a 1D `np` array, with the values `0`, `10`, `23`, `547384`, `28`.\n",
    "I can do so like this:"
   ]
  },
  {
   "cell_type": "code",
   "execution_count": null,
   "metadata": {},
   "outputs": [],
   "source": [
    "my_values = []\n",
    "my_np_array = np.array(my_values)"
   ]
  },
  {
   "cell_type": "markdown",
   "metadata": {},
   "source": [
    "Pretty much any list can become an `np` array, including **lists of lists**.\n",
    "This means that `np` arrays don't have to just be arrays, but they can become ***MATRICES!***\n",
    "Now they can become REALLY powerful!"
   ]
  },
  {
   "cell_type": "code",
   "execution_count": null,
   "metadata": {},
   "outputs": [],
   "source": [
    "# Create a 2x3 `np` array, with R1 = 0, 1, 2 and R2 = 2, 1, 0\n",
    "my_values = [[0, 1, 2], [\"What should go here?\"]]\n",
    "my_np_array = np.array(my_values)\n",
    "print(my_np_array)"
   ]
  },
  {
   "cell_type": "markdown",
   "metadata": {},
   "source": [
    "With that in mind, let's tackle an `np` array creation problems."
   ]
  },
  {
   "cell_type": "code",
   "execution_count": null,
   "metadata": {},
   "outputs": [],
   "source": [
    "# Give me a 3 x 3 `np` array, where each COLUMN follows the sequence 0, 1, 2.\n",
    "# To begin, think of what this would look like! Draw it out!\n",
    "\n",
    "# We know lists of lists are essentially lists of rows that we stack together -- lets break things down into ROWS.\n",
    "row_1 = [] # What goes in each of these?\n",
    "row_2 = []\n",
    "row_3 = []\n",
    "# We'll then want to combine them somehow to actually make our 3x3 matrix (with Python lists).\n",
    "my_combined_rows = [] # What should go inside of the list?\n",
    "\n",
    "# And now, let's make it into an `np` array!\n",
    "my_epic_array = # And how can I make my 2D array?"
   ]
  },
  {
   "cell_type": "markdown",
   "metadata": {},
   "source": [
    "Storing stuff in arrays is great and all, but eventually, we'll want to get those items back! How can we do that?\n",
    "Well, just like with lists, you can use ***INDEXING!!!***.\n",
    "If list indexing is still a little fuzzy, don't worry!\n",
    "`np` uses a lot of the same concepts, and we'll be going through them 🥳.\n",
    "\n",
    "Python is a 0-indexed programming language -- most are (unlike R.) -- which means when we store items in data structures such as lists (or arrays!), they'll have a number associated with their position, starting from 0.\n",
    "Think of it like a house number."
   ]
  },
  {
   "cell_type": "code",
   "execution_count": null,
   "metadata": {},
   "outputs": [],
   "source": [
    "my_amazing_list = np.array([\"Cesar\", \"is\", \"a\", \"TA\"])\n",
    "\n",
    "# If we're starting at 0, that means in this lift of FOUR ELEMENTS, we'll have indices 0, 1, 2, and 3. In that exact order!\n",
    "# The third item in this array is index #____\n",
    "# The first item in this array is index #____\n",
    "# The index of \"TA\" is index #____\n",
    "\n",
    "# There are cool hardware reasons for why this is, so if you're interested in learning a little more, shoot me an email!"
   ]
  },
  {
   "cell_type": "markdown",
   "metadata": {},
   "source": [
    "Knowing the position is half the battle -- now we want to be able to actually grab those items!\n",
    "We can do that with ***array indexing***.\n",
    "The syntax for this is:"
   ]
  },
  {
   "cell_type": "code",
   "execution_count": null,
   "metadata": {},
   "outputs": [],
   "source": [
    "# Ignore this!\n",
    "the_house_number = 0\n",
    "where_im_storing_it = np.array([\"random shmrandom!\"])\n",
    "\n",
    "#######################################################\n",
    "# TADA!\n",
    "the_item_i_want = where_im_storing_it[the_house_number]\n",
    "#######################################################\n",
    "\n",
    "# We can then print it out!\n",
    "print(the_item_i_want)"
   ]
  },
  {
   "cell_type": "markdown",
   "metadata": {},
   "source": [
    "Those brackets are the bread and butter -- when we put them next to where we're storing our items (our `np` array 😀), it's telling our computer \"Hey! I want an item from this storage!\".\n",
    "Let's try some examples!"
   ]
  },
  {
   "cell_type": "code",
   "execution_count": null,
   "metadata": {},
   "outputs": [],
   "source": [
    "# Let's create an `np` array that has these items: \"villainry\", \"hijinks\", \"evil\", \"mischief\"\n",
    "the_evil_array = # Recall how we created them up above!\n",
    "\n",
    "# Now, we're going to start getting some items!\n",
    "the_first_item = the_evil_array[0]\n",
    "the_second_item = the_evil_array[\"What goes here?\"]\n",
    "the_last_item = # What goes here?"
   ]
  },
  {
   "cell_type": "markdown",
   "metadata": {},
   "source": [
    "But you might be wondering -- woah woah woah.\n",
    "This seems to be only for 1D array!\n",
    "In computational biology, I'll definitely have more dimensions than that (you probably will)!\n",
    "Well, we with `np`, we're able to index through SEVERAL DIMENSIONS OF AN ARRAY!\n",
    "\n",
    "`np` lets you do this by comma-separating indices in the bracket notation.\n",
    "Think of each individual index as corresponding to a dimension in your array -- the first is rows, the second columns, the third depth, and so on."
   ]
  },
  {
   "cell_type": "code",
   "execution_count": null,
   "metadata": {},
   "outputs": [],
   "source": [
    "# Let's create a 2x3 `np` array -- the first row should contain the values\n",
    "# \"Programming\", \"is\", \"awesome\", and the second row should contain the\n",
    "# values \"I\", \"love\", \"BIOSC1540\".\n",
    "the_awesome_array = # How should we do this? Recall the example from above!\n",
    "\n",
    "# We should then have an array that looks a little like this (figuratively):\n",
    "#          C0             C1         C2\n",
    "#     -----------------------------------------\n",
    "#  R0 | \"Programming\" |  \"is\"  |   \"awesome\"  |\n",
    "#     -----------------------------------------\n",
    "#  R1 |      \"I\"      | \"love\" | \"BIOSC 1540\" |\n",
    "#     -----------------------------------------\n",
    "\n",
    "# I can then grab specific values from the cells! Say I want \"I\",\n",
    "# which is the second (1st index) row, and the first (what index?) column.\n",
    "item_i_want = the_awesome_array[1, 0]\n",
    "print(item_i_want)\n",
    "\n",
    "# BOOM!\n",
    "# How would I grab \"BIOSC 1540\"? Let's think it through!\n",
    "row_index = # What row is it in?\n",
    "col_index = # what column is it in?\n",
    "item_i_want = the_awesome_array[row_index, col_index]\n",
    "print(item_i_want)\n",
    "\n",
    "# AWESOME SAUCE! Let's do one more!\n",
    "# How could I grab \"awesome\"?\n",
    "item_i_want = # What do I put here?\n",
    "print(item_i_want)\n",
    "\n",
    "# WOOOHOOOO!!!!!\n",
    "# Remember that this also applies for any N dimensions in an array, up to four\n",
    "# quadrillion (or however big a number your computer can handle). We usually deal with 2D\n",
    "# but if you're curious, you'd just keep comma-separating indices for each dimension. "
   ]
  },
  {
   "cell_type": "markdown",
   "metadata": {},
   "source": [
    "But now, we can get even crazier.\n",
    "Because, a lot of the time, we don't just want one item -- we want several!\n",
    "We can do this with ***SLICING!!***.\n",
    "Slicing is a powerful tool that lets us specify ranges of indices.\n",
    "The syntax for this is:"
   ]
  },
  {
   "cell_type": "code",
   "execution_count": null,
   "metadata": {},
   "outputs": [],
   "source": [
    "the_new_and_improved_array = np.array([0, 1, 2, 3, 4])\n",
    "start_index = 1 # When do we want to start including items?\n",
    "stop_index = 3 # At what index do we STOP including items -- this index wouldn't be included!\n",
    "\n",
    "# We get items from start_index, until right before stop_index!\n",
    "the_item_i_want = the_new_and_improved_array[start_index:stop_index]\n",
    "# In math, the notation would be like [start_index, stop_index), if that clarifies things!\n",
    "\n",
    "# ALSO! If you want ALL of a dimension, you can just use \":\"! You could use this to\n",
    "# grab all rows, but a separate specific column index, for example."
   ]
  },
  {
   "cell_type": "markdown",
   "metadata": {},
   "source": [
    "Think of these slices as their own individual indices -- that means for indexing through several dimensions of our table, the same comma separation rule applies. Let's try some examples!"
   ]
  },
  {
   "cell_type": "code",
   "execution_count": null,
   "metadata": {},
   "outputs": [],
   "source": [
    "amazing_array = np.array([[10, 20, 30, 40], [11, 22, 33, 44], [1, 2, 3, 4]])\n",
    "# 10 20 30 40\n",
    "# 11 22 33 44\n",
    "# 1  2  3  4\n",
    "\n",
    "# Let's try getting some specific chunks of values!\n",
    "# Let's get the lower four -- 11, 22, 1, and 2.\n",
    "# This would be rows 2 and 3, columns 1 and 2\n",
    "                # Start at row index 1, go until row index 3\n",
    "                # Start at col index 0, go until col index 2\n",
    "our_chunk = amazing_array[1:3, 0:2]\n",
    "\n",
    "# How about the other lower four? 33, 44, 3, and 4?\n",
    "# What rows would this be?\n",
    "row_index_start = #\n",
    "row_index_end = #\n",
    "\n",
    "# What columns would this be?\n",
    "col_index_start = #\n",
    "col_index_end = #\n",
    "\n",
    "our_chunk = amazing_array[row_index_start:row_index_end, \"What goes here?\"]\n",
    "\n",
    "# Final test! This one's for all the marbles (not really)\n",
    "# Let's get the central upper four -- 20, 30, 22, and 33\n",
    "our_chunk = # What goes here? Break it down like above!"
   ]
  },
  {
   "cell_type": "markdown",
   "metadata": {},
   "source": [
    "Now lets tackle a problem from start to finish."
   ]
  },
  {
   "cell_type": "code",
   "execution_count": null,
   "metadata": {},
   "outputs": [],
   "source": [
    "# Consider this array, representing blocks in New York City and their population density.\n",
    "# Each individual cell is one block's population density.:\n",
    "nyc_density = np.array([\n",
    "    [80, 36, 41, 18, 74],\n",
    "    [68, 1,  1,  99, 61],\n",
    "    [10, 10, 11, 21, 100],\n",
    "    [70, 72, 41, 57, 28],\n",
    "    [1,  2,  3,  4,  5],\n",
    "])\n",
    "\n",
    "# We're building a park, and we're hoping to put it right smack in the middle -- we want to occupy the central 9 squares.\n",
    "# But the first thing we need to know is who is in there? Print out this subset of the array.\n",
    "\n",
    "# Consider what row indices the middle 9 squares would occupy\n",
    "# Consider what col indices the middle 9 squares would occupy\n",
    "# Put it together!\n",
    "potential_park = # What would go here?\n",
    "print(potential_park)"
   ]
  },
  {
   "cell_type": "markdown",
   "metadata": {},
   "source": [
    "# Getting started with Matplotlib\n",
    "\n",
    "Matplotlib (`mpl`) has a pretty consistent syntax of plotting y's against x's, or y's against categories!\n",
    "We'll walk through the syntax below."
   ]
  },
  {
   "cell_type": "code",
   "execution_count": null,
   "metadata": {},
   "outputs": [],
   "source": [
    "import matplotlib.pyplot as plt"
   ]
  },
  {
   "cell_type": "code",
   "execution_count": null,
   "metadata": {},
   "outputs": [],
   "source": [
    "# We'll have some array for our x values!\n",
    "x = np.array([1, 2, 3, 4, 5])\n",
    "# And some array for our y values!\n",
    "y = np.array([10, 20, 15, 25, 30])\n",
    "\n",
    "# We'll set up our fig/ax -- this allows us to easily do more complex stuff down the line (which we won't touch on right now)\n",
    "fig, ax = plt.subplots()\n",
    "\n",
    "# And we can plot! .plot here plots a line plot by default -- we can label it with label\n",
    "ax.plot(x, y, label=\"Sales Over Time\")  # Fill in the y-values\n",
    "\n",
    "ax.set_xlabel(\"Month\")\n",
    "ax.set_ylabel(\"Sales\")\n",
    "ax.set_title(\"Monthly Sales Trend\")\n",
    "ax.legend()\n",
    "\n",
    "plt.show()"
   ]
  },
  {
   "cell_type": "markdown",
   "metadata": {},
   "source": [
    "But the biggest thing to remember with `mpl` is that you definitely do not have to know specifically *how* to implement what plot you want upfront!\n",
    "There are a multitude of resources to consult, such as the Python graph library, stack overflow, or good old documentation! So let's search -- how can we try plotting a bar graph with categorical labels?\n",
    "To Google!"
   ]
  },
  {
   "cell_type": "code",
   "execution_count": null,
   "metadata": {},
   "outputs": [],
   "source": []
  }
 ],
 "metadata": {
  "kernelspec": {
   "display_name": "sci",
   "language": "python",
   "name": "python3"
  },
  "language_info": {
   "codemirror_mode": {
    "name": "ipython",
    "version": 3
   },
   "file_extension": ".py",
   "mimetype": "text/x-python",
   "name": "python",
   "nbconvert_exporter": "python",
   "pygments_lexer": "ipython3",
   "version": "3.13.2"
  }
 },
 "nbformat": 4,
 "nbformat_minor": 2
}
