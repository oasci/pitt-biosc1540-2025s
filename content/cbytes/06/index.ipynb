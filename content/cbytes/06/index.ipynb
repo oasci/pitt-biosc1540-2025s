{
 "cells": [
  {
   "cell_type": "markdown",
   "metadata": {},
   "source": [
    "<h1 style=\"margin-bottom: 2.0em; text-align: center;\">\n",
    "    <b>CBit</b> 06\n",
    "</h1>\n",
    "\n",
    "In this session, you will develop key programming skills required for sequence alignment using the Needleman-Wunsch algorithm.\n",
    "You will work with:\n",
    "\n",
    "- Lists and nested lists to store biological sequences.\n",
    "- For loops and nested loops to manipulate matrices.\n",
    "- Functions to write reusable and modular code.\n",
    "- Debugging techniques to ensure correctness.\n",
    "\n",
    "By the end of this session, you will implement a function that initializes the Needleman-Wunsch alignment matrix.\n",
    "\n",
    "**Tip:** You can peruse [Think Python](https://allendowney.github.io/ThinkPython/) for more material and help with Python."
   ]
  },
  {
   "cell_type": "markdown",
   "metadata": {},
   "source": [
    "## Lists and Indexing\n",
    "\n",
    "In Python, lists are ordered collections of elements.\n",
    "Biological sequences (such as DNA, RNA, or proteins) can be stored in lists."
   ]
  },
  {
   "cell_type": "code",
   "execution_count": null,
   "metadata": {},
   "outputs": [],
   "source": [
    "# A DNA sequence represented as a list\n",
    "dna_sequence = ['A', 'G', 'T', 'C']\n",
    "\n",
    "# Accessing elements using indexing\n",
    "print(dna_sequence[0])  # Output: 'A' (first element)\n",
    "print(dna_sequence[2])  # Output: 'T' (third element)\n",
    "print(dna_sequence[-1]) # Output: 'C' (last element)"
   ]
  },
  {
   "cell_type": "markdown",
   "metadata": {},
   "source": [
    "**Practice**\n",
    "\n",
    "1. Create a list called `protein_sequence` that stores the amino acids `\"M\"`, `\"A\"`, `\"D\"`, `\"E\"`, `\"L\"`.\n",
    "2. Print the second and second-to-last elements of your list."
   ]
  },
  {
   "cell_type": "code",
   "execution_count": null,
   "metadata": {},
   "outputs": [],
   "source": []
  },
  {
   "cell_type": "markdown",
   "metadata": {},
   "source": [
    "## Nested lists (Matrices)\n",
    "\n",
    "A matrix is a two-dimensional data structure, where each row contains multiple elements.\n",
    "In Python, we represent a matrix as a list of lists."
   ]
  },
  {
   "cell_type": "code",
   "execution_count": null,
   "metadata": {},
   "outputs": [],
   "source": [
    "# A 3x3 matrix represented as a list of lists\n",
    "matrix = [\n",
    "    [0, 1, 2],\n",
    "    [3, 4, 5],\n",
    "    [6, 7, 8]\n",
    "]\n",
    "\n",
    "# Accessing elements\n",
    "print(matrix[0][1])  # Output: 1 (first row, second column)\n",
    "print(matrix[2][2])  # Output: 8 (third row, third column)"
   ]
  },
  {
   "cell_type": "markdown",
   "metadata": {},
   "source": [
    "**Practice**\n",
    "\n",
    "1. Create a 4x4 matrix filled with zeros.\n",
    "2. Modify the value at row index 2, column index 3 to be `5`, then print the updated matrix."
   ]
  },
  {
   "cell_type": "code",
   "execution_count": null,
   "metadata": {},
   "outputs": [],
   "source": []
  },
  {
   "cell_type": "markdown",
   "metadata": {},
   "source": [
    "## Using Nested Loops to Populate a Matrix\n",
    "\n",
    "To initialize a matrix, we need to iterate through its rows and columns. We use nested loops for this."
   ]
  },
  {
   "cell_type": "code",
   "execution_count": null,
   "metadata": {},
   "outputs": [],
   "source": [
    "rows = 3\n",
    "cols = 4\n",
    "matrix = []\n",
    "\n",
    "# Filling the matrix using nested loops\n",
    "for i in range(rows):  \n",
    "    row = []  # Create an empty row\n",
    "    for j in range(cols):\n",
    "        row.append(i + j)  # Fill with a computed value\n",
    "    matrix.append(row)  # Add row to the matrix\n",
    "\n",
    "# Printing the matrix\n",
    "for row in matrix:\n",
    "    print(row)"
   ]
  },
  {
   "cell_type": "markdown",
   "metadata": {},
   "source": [
    "**Practice**\n",
    "\n",
    "1. Modify the nested loop to create a 5×5 matrix where each value is `i * j`.\n",
    "2. Print the resulting matrix."
   ]
  },
  {
   "cell_type": "code",
   "execution_count": null,
   "metadata": {},
   "outputs": [],
   "source": []
  },
  {
   "cell_type": "markdown",
   "metadata": {},
   "source": [
    "## Initializing the First Row and Column of Needleman-Wunsch\n",
    "\n",
    "The first row and first column of the Needleman-Wunsch matrix represent gap penalties. If the gap penalty is `-2`, the first row should be `[0, -2, -4, -6, ...]`."
   ]
  },
  {
   "cell_type": "code",
   "execution_count": null,
   "metadata": {},
   "outputs": [],
   "source": [
    "def initialize_nw_matrix(seq_a: str, seq_b: str, gap_score: int) -> list[list[int]]:\n",
    "    \"\"\"\n",
    "    Initializes the Needleman-Wunsch alignment matrix.\n",
    "    \"\"\"\n",
    "    m = len(seq_a) + 1  # Number of rows\n",
    "    n = len(seq_b) + 1  # Number of columns\n",
    "\n",
    "    # Create a matrix filled with zeros\n",
    "    matrix = [[0 for _ in range(n)] for _ in range(m)]\n",
    "\n",
    "    # Initialize first row\n",
    "    for i in range(n):\n",
    "        matrix[0][i] = i * gap_score\n",
    "\n",
    "    # Initialize first column\n",
    "    for i in range(m):\n",
    "        matrix[i][0] = i * gap_score\n",
    "\n",
    "    return matrix\n",
    "\n",
    "# Example usage\n",
    "seq_a = \"AGT\"\n",
    "seq_b = \"AC\"\n",
    "gap_score = -2\n",
    "matrix = initialize_nw_matrix(seq_a, seq_b, gap_score)\n",
    "\n",
    "# Print the matrix\n",
    "for row in matrix:\n",
    "    print(row)"
   ]
  },
  {
   "cell_type": "markdown",
   "metadata": {},
   "source": [
    "**Practice**\n",
    "\n",
    "1. Modify the function to use a gap score of -1 instead of -2.\n",
    "2. Add a print statement inside the loop to track how the matrix is being filled."
   ]
  },
  {
   "cell_type": "code",
   "execution_count": null,
   "metadata": {},
   "outputs": [],
   "source": []
  },
  {
   "cell_type": "markdown",
   "metadata": {},
   "source": [
    "## Debugging and Understanding the Output\n",
    "\n",
    "Many errors in dynamic programming algorithms come from incorrect matrix indexing or loop iteration. To debug, print the matrix step by step.\n",
    "\n",
    "Modify the function to print each step of matrix initialization:"
   ]
  },
  {
   "cell_type": "code",
   "execution_count": null,
   "metadata": {},
   "outputs": [],
   "source": [
    "def debug_initialize_nw_matrix(seq_a: str, seq_b: str, gap_score: int):\n",
    "    m = len(seq_a) + 1\n",
    "    n = len(seq_b) + 1\n",
    "    matrix = [[0 for _ in range(n)] for _ in range(m)]\n",
    "\n",
    "    # Initialize first row\n",
    "    for i in range(n):\n",
    "        matrix[0][i] = i * gap_score\n",
    "        print(f\"Updated row 0, col {i}: {matrix[0]}\")  # Debugging print\n",
    "\n",
    "    # Initialize first column\n",
    "    for i in range(m):\n",
    "        matrix[i][0] = i * gap_score\n",
    "        print(f\"Updated col 0, row {i}: {[row[0] for row in matrix]}\")  # Debugging print\n",
    "\n",
    "    return matrix\n",
    "\n",
    "# Test the debugging function\n",
    "debug_initialize_nw_matrix(\"AGT\", \"AC\", -2)"
   ]
  },
  {
   "cell_type": "markdown",
   "metadata": {},
   "source": [
    "**Practice**\n",
    "\n",
    "1. Run the function and analyze how the first row and column are filled step by step.\n",
    "2. Identify what happens if you mistakenly start the loop at `1` instead of `0`."
   ]
  },
  {
   "cell_type": "code",
   "execution_count": null,
   "metadata": {},
   "outputs": [],
   "source": []
  },
  {
   "cell_type": "markdown",
   "metadata": {},
   "source": [
    "## Final Challenge\n",
    "\n",
    "Modify `initialize_nw_matrix()` to:\n",
    "- Accept a starting score instead of `0`.\n",
    "- Allow a custom function for computing penalties.\n",
    "- Improve the format of printed output for readability."
   ]
  },
  {
   "cell_type": "markdown",
   "metadata": {},
   "source": []
  }
 ],
 "metadata": {
  "kernelspec": {
   "display_name": "sci",
   "language": "python",
   "name": "python3"
  },
  "language_info": {
   "codemirror_mode": {
    "name": "ipython",
    "version": 3
   },
   "file_extension": ".py",
   "mimetype": "text/x-python",
   "name": "python",
   "nbconvert_exporter": "python",
   "pygments_lexer": "ipython3",
   "version": "3.13.2"
  }
 },
 "nbformat": 4,
 "nbformat_minor": 2
}
