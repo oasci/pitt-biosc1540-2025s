{
 "cells": [
  {
   "cell_type": "markdown",
   "metadata": {},
   "source": [
    "<h1 style=\"margin-bottom: 2.0em; text-align: center;\">\n",
    "    <b>CBit</b> 09\n",
    "</h1>\n",
    "\n",
    "With our experience in using NumPy and MatPlotLib, we're prepared to tackle a real problem in computational structural biology!\n",
    "Here's the setting of our problem for today.\n",
    "\n",
    "We've run MD simulations on **two proteins** (Chain Q and Chain P) in **two different pH environments** -- pH 7, and pH 5.\n",
    "After these simulations, we've calculated the RMSF (the Root Mean Square Fluctuation) of **each residue** (from 21 to 293), of each protein, in each environment.\n",
    "This leaves us with data in the format of `prsa2-rmsf.csv`:\n",
    "\n",
    "- A column, `Residue ID`, that contains the ID of each residue\n",
    "- A column, `Q pH 7`, that contains the RMSF of the residue in that row, for Chain Q, in pH 7\n",
    "- A column, `P pH 7`, that contains the RMSF of the residue in that row, for Chain P, in pH 7\n",
    "- A column, `Q pH 5`, that contains the RMSF of the residue in that row, for Chain Q, in pH 5\n",
    "- A column, `P pH 5`, that contains the RMSF of the residue in that row, for Chain Q, in pH 5\n",
    "\n",
    "For example, the first row contains information relating to the 21st (`21` in `Residue ID`) residue in Chain Q and Chain P.\n",
    "The 21st residue of Chain Q has an RMSF of `2.880` in pH 7 and `4.354` in pH 5. The 21st residue of Chain P has an RMSF of `2.221` in pH 7 and `1.186` in pH 5.\n",
    "\n",
    "Our task is to recreate the following plots, using the afformentioned data:\n",
    "\n",
    "![Alt text](./rmsf-prsa2.svg)\n",
    "\n",
    "![Alt text](./rmsf-prsa2-ph-diff.svg)\n",
    "\n",
    "The first plot depicts an RMSF comparison between different pH settings for each residue for each chain, with each chain's plot being side-by-side.\n",
    "The second plot depicts the difference in RMSF between different pH settings for each residue for a given chain, with each chain having a line on the same plot (note also the horizontal dotted line!)."
   ]
  },
  {
   "cell_type": "markdown",
   "metadata": {},
   "source": [
    "The first thing we need to worry about is loading in our data.\n",
    "We'll want to load in the .CSV into NumPy array format.\n",
    "Don't stress about losing the column labels (however we'll still need to account for them -- you'll see)! We know that the order of columns goes `Residue ID` (index 0)-> `Q pH 7` (index 1)-> `P pH 7` (index 2)-> `Q pH 5` (index 3)-> `P pH 5` (index 4)."
   ]
  },
  {
   "cell_type": "code",
   "execution_count": null,
   "metadata": {},
   "outputs": [],
   "source": [
    "import numpy as np\n",
    "\n",
    "# Load in the data here!\n",
    "# Look into the documentation of the NumPy function 'genfromtxt' -- .CSV files are COMMA (\",\") separated (delimited) values."
   ]
  },
  {
   "cell_type": "markdown",
   "metadata": {},
   "source": [
    "We will also want to compute the difference between the pH conditions for each chain, and have those as columns on the same NumPy array.\n",
    "It's better to do this now, that way we can *only* worry about plot formatting (arguably the most finicky part) later."
   ]
  },
  {
   "cell_type": "code",
   "execution_count": null,
   "metadata": {},
   "outputs": [],
   "source": [
    "# You might be inclined to solve this with iteration -- and you'd be right in thinking that is a correct strategy!\n",
    "# However, remember that NumPy arrays (especially in this case, where they are numbers!) are **matrices**/**vectors**. That means\n",
    "# we can use matrix/vector math in place of iteration.\n",
    "\n",
    "# If you're wondering how you can add additional columns to an existing array, look into the NumPy function 'column_stack'."
   ]
  },
  {
   "cell_type": "markdown",
   "metadata": {},
   "source": [
    "With our data properly loaded and processed, we can begin to worry about our figures. Let's first try and recreate the first figure -- the side-by-side plot.\n",
    "\n",
    "The hardest part will be making sure everything \"fits\" together correctly -- getting our plots side-by-side correctly, colors correct, etc. A lot of that may come down to fiddling around with MatPlotLib functions/methods, and that's perfectly okay! I have genuinely never gotten a plot correct the first time.\n",
    "\n",
    "What we can do now is get our \"absolutes\" out of the way -- features of the plot we know we will be able to just \"drop in\" to whatever MatPlotLib function we are using. Think of this as the \"traits\" of the plot: the title, the line labels (in the legend), the line colors, the data (both the x values and y values), etc.!"
   ]
  },
  {
   "cell_type": "code",
   "execution_count": null,
   "metadata": {},
   "outputs": [],
   "source": [
    "# Create your variables here to hold your plot traits -- something like this!\n",
    "# y_label = ...\n",
    "# x_label_1 = ...\n",
    "# x_label_2 = ...\n",
    "# x_data = ...\n",
    "# chain_p_5_data = ...\n",
    "# x_ticks = ...\n",
    "# ... (there's more)\n",
    "# And so on!"
   ]
  },
  {
   "cell_type": "markdown",
   "metadata": {},
   "source": [
    "And now, we can put things together! I won't give too many hints here, as this is great practice for looking into documentation and online resources -- 99% of the time taken to make a plot is looking at documentation/references of similar plots (at least for me)."
   ]
  },
  {
   "cell_type": "code",
   "execution_count": null,
   "metadata": {},
   "outputs": [],
   "source": [
    "import matplotlib.pyplot as plt\n",
    "\n",
    "# For this, you'll want to look into the \"plt.subplots\" function and the \"fig, ax = plt.subplots\" notation. With this,\n",
    "# we can create our plots to be side-by-side!\n",
    "\n",
    "# Use plt.show() to see your plot!"
   ]
  },
  {
   "cell_type": "markdown",
   "metadata": {},
   "source": [
    "Now we'll be doing a similar process for the other plot, depicting the difference in RMSF due to pH environments for our two chains. We'll want to get our absolutes out of the way, and then work on making things fit together."
   ]
  },
  {
   "cell_type": "code",
   "execution_count": null,
   "metadata": {},
   "outputs": [],
   "source": [
    "# Define your absolutes here!"
   ]
  },
  {
   "cell_type": "markdown",
   "metadata": {},
   "source": [
    "And then we can put things together! This plot will be a little easier than the last plot, as we're only doing with one subplot! However, there is that pesky dashed horizontal line -- how can we do that in MatPlotLib?"
   ]
  },
  {
   "cell_type": "code",
   "execution_count": null,
   "metadata": {},
   "outputs": [],
   "source": [
    "# Bring it all together here!"
   ]
  }
 ],
 "metadata": {
  "kernelspec": {
   "display_name": "Python 3",
   "language": "python",
   "name": "python3"
  },
  "language_info": {
   "codemirror_mode": {
    "name": "ipython",
    "version": 3
   },
   "file_extension": ".py",
   "mimetype": "text/x-python",
   "name": "python",
   "nbconvert_exporter": "python",
   "pygments_lexer": "ipython3",
   "version": "3.11.9"
  }
 },
 "nbformat": 4,
 "nbformat_minor": 2
}
